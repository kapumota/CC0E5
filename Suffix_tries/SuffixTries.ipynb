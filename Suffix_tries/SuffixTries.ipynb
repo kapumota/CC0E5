{
 "cells": [
  {
   "cell_type": "markdown",
   "id": "d945136c-3f42-4935-82c4-0c0e54c55c3b",
   "metadata": {},
   "source": [
    "### **Tries de sufijos**\n",
    "\n",
    "Presentaremos algunas notas e implementaciones de Tries de Sufijos. Trabajaremos directamente con los llamados \"tries comprimidos\". Lo que describimos en estas notas se conoce a menudo como *trie de sufijos generalizado*.\n",
    "\n",
    "Esta presentación será algo esquemática. Aunque las ideas son muy intuitivas, el *diablo* (como dicen) está en los *detalles*. Los detalles son difíciles de describir por completo y la lectura del código te dará una gran idea. Utilizamos esta presentación de dos fuentes:\n",
    "\n",
    "- El excelente libro de Dan Gusfield titulado <i>Algorithms on Strings, Trees and Sequences</i>. \n",
    "- El capítulo sobre tries de sufijos disponible en el <i>Handbook of Data-Structures</i> de Dinesh P. Mehta y Sartaj Sahni (esta es una presentación mucho más breve e incluye también una estructura de datos relacionada llamada arreglos de sufijos).\n",
    "\n",
    "Un trie de sufijos es una *estructura de datos trie* cuyo conjunto de cadenas corresponde a todos los sufijos de una cadena dada. Como ejemplo, consideremos la cadena _mamamia\\$_, donde \"\\$\" representa el carácter de terminación especial que sólo aparece al final de la cadena.\n",
    "\n",
    "* Los sufijos son { _mamamia\\$_, _amamamia\\$_, _amamia\\$_, _mamia\\$_, _amia\\$_, _mia\\$_, _ia\\$_, _a\\$_, _\\$_ }\n",
    "\n",
    "El trie de sufijos (generalizado) para la cadena \"mamamia\\$\" se muestra a continuación: \n",
    "\n",
    "<img src=\"mamamia-suffix-trie.png\" width=\"80%\"></img>\n",
    "\n",
    "Por el momento ignora las aristas punteadas rojas (se llaman enlaces de sufijo y se describirán más adelante).\n",
    "\n",
    "* Los nodos internos se muestran en azul y las hojas en verde.\n",
    "\n",
    "Cada camino desde la raíz hasta una hoja corresponde a un sufijo de la cadena (ver el conjunto más arriba) y cada sufijo pertenece con precisión a un único camino.\n",
    "\n",
    "* Cada hoja está etiquetada \"l\\<i>s\\<j>\" para dos números $i, j$, donde $i$ denota el ID y $j$ denota la posición inicial del sufijo que representa la hoja.\n",
    "\n",
    "Observa que las aristas están \"comprimidas\": cada arista está etiquetada por una subcadena de la cadena original en lugar de por un solo carácter (como en un trie regular). Además, para cada nodo interno, no hay dos aristas salientes que representen cadenas que comiencen con el mismo carácter.\n",
    "\n",
    "Por lo tanto, para cualquier cadena, existe o bien un camino único en el trie de sufijos que parte de la raíz, o no existe ningún camino. Volviendo al ejemplo \"mamamia$\":\n",
    "\n",
    "* La cadena \"amia\" recorre el camino\n",
    "  $n0 \\rightarrow n10 \\rightarrow n5 \\rightarrow ((\\text{dos caracteres de desplazamiento en la arista de } n5 \\text{ a } l6))$\n",
    "* En cambio, no hay ningún camino que corresponda a la cadena \"anana\" en el trie de sufijos.\n",
    "\n",
    "La propiedad clave de un trie de sufijos es la siguiente:\n",
    "\n",
    "<div class=\"alert alert-block\" style=\"background-color:lightcyan; border-color: black white black white; border-style:dashed\">\n",
    "    Todo camino de la raíz a una hoja corresponde a un sufijo único de la cadena, y cada sufijo corresponde a un camino único de la raíz a una hoja.\n",
    "</div>\n",
    "\n",
    "Observa que cada nodo $n$ en el trie de sufijos tiene un camino único desde la raíz hasta él, y por lo tanto tiene una cadena única $s(n)$ que nos lleva desde la raíz hasta ese nodo. Nota que $s(n)$ es vacía si $n$ es el nodo raíz.\n",
    "\n",
    "Para el trie de sufijos en el ejemplo `mamamia$` anterior, tenemos los siguientes valores de $s(n)$ para varios nodos $n$:\n",
    "\n",
    "$$\n",
    "\\begin{array}{rl}\n",
    "\\hline\n",
    "n & s(n) \\\\ \n",
    "\\hline \n",
    "n_0 & \\text{<vacío>} \\\\ \n",
    "n_7 & m \\\\ \n",
    "n_{10} & a \\\\ \n",
    "n_3 & mam \\\\ \n",
    "n_5 & am \\\\ \n",
    "\\hline\n",
    "\\end{array}\n",
    "$$\n",
    "\n",
    "### Enlaces de sufijo\n",
    "\n",
    "Los enlaces de sufijo son un atajo útil entre nodos en el árbol. Sea $n$ un nodo interno donde $s(n) = c \\alpha$, siendo $c$ un carácter y $\\alpha$ una subcadena.\n",
    "\n",
    "El enlace de sufijo es una arista de la forma\n",
    "$n \\rightarrow m$\n",
    "\n",
    "tal que $s(m) = \\alpha$.\n",
    "\n",
    "Por convención, fijaremos el enlace de sufijo de la raíz apuntando a sí misma.\n",
    "\n",
    "En el trie de sufijos del ejemplo \"mamamia$\" anterior, los enlaces de sufijo se muestran como líneas punteadas rojas.\n",
    "\n",
    "La pregunta clave es: ¿por qué un enlace de sufijo para un nodo necesita apuntar a otro nodo? ¿No podría apuntar a algún punto intermedio de la cadena que etiqueta una arista?\n",
    "\n",
    "<div class=\"alert alert-block\" style=\"background-color:lightcyan\">\n",
    "Sea $n$ un nodo interno tal que $s(n) = c \\alpha$. Debe existir un nodo interno $m$ en el trie de sufijos tal que $s(m) = \\alpha$.\n",
    "</div>\n",
    "\n",
    "**Prueba:** Observa que debe existir un camino en el árbol que corresponda a \\$\\alpha\\$. Solo necesitamos demostrar que dicho camino no puede terminar en una hoja ni en medio de una arista.\n",
    "En primer lugar, dado que $n$ es un nodo interno de un trie de sufijos comprimido, existen al menos dos sufijos en la cadena original de la forma $c \\alpha \\beta_1$ y $c \\alpha \\beta_2$ para subcadenas no vacías $\\beta_1, \\beta_2$. Por tanto, existen al menos dos sufijos $\\alpha \\beta_1$ y $\\alpha \\beta_2$, donde $\\beta_1, \\beta_2$ difieren en su primera posición. De ahí que el camino que parte de la raíz correspondiente a $\\alpha$ no pueda terminar en una hoja, pues deben existir caminos para $\\alpha \\beta\\_1$ y $\\alpha \\beta_2$. Tampoco puede terminar en medio de una arista por la misma razón: $\\beta_1, \\beta_2$ difieren en la primera posición.\n",
    "\n",
    "### Implementación\n",
    "\n",
    "Representaremos la raíz y los nodos internos usando la clase `SuffixTrieNode` que sigue.\n",
    "Almacena los siguientes campos:\n",
    "\n",
    "* `orig_str`: la cadena original.\n",
    "* `outgoing_edges`: un diccionario que mapea caracteres a la arista saliente que comienza con ese carácter.\n",
    "* `suffix_link`: el enlace de sufijo del nodo, si existe.\n",
    "* `depth`: el número de caracteres en la cadena única que lleva desde la raíz hasta el nodo.\n",
    "* `id`: un número/ID único para el nodo. Reservamos el id `0` para la raíz.\n",
    "* `parent`: un puntero al padre del nodo. Esto se establece en `None` para la raíz.\n"
   ]
  },
  {
   "cell_type": "code",
   "execution_count": null,
   "id": "1e7f4ba3",
   "metadata": {
    "ExecuteTime": {
     "end_time": "2024-03-28T16:04:53.416988Z",
     "start_time": "2024-03-28T16:04:53.402215Z"
    }
   },
   "outputs": [],
   "source": [
    "class SuffixTrieNode:\n",
    "    \n",
    "    def __init__(self, node_id, orig_str):\n",
    "        self.orig_str = orig_str # una referencia a la cadena completa\n",
    "        self.outgoing_edges = {} # diccionario de caracteres a aristas\n",
    "        self.suffix_link = None  # enlace de sufijo: inicialmente se establece como None\n",
    "        self.id = node_id # Nota: id == 0 se toma como raíz por ahora.\n",
    "        self.depth = 0 # profundidad automáticamente establecida cuando se asigna el padre\n",
    "        self.parent = None # puntero al nodo padre\n",
    "        \n",
    "    def is_root(self):\n",
    "        return self.id == 0\n",
    "        \n",
    "    def get_edge(self, char):\n",
    "        if char in self.outgoing_edges:\n",
    "            return self.outgoing_edges[char]\n",
    "        else:\n",
    "            return None\n",
    "        \n",
    "    def is_leaf(self):\n",
    "        return False\n",
    "    \n",
    "    def add_suffix_link(self, node):\n",
    "        self.suffix_link = node\n",
    "        \n",
    "    def add_outgoing_edge(self, new_edge):\n",
    "        edge_init_char = new_edge.get_char_at(0)\n",
    "        # asegura de que no existe ya una arista con el carácter inicial\n",
    "        assert edge_init_char not in self.outgoing_edges, f\"El char {edge_init_char} ya tiene una lista saliente para id del nodo:{self.id}\"\n",
    "        # asegura  de que el nodo origen de la nueva arista coincide con self\n",
    "        assert new_edge.src.id == self.id, f\"El nodo src en la arista saliente id:{new_edge.src.id} no coincide con el id del nodo {self.id}\"\n",
    "        # añade la nueva arista al diccionario usando el carácter inicial como clave\n",
    "        self.outgoing_edges[edge_init_char] = new_edge\n",
    "        # añade un puntero al padre desde el destino hacia el origen de la nueva arista\n",
    "        new_edge.dest.parent = new_edge.src # establece el puntero al padre en el destino de la nueva arista\n",
    "        if not new_edge.is_leaf_edge(): # establece la profundidad del nodo destino para esta arista\n",
    "            new_edge.dest.depth = self.depth + new_edge.length()\n",
    "       \n",
    "    def find_edge_corresponding_to_child(self, child_node):\n",
    "        # busca entre las aristas salientes para ver si hay una cuyo destino sea el nodo hijo\n",
    "        for (_, edge) in self.outgoing_edges.items():\n",
    "            if edge.dest.id == child_node.id:\n",
    "                return edge\n",
    "        return None # no se encontró dicha arista\n"
   ]
  },
  {
   "cell_type": "markdown",
   "id": "0766f76d",
   "metadata": {},
   "source": [
    "Usaremos la estructura `SuffixTrieLeaf` para representar las hojas del trie de sufijos.\n",
    "Las hojas tendrán un campo `suffix_start_pos` que nos indica en qué posición de la cadena original comienza el sufijo correspondiente al camino desde la raíz hasta la hoja.\n",
    "\n",
    "Volviendo al ejemplo del trie de sufijos mostrado más arriba para \"mamamia\\$\", hemos etiquetado cada hoja (en verde) como `l<id>s<suffix_start_pos>`, lo que nos da la posición inicial del sufijo que corresponde a dicha hoja.\n"
   ]
  },
  {
   "cell_type": "code",
   "execution_count": null,
   "id": "0d887858",
   "metadata": {
    "ExecuteTime": {
     "end_time": "2024-03-28T16:04:53.424059Z",
     "start_time": "2024-03-28T16:04:53.420373Z"
    }
   },
   "outputs": [],
   "source": [
    "class SuffixTrieLeaf:\n",
    "    def __init__(self, node_id, orig_str, suffix_start_pos):\n",
    "        self.orig_str = orig_str               # la cadena original\n",
    "        self.id = node_id                      # el identificador de este nodo\n",
    "        assert 0 <= suffix_start_pos < len(orig_str), \"Posición de sufijo fuera de rango\"\n",
    "        self.suffix_start_pos = suffix_start_pos  # posición inicial del sufijo en la cadena original\n",
    "        self.parent = None                     # puntero al nodo padre, inicialmente None\n",
    "        \n",
    "    def is_leaf(self):\n",
    "        return True  # indica que este nodo es una hoja\n"
   ]
  },
  {
   "cell_type": "markdown",
   "id": "43e7a42e",
   "metadata": {},
   "source": [
    "La estructura `SuffixTrieEdge` representa una arista. Una arista va desde el nodo `src` hasta el nodo `dest`, que puede ser un nodo interno o una hoja.\n",
    "\n",
    "Además, la arista tiene dos enteros `lo` y `hi` que hacen referencia a posiciones en la cadena. La arista se interpreta como la subcadena que va desde la posición `lo` hasta la posición `hi`, inclusive. Ten en cuenta que `hi = -1` representa el final de la cadena.\n"
   ]
  },
  {
   "cell_type": "code",
   "execution_count": null,
   "id": "6f14c6c6",
   "metadata": {
    "ExecuteTime": {
     "end_time": "2024-03-28T16:04:53.433933Z",
     "start_time": "2024-03-28T16:04:53.426101Z"
    }
   },
   "outputs": [],
   "source": [
    "class SuffixTrieEdge:\n",
    "    \n",
    "    def __init__(self, orig_str, src_node, dest_node, lo, hi):\n",
    "        assert 0 <= lo < len(orig_str) # lo debe ser una posición válida en la cadena original\n",
    "        # si el nodo destino es una hoja entonces hi == -1, de lo contrario hi != -1\n",
    "        if dest_node.is_leaf():\n",
    "            assert hi == -1 \n",
    "        else:\n",
    "            assert lo <= hi <= len(orig_str)\n",
    "        assert not src_node.is_leaf() # el nodo origen no puede ser una hoja\n",
    "        # la arista representa str[lo]...str[hi] inclusive si hi != -1\n",
    "        # o str[lo] ... str[fin]\n",
    "        self.orig_str = orig_str # asigna el campo orig_str\n",
    "        self.lo = lo # asigna lo/hi\n",
    "        self.hi = hi \n",
    "        self.src = src_node # asigna src/dest\n",
    "        self.dest = dest_node\n",
    "        \n",
    "    def is_leaf_edge(self):\n",
    "        return self.hi == -1\n",
    "    \n",
    "    def length(self):\n",
    "        if self.hi == -1:\n",
    "            return -1\n",
    "        else:\n",
    "            return self.hi - self.lo + 1\n",
    "    \n",
    "    def get_char_at(self, offs):\n",
    "        assert self.hi == -1 or offs + self.lo <= self.hi\n",
    "        return self.orig_str[self.lo + offs]\n",
    "    \n",
    "    \n",
    "    def get_sub_str(self, end=-1):\n",
    "        if self.hi == -1:\n",
    "            return self.orig_str[self.lo:end] if (end != -1) else self.orig_str[self.lo:]\n",
    "        else:\n",
    "            return self.orig_str[self.lo:self.hi+1]\n",
    "        \n",
    "        \n",
    "    def reset_hi_and_dest(self, new_dest, new_hi):\n",
    "        assert new_hi >= self.lo, f\"No se puede reemplazar hi por {new_hi}\"\n",
    "        assert not new_dest.is_leaf(), \"No se puede reemplazar el destino por un nodo hoja\"\n",
    "        self.hi = new_hi\n",
    "        new_dest.parent = self.src\n",
    "        new_dest.depth = self.src.depth + self.length()\n",
    "        self.dest = new_dest\n"
   ]
  },
  {
   "cell_type": "markdown",
   "id": "b5766f68",
   "metadata": {},
   "source": [
    "Como ayuda, definiremos una estructura llamada `TrieAddress` para referirnos a ubicaciones dentro de un trie de sufijos. Una dirección de trie puede ser de dos tipos:\n",
    "\n",
    "* Un nodo (que puede ser la raíz o un nodo interno) del trie, o\n",
    "* Una tupla `(nodo, arista, desplazamiento)` que consiste en:\n",
    "\n",
    "  * El `nodo` interno o raíz\n",
    "  * Una `arista` que debe ser una de las salientes desde ese `nodo`\n",
    "  * Un `desplazamiento` que debe estar entre 1 y (longitud de la arista − 1)\n",
    "\n",
    "Una dirección permite apuntar a una ubicación en el trie que puede estar en un nodo o en algún punto \"intermedio\" de una arista.\n",
    "\n",
    "Por ejemplo, `TrieAddress(n7, n7 → n3, 1)` se refiere a un puntero que señala justo después del carácter `a` en la arista etiquetada `am` que va de `n7` a `n3`.\n",
    "\n",
    "Del mismo modo, `TrieAddress(n7, None, 0)` apunta al nodo interno `n7`. Si el trie de sufijos fuera en realidad un \"trie completo\" donde cada arista estuviera etiquetada por un solo carácter (en lugar de un trie comprimido, donde cada arista puede llevar una subcadena arbitraria), una dirección de trie simplemente señalaría a un nodo de ese trie completo.\n",
    "\n",
    "La clase `TrieAddress` implementa tres métodos auxiliares críticos:\n",
    "\n",
    "1. **`address.traverse_next(c)`**:\n",
    "   Dada una dirección `address` y encontrarse a continuación con el carácter `c`, encuentra la siguiente dirección correspondiente a avanzar sobre `c`.\n",
    "\n",
    "2. **`address.compute_suffix()`**:\n",
    "   Cada dirección corresponde a una subcadena única que nos lleva desde la raíz hasta esa dirección. Supongamos que esa cadena es de la forma \\$c\\alpha\\$; `compute_suffix` busca la dirección que corresponde a la subcadena \\$\\alpha\\$ (es decir, \"quitar\" el primer carácter).\n",
    "\n",
    "3. **`address.create_new_edge_at(i)`**:\n",
    "\n",
    "   * Si `address` apunta a un nodo interno, crea una nueva arista cuyo destino es una hoja nueva que representa el sufijo que empieza en la posición `i` de la cadena original.\n",
    "   * Si `address` apunta en medio de una arista, \"parte\" esa arista en dos y crea la arista interna y la hoja correspondientes al nuevo sufijo.\n",
    "\n",
    "Todas estas rutinas son algo complejas porque deben manejar distintos casos; los comentarios en el código te ayudarán a seguir la lógica. Se proporcionan ejemplos de cada rutina basados en el ejemplo en curso de \"mamamia\\$\".\n"
   ]
  },
  {
   "cell_type": "code",
   "execution_count": null,
   "id": "478a66ed",
   "metadata": {
    "ExecuteTime": {
     "end_time": "2024-03-28T19:25:02.546064Z",
     "start_time": "2024-03-28T19:25:02.525843Z"
    }
   },
   "outputs": [],
   "source": [
    "class TrieAddress:\n",
    "    \n",
    "    def __init__(self,  node, edge=None, offs=0):\n",
    "        assert 0 <= offs \n",
    "        self.node = node # establece el nodo\n",
    "        self.edge = edge # establece la arista\n",
    "        self.offs = offs # establece el desplazamiento (offset)\n",
    "        if self.edge != None:\n",
    "            assert self.offs > 0\n",
    "        else:\n",
    "            assert self.offs == 0\n",
    "    \n",
    "    def traverse_next(self, c):\n",
    "        \"\"\"Función traverse_next: encuentra la siguiente dirección (si existe)\n",
    "           al encontrar el carácter c. Devuelve la nueva dirección si existe, \n",
    "           o None en caso contrario.\"\"\"\n",
    "        if self.edge == None: # ¿La dirección apunta a un nodo interno?\n",
    "            # Sí: la dirección es solo un puntero a un nodo interno/raíz.\n",
    "            # comprobar si el nodo tiene una arista de salida correspondiente a 'c'\n",
    "            new_edge = self.node.get_edge(c) # intentar obtener una arista para el carácter `c`\n",
    "            if new_edge == None:\n",
    "                return None # no existe tal arista, entonces devolver None\n",
    "            else: # new_edge != None\n",
    "                assert new_edge.get_char_at(0) == c # se obtuvo una arista, comprobar que es la correcta\n",
    "                if new_edge.is_leaf_edge() or new_edge.length() > 1: # si la arista es hoja o tiene longitud mayor a 1\n",
    "                    return TrieAddress( self.node, new_edge,  1 ) # devuelve la dirección con desplazamiento 1 dentro de la nueva arista\n",
    "                else:\n",
    "                    new_node = new_edge.dest # la arista no es hoja y debe tener longitud uno\n",
    "                    return TrieAddress( new_node, None, 0) # la dirección ahora es el nodo destino\n",
    "        else: # self.edge != None\n",
    "            # No: la dirección apunta offs posiciones más allá de self.node a lo largo de self.edge\n",
    "            edge = self.edge \n",
    "            if edge.lo + self.offs < len(edge.orig_str) and edge.get_char_at(self.offs) == c: # si el siguiente carácter es `c`\n",
    "                if edge.is_leaf_edge() or self.offs < edge.length() -1 : # si la arista es hoja o hay más caracteres\n",
    "                    return TrieAddress(self.node, self.edge, self.offs+1) # devuelve una nueva dirección con offset incrementado\n",
    "                else:\n",
    "                    dest_node = edge.dest # llegamos al nodo destino\n",
    "                    return TrieAddress( dest_node, None, 0) # devuelve la dirección al nodo destino\n",
    "            else: # el siguiente carácter no es `c`\n",
    "                return None # no hay dirección siguiente\n",
    "            \n",
    "    def compute_suffix(self, debug=False):\n",
    "        # para calcular el sufijo, seguir el enlace de sufijo desde el nodo fuente\n",
    "        #                      para llegar a un nuevo nodo fuente\n",
    "        #                     luego, obtener la arista apropiada\n",
    "        #                     finalmente, avanzar una distancia de offs en la arista\n",
    "        node = self.node # desempaquetar\n",
    "        edge = self.edge \n",
    "        offs = self.offs \n",
    "        if node.id == 0 and offs <= 1: # Si estamos en la raíz, el sufijo es el mismo\n",
    "                return TrieAddress(node, None, 0) # mantiene el mismo sufijo\n",
    "        if node.id == 0: # si estamos en la raíz, el nodo sufijo es la raíz\n",
    "            s_node = node\n",
    "        else:\n",
    "            s_node = node.suffix_link # de lo contrario, seguir el enlace de sufijo\n",
    "            assert s_node != None # asegura que el enlace de sufijo existe\n",
    "        \n",
    "        if edge == None: # si la dirección apunta directamente a un nodo\n",
    "            return TrieAddress(s_node, None, offs) # el sufijo apunta al nodo de sufijo\n",
    "        \n",
    "        if node.id == 0: # ¿estamos en la raíz?\n",
    "            c = edge.get_char_at(1) # obtiene el carácter en posición 1 de la arista\n",
    "            s_edge = node.get_edge(c) # obtiene la arista de salida correspondiente a c\n",
    "            assert s_edge != None, f\"No hay arista para el carácter {c} en el nodo {node.id}\"\n",
    "            offs = offs - 1 # el sufijo es offs - 1 a lo largo de s_edge\n",
    "            fwd = 1 # indica que se avanzó un paso\n",
    "            if debug:\n",
    "                print(f\"Debug: Buscando {offs} tras {s_edge.src.id, s_edge.dest.id}\")\n",
    "        else:\n",
    "            c = edge.get_char_at(0) # obtiene el primer carácter de la arista\n",
    "            s_edge = s_node.get_edge(c) # obtiene la arista correspondiente en el nodo de sufijo\n",
    "            fwd = 0\n",
    "            assert s_edge != None, f\"No hay arista para el carácter {c} en el nodo {s_node.id}\"\n",
    "            if debug:\n",
    "                print(f\"Debug: Buscando {offs} tras {s_edge.src.id, s_edge.dest.id}\")\n",
    "\n",
    "        assert s_edge != None # asegura que existe la arista\n",
    "        # ahora se debe encontrar la posición offs desde s_node a lo largo de s_edge\n",
    "        if s_edge.is_leaf_edge() or offs < s_edge.length(): \n",
    "            # si la arista es hoja o el offset es menor que su longitud\n",
    "            return TrieAddress(s_node, s_edge, offs) # encontramos la dirección deseada en s_edge\n",
    "        else:\n",
    "            new_offs = offs # de lo contrario, recorrer offset desde s_node\n",
    "            # puede que se necesite cruzar múltiples nodos/aristas\n",
    "            while (not s_edge.is_leaf_edge()) and new_offs >= s_edge.length():\n",
    "                new_offs = new_offs - s_edge.length() # avanzar una arista\n",
    "                fwd = fwd + s_edge.length()\n",
    "                s_node = s_edge.dest # moverse al nodo destino\n",
    "                if new_offs > 0:\n",
    "                    c = edge.get_char_at(fwd) # obtiene siguiente carácter\n",
    "                    s_edge = s_node.get_edge(c)\n",
    "                    assert s_edge != None\n",
    "                else:\n",
    "                    break\n",
    "            if new_offs > 0:\n",
    "                return TrieAddress(s_node, s_edge, new_offs)\n",
    "            else:\n",
    "                return TrieAddress(s_node, None, 0)\n",
    "\n",
    "    def create_new_edge_at(self, orig_str, i, node_id):\n",
    "        \"\"\"Crear una nueva arista hoja en el trie de sufijos \n",
    "           insertando el carácter orig_str[i].\"\"\"\n",
    "        assert i >= 0 and i < len(orig_str) # i debe ser un índice válido\n",
    "        c = orig_str[i]  # obtiene el carácter\n",
    "        node = self.node # desempaqueta\n",
    "        edge = self.edge \n",
    "        offs = self.offs\n",
    "        if edge == None: # si la dirección apunta a un nodo interno\n",
    "            assert offs == 0\n",
    "            assert node.get_edge(orig_str[i]) == None, f\"El nodo {node.id} ya tiene una arista de salida para {orig_str[i]}\"\n",
    "            new_leaf = SuffixTrieLeaf(node_id, orig_str, i - node.depth) # crea un nuevo nodo hoja destino\n",
    "            new_edge = SuffixTrieEdge(orig_str, node, new_leaf, i, -1) # crea una arista hoja\n",
    "            node.add_outgoing_edge(new_edge) # agrega  al nodo actual\n",
    "            return (node, new_leaf, False) # devuelve nodo de inserción, hoja nueva y que no se creó nodo interno\n",
    "        else:\n",
    "            assert edge.get_char_at(offs) != c, f'{edge.get_char_at(offs)}, {c}' # si el siguiente carácter es c, esta función no debería llamarse\n",
    "            # dividir la arista en dos\n",
    "            node1 = SuffixTrieNode(node_id, orig_str) # crea nuevo nodo\n",
    "            src_node = edge.src \n",
    "            dest_node = edge.dest \n",
    "            lo = edge.lo\n",
    "            hi = edge.hi\n",
    "            # modifica arista actual para que node1 sea destino y ajustar hi\n",
    "            edge.reset_hi_and_dest(node1, lo+offs-1)\n",
    "            # crea dos nuevas aristas\n",
    "            # primera: parte restante de la arista dividida\n",
    "            new_edge_1 = SuffixTrieEdge(orig_str, node1, dest_node, lo+offs, hi)\n",
    "            node1.add_outgoing_edge(new_edge_1)\n",
    "            suffix_start_pos = i - node1.depth\n",
    "            # crea nueva hoja\n",
    "            new_leaf = SuffixTrieLeaf(node_id+1, orig_str, suffix_start_pos)\n",
    "            # crea nueva arista hoja\n",
    "            new_edge_2 = SuffixTrieEdge(orig_str, node1, new_leaf, i, -1)\n",
    "            node1.add_outgoing_edge(new_edge_2)\n",
    "            return (node1, new_leaf, True) # devuelve el nodo interno nuevo, hoja nueva, True indica que se creó un nodo interno\n",
    "            \n",
    "    def is_at_root(self):\n",
    "        return self.node.id == 0 and self.offs == 0\n",
    "            \n",
    "    def compute_depth(self):\n",
    "        if self.edge == None:\n",
    "            return self.node.depth\n",
    "        else:\n",
    "            return self.node.depth + self.offs \n",
    "    \n",
    "    def __str__(self):\n",
    "        edge = self.edge\n",
    "        return f'{self.node.id}, {(edge.src.id, edge.dest.id) if edge != None else None}, {self.offs}'\n"
   ]
  },
  {
   "cell_type": "markdown",
   "id": "c7ee7eb3",
   "metadata": {},
   "source": [
    "A continuación, disponemos de una rutina muy útil para dibujar un trie de sufijos utilizando el paquete networkx en Python.\n"
   ]
  },
  {
   "cell_type": "code",
   "execution_count": null,
   "id": "fda701d5-29e0-45b0-a631-db0089bb93a4",
   "metadata": {},
   "outputs": [],
   "source": [
    "import os\n",
    "os.environ[\"PATH\"] = r\"C:\\Program Files\\Graphviz\\bin;\" + os.environ[\"PATH\"]"
   ]
  },
  {
   "cell_type": "code",
   "execution_count": null,
   "id": "4f994279",
   "metadata": {
    "ExecuteTime": {
     "end_time": "2024-03-28T16:04:54.342793Z",
     "start_time": "2024-03-28T16:04:53.461796Z"
    }
   },
   "outputs": [],
   "source": [
    "import networkx as nx\n",
    "from matplotlib import pyplot as plt\n",
    "\n",
    "def draw_networkx_graph(root, end=-1, highlight_addr=None, filename=None):\n",
    "    worklist = [root]\n",
    "    node_labels={}\n",
    "    edge_str_label = {}\n",
    "    suffix_links = [] \n",
    "    leaf_nodes = []\n",
    "    internal_nodes = []\n",
    "    G = nx.DiGraph()\n",
    "    while len(worklist) > 0:\n",
    "        node = worklist.pop()\n",
    "        G.add_node(node.id)\n",
    "        if node.is_leaf():\n",
    "            leaf_nodes.append(node.id)\n",
    "            node_labels[node.id]= \"l\"+str(node.id) + \"s\"+str(node.suffix_start_pos)\n",
    "            continue\n",
    "        else:\n",
    "            internal_nodes.append(node.id)\n",
    "            node_labels[node.id]= \"n\"+str(node.id)\n",
    "        if node.suffix_link != None:\n",
    "            suffix_links.append((node.id, node.suffix_link.id))\n",
    "        for (c, edge) in node.outgoing_edges.items():\n",
    "            (u, v) = (edge.src.id, edge.dest.id)\n",
    "            G.add_edge(u, v)\n",
    "            s = edge.get_sub_str(end)\n",
    "            edge_str_label[(u,v)] = s\n",
    "            worklist.append(edge.dest)            \n",
    "    pos = nx.nx_agraph.graphviz_layout(G, prog=\"dot\")  # posicion para todos los nodos\n",
    "    fig, ax = plt.subplots()\n",
    "    fig.set_tight_layout(True)\n",
    "    nx.draw_networkx_nodes(G, pos=pos, nodelist=internal_nodes,  node_shape=\"s\", node_color=\"lightcyan\")\n",
    "    nx.draw_networkx_nodes(G, pos=pos, nodelist=leaf_nodes, node_shape=\"s\", node_color=\"lightgreen\")\n",
    "    nx.draw_networkx_edges(G, pos=pos,width=2.0)\n",
    "    nx.draw_networkx_labels(G, pos, labels=node_labels, font_size=7, font_color='k')\n",
    "    #nx.draw_networkx_edge_labels(G, pos,edge_labels=edge_char_label, font_color='red')\n",
    "    nx.draw_networkx_edge_labels(G, pos,edge_labels=edge_str_label, font_color='blue', rotate=False)\n",
    "    nx.draw_networkx_edges(G, pos, width=0.5, edgelist=suffix_links, style='dashed', edge_color='r', connectionstyle='arc3,rad=0.2')\n",
    "    if highlight_addr != None:\n",
    "        node = highlight_addr.node \n",
    "        edge = highlight_addr.edge\n",
    "        offs = highlight_addr.offs\n",
    "        nx.draw_networkx_nodes(G, pos=pos, nodelist=[node.id],  node_shape=\"s\", node_color=\"yellow\")\n",
    "\n",
    "        if edge != None:\n",
    "            nx.draw_networkx_edges(G, edgelist=[(edge.src.id, edge.dest.id)], edge_color='b', width=2, pos=pos)\n",
    "            c = edge.get_char_at(0)\n",
    "            txt = f'{offs}'\n",
    "            x0,y0 = pos[node.id]\n",
    "            x1,y1 = pos[edge.dest.id]\n",
    "            (x, y) = ((3*x0+x1)/4, (3*y0+y1)/4)\n",
    "            props = dict(boxstyle='round', facecolor='wheat', alpha=0.5)\n",
    "            plt.text(x-0.5, y+0.5, s=txt,  fontsize=8, bbox=props,horizontalalignment='center')\n",
    "        \n",
    "    ax = plt.gca()\n",
    "    ax.margins(0.20)\n",
    "    plt.axis(\"off\")\n",
    "    if filename != None:\n",
    "        plt.savefig(filename, bbox_inches='tight')\n",
    "    plt.show()\n",
    "    \n",
    "        "
   ]
  },
  {
   "cell_type": "code",
   "execution_count": null,
   "id": "53f2b95f",
   "metadata": {
    "ExecuteTime": {
     "end_time": "2024-03-28T16:04:54.686920Z",
     "start_time": "2024-03-28T16:04:54.344996Z"
    }
   },
   "outputs": [],
   "source": [
    "## Construyamos manualmente un trie de sufijos de prueba para \"mamamia\\$\"\n",
    "\n",
    "orig_str = \"mamamia$\"\n",
    "\n",
    "n3 = SuffixTrieNode(3, orig_str)\n",
    "l31 = SuffixTrieLeaf(5, orig_str, 0)\n",
    "l32 = SuffixTrieLeaf(6, orig_str, 2)\n",
    "e31 = SuffixTrieEdge(orig_str, n3, l31, 3, -1)\n",
    "e32 = SuffixTrieEdge(orig_str, n3, l32, 5, -1)\n",
    "n3.add_outgoing_edge(e31)\n",
    "n3.add_outgoing_edge(e32)\n",
    "\n",
    "n4 = SuffixTrieNode(4, orig_str)\n",
    "\n",
    "l41 = SuffixTrieLeaf(8, orig_str, 1)\n",
    "l42 = SuffixTrieLeaf(9, orig_str, 3)\n",
    "e41 = SuffixTrieEdge(orig_str, n4, l41, 3, -1)\n",
    "e42 = SuffixTrieEdge(orig_str, n4, l42, 5, -1)\n",
    "n4.add_outgoing_edge(e41)\n",
    "n4.add_outgoing_edge(e42)\n",
    "\n",
    "n1 = SuffixTrieNode(1, orig_str)\n",
    "l11 = SuffixTrieLeaf(7, orig_str, 4)\n",
    "e11 = SuffixTrieEdge(orig_str, n1, n3, 1, 2)\n",
    "e12 = SuffixTrieEdge(orig_str, n1, l11, 5, -1)\n",
    "n1.add_outgoing_edge(e11)\n",
    "n1.add_outgoing_edge(e12)\n",
    "\n",
    "\n",
    "n2 = SuffixTrieNode(2, orig_str)\n",
    "l21 = SuffixTrieLeaf(10, orig_str, 6)\n",
    "e21 = SuffixTrieEdge(orig_str, n2, n4, 2, 2)\n",
    "e22 = SuffixTrieEdge(orig_str, n2, l21, 7, -1)\n",
    "n2.add_outgoing_edge(e21)\n",
    "n2.add_outgoing_edge(e22)\n",
    "\n",
    "root = SuffixTrieNode(0, orig_str)\n",
    "l11 = SuffixTrieLeaf(11, orig_str, 5)\n",
    "l12 = SuffixTrieLeaf(12, orig_str, 7)\n",
    "e01 = SuffixTrieEdge(orig_str, root, n1, 0, 0 )\n",
    "e02 = SuffixTrieEdge(orig_str, root, n2, 1, 1)\n",
    "e03 = SuffixTrieEdge(orig_str, root, l11, 5, -1)\n",
    "e04 = SuffixTrieEdge(orig_str, root, l12, 7,-1)\n",
    "root.add_outgoing_edge(e01)\n",
    "root.add_outgoing_edge(e02)\n",
    "root.add_outgoing_edge(e03)\n",
    "root.add_outgoing_edge(e04)\n",
    "root.add_suffix_link(root)\n",
    "n1.add_suffix_link(root)\n",
    "n2.add_suffix_link(root)\n",
    "n3.add_suffix_link(n4)\n",
    "n4.add_suffix_link(n1)\n",
    "\n",
    "draw_networkx_graph(root)"
   ]
  },
  {
   "cell_type": "markdown",
   "id": "d0921de1",
   "metadata": {},
   "source": [
    "Ahora mostraremos el uso de algunos de los métodos creados más arriba. Crearemos inicialmente una dirección `(root, None, 0)` y llamaremos a varios de sus métodos.\n"
   ]
  },
  {
   "cell_type": "code",
   "execution_count": null,
   "id": "58e8d4e5",
   "metadata": {
    "ExecuteTime": {
     "end_time": "2024-03-28T16:04:54.693123Z",
     "start_time": "2024-03-28T16:04:54.689093Z"
    }
   },
   "outputs": [],
   "source": [
    "addr0 = TrieAddress(root)  # dirección que apunta a la raíz\n",
    "addr1 = addr0.traverse_next('m')  # ahora debería apuntar al nodo n1\n",
    "print(f\"addr1 = ({addr1})\")\n",
    "addr2 = addr1.traverse_next('i')  # ahora debería apuntar a n1, a lo largo de la arista (n1 -> l7), desplazamiento 1\n",
    "print(f\"addr2 = ({addr2})\")\n",
    "addr3 = addr2.compute_suffix()  # ahora debería apuntar a n0, a lo largo de la arista (n0 -> l11), desplazamiento = 1\n",
    "print(f\"addr3 = {addr3}\")\n",
    "addr4 = addr3.compute_suffix()  # ahora debería apuntar únicamente a n0\n",
    "print(f\"addr4 = {addr4}\")\n"
   ]
  },
  {
   "cell_type": "markdown",
   "id": "f6bd725b",
   "metadata": {},
   "source": [
    "#### Creación de un Trie de Sufijos: Algoritmo Ineficiente\n",
    "\n",
    "Ahora presentaremos un algoritmo sencillo pero ineficiente para crear un trie de sufijos. La idea es recorrer cada sufijo uno por uno e insertarlo en el árbol, partiendo de un trie vacío.\n"
   ]
  },
  {
   "cell_type": "code",
   "execution_count": null,
   "id": "86cd60a8",
   "metadata": {
    "ExecuteTime": {
     "end_time": "2024-03-28T16:04:54.699891Z",
     "start_time": "2024-03-28T16:04:54.695243Z"
    }
   },
   "outputs": [],
   "source": [
    "def make_suffix_trie_simple(orig_str): \n",
    "    # Inserta el sufijo comenzando desde la posición j de orig_str en el trie.\n",
    "    root = SuffixTrieNode(0, orig_str)\n",
    "    n = len(orig_str)\n",
    "    node_list = [root]\n",
    "    for j in range(n):\n",
    "        addr = TrieAddress(root) # inicializa la dirección en la raíz (posición 0)\n",
    "        for i in range(j, n):\n",
    "            # intenta avanzar un paso más desde la dirección actual con el carácter orig_str[i]\n",
    "            addr1 = addr.traverse_next(orig_str[i])\n",
    "            if addr1 == None:\n",
    "                # aquí es donde necesitamos insertar\n",
    "                (next_node, leaf_node, newly_created) = addr.create_new_edge_at(orig_str, i, len(node_list) )\n",
    "                node_list.append(leaf_node)\n",
    "                if newly_created:\n",
    "                    node_list.append(next_node)\n",
    "                break \n",
    "            else:\n",
    "                addr = addr1\n",
    "    return root\n"
   ]
  },
  {
   "cell_type": "code",
   "execution_count": null,
   "id": "0dae045d",
   "metadata": {
    "ExecuteTime": {
     "end_time": "2024-03-28T16:04:54.991004Z",
     "start_time": "2024-03-28T16:04:54.701953Z"
    }
   },
   "outputs": [],
   "source": [
    "root = make_suffix_trie_simple(\"mamamia$\")\n",
    "draw_networkx_graph(root)"
   ]
  },
  {
   "cell_type": "markdown",
   "id": "4c952592",
   "metadata": {},
   "source": [
    "Observa que los enlaces de sufijo faltan. Sin embargo, podemos crearlos a posteriori de forma eficiente. Exploraremos esto como parte de nuestro conjunto de ejercicios.\n",
    "\n",
    "La complejidad total es \\$O(m^2)\\$ para una cadena de longitud \\$m\\$. Tenemos \\$m\\$ sufijos que insertar y el sufijo en la posición \\$j\\$ tiene tamaño \\$m - j\\$. El tiempo total es proporcional a\n",
    "\n",
    "$$\n",
    "\\sum_{j=0}^{m} (m - j) \\;=\\; O(m^2).\n",
    "$$\n"
   ]
  },
  {
   "cell_type": "code",
   "execution_count": null,
   "id": "a5aefc82",
   "metadata": {
    "ExecuteTime": {
     "end_time": "2024-03-28T18:30:28.733827Z",
     "start_time": "2024-03-28T18:30:28.283346Z"
    }
   },
   "outputs": [],
   "source": [
    "root = make_suffix_trie_simple(\"BANANA$\")\n",
    "draw_networkx_graph(root, filename=\"fig1.png\")"
   ]
  },
  {
   "cell_type": "markdown",
   "id": "85a420df",
   "metadata": {},
   "source": [
    "\n",
    "### Algoritmo de Ukkonen\n",
    "\n",
    "Ahora discutiremos un algoritmo $O(m)$ para construir tries de sufijos. De hecho, es el algoritmo más eficiente posible. Es algo complejo y depende de muchas mejoras sobre un algoritmo base bastante ineficiente que servirá como punto de partida.\n",
    "\n",
    "#### Algoritmo base\n",
    "\n",
    "El algoritmo base construye una secuencia de tries de sufijos implícitos $T_0, T_1, \\ldots, T_m$ donde $T_0$ es el trie vacío, $T_1$ es el trie para $s[0]$ y, en general, $T_i$ es el trie de sufijos (implícito) para la subcadena $\n",
    "s[0], s[1], \\ldots, s[i-1]$.\n",
    "\n",
    "Extendemos $T_i$ a $T_{i+1}$ añadiendo el carácter $s[i]$. Esto se denomina fase $\\#\\,i$ del algoritmo.\n",
    "\n",
    "* $T_0$ es el árbol vacío con solo un nodo raíz.\n",
    "* para $i = 0$ hasta $m-1$\n",
    "\n",
    "  * Extender $T_i$ a $T_{i+1}$ insertando el carácter $s[i]$ al final.\n",
    "\n",
    "La *extensión* de $T_i$ a $T_{i+1}$ ocurre en $i+1$ pasos de extensión, cada paso $j$ añadiendo $s[i]$ al final del sufijo $s[j] \\ldots s[i-1]$.\n",
    "\n",
    "El algoritmo base completo es:\n",
    "\n",
    "1. $T_0$ es el árbol vacío con solo un nodo raíz.\n",
    "2. para $i = 0$ hasta $m-1$:\n",
    "\n",
    "   1. para $j = 0$ hasta $i$:\n",
    "\n",
    "      1. Encontrar la ubicación en el árbol correspondiente a la subcadena $s[j] \\ldots s[i-1]$ (el nodo raíz si la subcadena está vacía).\n",
    "      2. Insertar $s[i]$ en esa ubicación según las Reglas 1–3 descritas a continuación.\n",
    "\n",
    "Las tres reglas para insertar $c = s[i]$ son:\n",
    "\n",
    "* **Regla 1**: si la ubicación en el árbol es un nodo hoja, añadimos el carácter $c$ al final de la arista única que va del padre del nodo hasta él.\n",
    "* **Regla 2**: si la ubicación en el árbol es un nodo interno o un nodo interno más un desplazamiento a lo largo de una arista:\n",
    "\n",
    "  1. Si la ubicación es un nodo interno que no tiene una arista saliente para $c$, añadimos dicha arista saliente a un nodo hoja nuevo, etiquetada con $c$.\n",
    "  2. Si la ubicación es un nodo interno más arista y desplazamiento, y el siguiente carácter no es $c$, partimos la arista en el desplazamiento creando un nodo interno nuevo y dos aristas nuevas; una de ellas irá etiquetada con $c$.\n",
    "* **Regla 3**: si la ubicación en el árbol es un nodo interno o un nodo interno más desplazamiento:\n",
    "\n",
    "  1. Si la ubicación es un nodo interno que ya tiene una arista saliente para $c$, no hacemos nada.\n",
    "  2. Si la ubicación es un nodo interno más arista y desplazamiento, y el siguiente carácter **es** $c$, no hacemos nada.\n",
    "\n",
    "#### Ejemplos\n",
    "\n",
    "Supongamos que construimos el trie para la cadena `mamamia$` y ya hemos construido $T_4$, que es el trie para la subcadena `mama`. <img src=\"mamamia$.3.png\" width=\"60%\"></img>\n",
    "\n",
    "Ignora por ahora la anotación `2` en la arista azul. Queremos extenderlo a $T_5$, el trie para `mamam`. Debemos extender $T_4$ añadiendo el carácter `m` al final, considerando cinco extensiones:\n",
    "\n",
    "* **E1**: `mama` -> `mamam` (Regla 1)\n",
    "* **E2**: `ama` -> `amam` (Regla 1)\n",
    "* **E3**: `ma` -> `mam` (Regla 2)\n",
    "* **E4**: `a` -> `am` (Regla 3)\n",
    "* **E5**: insertar `m` en la raíz (Regla 3)\n",
    "\n",
    "Nótese que E1 y E2 siguen la Regla 1, ya que extienden una arista que termina en hoja añadiendo un carácter.\n",
    "\n",
    "E3, E4 y E5 siguen la Regla 3 porque las subcadenas `mam`, `am` y `m` ya existen en el trie.\n"
   ]
  },
  {
   "attachments": {},
   "cell_type": "markdown",
   "id": "5ff3d9ab",
   "metadata": {},
   "source": [
    "El resultado se muestra a continuación. <img src=\"mamamia$.4.png\" width=\"60%\"></img>\n",
    "\n",
    "A continuación, queremos insertar el carácter \"i\" para pasar de $T_5$ a $T_6$. Debemos considerar 6 extensiones:\n",
    "\n",
    "* **E1**: `mamam` -> `mamami` (Regla 1)\n",
    "* **E2**: `amam` -> `amami` (Regla 1)\n",
    "* **E3**: `mam` -> `mami` (Regla 2)\n",
    "* **E4**: `am` -> `ami` (Regla 2)\n",
    "* **E5**: `m` -> `mi` (Regla 2)\n",
    "* **E6**: insertar `i` en la raíz (Regla 2)\n",
    "\n",
    "Observa que E3 sigue la Regla 2. La razón es que existe una arista que corresponde a `mam` en el árbol, pero el siguiente carácter en esa arista tiene que ser una `a`, mientras que queremos insertar `i`. Como resultado, la arista se parte y se añade un nuevo nodo $n_3$. De manera similar, las extensiones E4, E5 y E6 también siguen la Regla 2:\n",
    "\n",
    "* E4 conducirá a la creación de un nuevo nodo $n_5$.\n",
    "* E5 a un nuevo nodo $n_7$.\n",
    "* E6 a una nueva hoja $l_9$.\n"
   ]
  },
  {
   "attachments": {
    "mamamia$.5.png": {
     "image/png": "[encoded data removed]"
    }
   },
   "cell_type": "markdown",
   "id": "712c101d",
   "metadata": {},
   "source": [
    "El resultado es el que sigue :\n",
    "\n",
    "<img src=\"mamamia$.5.png\" width=\"60%\"></img>\n",
    "\n",
    "Ten en cuenta que podemos ir añadiendo enlaces de sufijo durante este proceso. Los nodos internos sucesivos (*no* hojas) que se *crean de nuevo* como resultado de aplicaciones consecutivas de la regla 2 deberán quedar conectados por enlaces de sufijo. Sin embargo, la cadena de enlaces de sufijo siempre terminará en el nodo raíz. Hay que tener cuidado de **no** asignar enlaces de sufijo a nodos hoja en este proceso.\n"
   ]
  },
  {
   "cell_type": "markdown",
   "id": "cdb0a6c8",
   "metadata": {},
   "source": [
    "### Más rápido\n",
    "\n",
    "Así, el algoritmo base tiene complejidad $O(m^3)$ y empeora las cosas a primera vista. Ahora trabajaremos para acelerar este proceso.\n",
    "\n",
    "* En primer lugar, evitaremos aplicar la **Regla 1** que extiende las aristas de hoja agregándoles un carácter más. Internamente etiquetaremos las aristas de hoja con un límite superior especial $-1$ que actúa como marcador de posición para la posición $i$ en el árbol $T_i$. Considerar automáticamente el nuevo $i \\leftarrow i+1$ cubre todas las posibles aplicaciones de la Regla 1 sin tener que visitarlas explícitamente.\n",
    "\n",
    "* A continuación, podemos terminar una fase tan pronto como se cumpla la **Regla 3**. Supongamos que un camino para una cadena de la forma $\\alpha c$ (donde $\\alpha$ es una subcadena y $c$ un carácter) ya existe en el trie de sufijos hasta el momento; entonces ese camino **existirá** para todos los sufijos de $\\alpha c$, y la fase puede terminar en el instante en que encontremos la Regla 3.\n",
    "\n",
    "  * De hecho, la primera vez que topamos con la Regla 3 en una fase, podemos **parar** y recordar en qué ubicación del trie estábamos. En la fase siguiente, comenzaremos directamente desde esa dirección registrada en lugar de volver a la raíz.\n",
    "\n",
    "Ya estamos listos para desarrollar el **algoritmo de Ukkonen**.\n",
    "\n",
    "La idea principal es construir el trie en fases $T_0, T_1, \\ldots, T_m$ como antes, pero optimizar la construcción de modo que el tiempo total sea $O(m)$ en todas las fases:\n",
    "\n",
    "1. **Nunca** consideramos la Regla 1. Las aristas de hoja mantendrán implícitamente un índice `hi = -1` que denota el \"final\" de la subcadena hasta ahora. En cada fase, desplazamos implícitamente ese final un carácter hacia la derecha, sin necesidad de recorrer y extender explícitamente cada arista de hoja.\n",
    "\n",
    "2. Terminamos cada fase tan pronto como se aplique la Regla 3 por primera vez. Para ello, almacenamos una **dirección** en el trie que indica dónde se produjo ese primer caso de Regla 3 en la fase anterior.\n",
    "\n",
    "   * Al inicio del algoritmo, dicha dirección se inicializa apuntando a la raíz.\n",
    "\n",
    "3. La **única** regla que puede requerir más de trabajo constante en cada fase es la **Regla 2**, que sucesivamente:\n",
    "\n",
    "   * Partirá una arista en dos, creando un nuevo nodo interno y arista, o\n",
    "   * Insertará una arista de hoja en un nodo interno ya existente.\n",
    "\n",
    "A continuación ilustraremos el funcionamiento con la cadena `\"BANANA$\"`."
   ]
  },
  {
   "attachments": {
    "BANANA$.0.png": {
     "image/png": "[encoded data removed]"
    }
   },
   "cell_type": "markdown",
   "id": "777df61b",
   "metadata": {},
   "source": [
    "#### Fase 0\n",
    "\n",
    "Insertamos el carácter `B` en el trie vacío. Se aplica la **Regla 2**. <img src=\"BANANA$.0.png\" width=\"50%\"></img>\n",
    "\n",
    "Al final, la dirección sigue apuntando a la raíz."
   ]
  },
  {
   "attachments": {
    "BANANA$.1.png": {
     "image/png": "[encoded data removed]"
    }
   },
   "cell_type": "markdown",
   "id": "7099f8d0",
   "metadata": {},
   "source": [
    "### Fase 1\n",
    "\n",
    "Insertamos el carácter `A`. La extensión `B -> BA` se realiza implícitamente (Regla 1), añadiendo simplemente una arista de hoja etiquetada `A` en la raíz. \n",
    "\n",
    "<img src=\"BANANA$.1.png\" width=\"50%\"></img>\n",
    "\n",
    "La dirección continúa apuntando a la raíz."
   ]
  },
  {
   "attachments": {
    "BANANA$.2.png": {
     "image/png": "[encoded data removed]"
    }
   },
   "cell_type": "markdown",
   "id": "43cc3f27",
   "metadata": {},
   "source": [
    "### Fase 2\n",
    "\n",
    "Insertamos el carácter `N`. Las extensiones `BA -> BAN` y `A -> AN` también se hacen implícitamente. Solo se inserta `N` en la dirección actual (la raíz). La dirección sigue siendo la raíz.\n",
    "\n",
    "<img src=\"BANANA$.2.png\" width=\"50%\"></img>"
   ]
  },
  {
   "attachments": {
    "BANANA$.3.png": {
     "image/png": "[encoded data removed]"
    }
   },
   "cell_type": "markdown",
   "id": "148e928e",
   "metadata": {},
   "source": [
    "#### Fase 3\n",
    "\n",
    "Ahora insertamos el carácter `A` al final. La dirección actual está en la raíz. Hay tres extensiones que implicarían la regla 1, pero estas no se consideran. Simplemente intentamos insertar el carácter `A` en la raíz, pero ya existe una arista etiquetada `AN`. Entonces observamos que se aplicaría la regla 3 y avanzamos una posición a lo largo de esa arista. La nueva dirección apunta a un desplazamiento de `1` en la arista `AN` saliente del nodo `n0`. La figura siguiente ilustra esto.\n",
    "\n",
    "\n",
    "<img src=\"BANANA$.3.png\" width=\"50%\"></img>"
   ]
  },
  {
   "attachments": {
    "BANANA$.4.png": {
     "image/png": "[encoded data removed]"
    }
   },
   "cell_type": "markdown",
   "id": "d901a334",
   "metadata": {},
   "source": [
    "#### Fase 4\n",
    "\n",
    "Ahora insertaremos el carácter `N` al final.\n",
    "Como la fase anterior terminó aplicando la regla 3 en la dirección `(n0, n0 -> l2, 1)` del trie, simplemente intentamos insertar `N` en esa misma ubicación. Vemos que nuevamente se cumple la regla 3, así que actualizamos la dirección a `(n0, n0 -> l2, 2)` y detenemos la fase.\n",
    "\n",
    "<img src=\"BANANA$.4.png\" width=\"50%\"></img>"
   ]
  },
  {
   "attachments": {
    "BANANA$.5.png": {
     "image/png": "[encoded data removed]"
    }
   },
   "cell_type": "markdown",
   "id": "8498a427",
   "metadata": {},
   "source": [
    "#### Fase 5\n",
    "\n",
    "Insertaremos el carácter `A` al final. Dado que la fase anterior terminó aplicando la regla 3 en la dirección `(n0, n0 -> l2, 2)` del trie, simplemente intentamos insertar `A` en esa misma ubicación. Comprobamos que de nuevo se cumple la regla 3, por lo que actualizamos la dirección a `(n0, n0 -> l2, 3)` y detenemos la fase.\n",
    "\n",
    "<img src=\"BANANA$.5.png\" width=\"50%\"></img>"
   ]
  },
  {
   "attachments": {
    "BANANA$.6.png": {
     "image/png": "[encoded data removed]"
    }
   },
   "cell_type": "markdown",
   "id": "664fcbf9",
   "metadata": {},
   "source": [
    "#### Fase 6\n",
    "\n",
    "Intentaremos insertar el carácter `$` al final. La fase anterior terminó en `(n0, n0 -> l2, 3)`. Buscamos insertar `$` en esa ubicación, pero no existe tal carácter, así que se aplica la **Regla 2** y debemos partir la arista:\n",
    "\n",
    "* Partimos la arista $n0 \\rightarrow l2$ e insertamos un nuevo nodo interno $n4$ en ese punto.\n",
    "* A continuación, seguimos el enlace de sufijo desde nuestra dirección actual e intentamos insertar `\\$` allí:\n",
    "\n",
    "  * El enlace de sufijo nos lleva a la arista $n0 \\rightarrow l3$ con desplazamiento 2.\n",
    "  * Insertamos `$` en ese lugar, lo que crea un nuevo nodo interno $n6$. Añadimos un enlace de sufijo de $n4$ a $n6$.\n",
    "  * La dirección pasa a ser $(n0,\\,n0 \\rightarrow l3,\\,2)$.\n",
    "* Luego seguimos el enlace de sufijo desde esta nueva dirección e intentamos insertar `$` de nuevo:\n",
    "\n",
    "  * El enlace de sufijo nos lleva a la arista $n0 \\rightarrow n4$ con desplazamiento 1.\n",
    "  * Insertamos `$` allí, creando un nuevo nodo interno $n8$.\n",
    "  * Añadimos un enlace de sufijo de $n6$ a $n8$.\n",
    "  * La dirección pasa a ser $(n0,0)$.\n",
    "* Finalmente, añadimos un enlace de sufijo de $n8$ a la raíz y luego insertamos `$` en la raíz, dando lugar a una nueva hoja y su arista correspondiente.\n",
    "\n",
    "<img src=\"BANANA$.6.png\" width=\"50%\"></img>\n"
   ]
  },
  {
   "cell_type": "markdown",
   "id": "ec1c55cb",
   "metadata": {},
   "source": [
    "El código completo del algoritmo se muestra a continuación. Es un algoritmo complicado (ya que hay varios casos especiales que manejar). Con suerte, la descripción anterior te da una idea de su funcionamiento. Te animamos a leer detenidamente el código y sus comentarios.\n"
   ]
  },
  {
   "cell_type": "code",
   "execution_count": null,
   "id": "23e72726",
   "metadata": {
    "ExecuteTime": {
     "end_time": "2024-03-28T16:04:55.642501Z",
     "start_time": "2024-03-28T16:04:55.633778Z"
    }
   },
   "outputs": [],
   "source": [
    "# Implementación del algoritmo de Ukkonen\n",
    "def construct_suffix_trie(orig_str, debug=False):\n",
    "    root = SuffixTrieNode(0, orig_str) # crea un nodo raíz con id = 0\n",
    "    root.add_suffix_link(root) # hace que el enlace de sufijo de la raíz apunte a sí misma\n",
    "    node_list= [root] # mantiene una lista de todos los nodos para nuestra contabilidad\n",
    "    addr = TrieAddress(root, None, 0) # inicializa la dirección apuntando a la raíz\n",
    "    n = len(orig_str)\n",
    "    for i in range(n): # recorre cada posición de la cadena original\n",
    "        # Ahora trabajaremos en la fase número i del algoritmo\n",
    "        c = orig_str[i] \n",
    "        if debug:\n",
    "            print(f\"Fase # {i}: insertando {c}\")\n",
    "        node = None # inicializa punteros a node y new_node como None\n",
    "        new_node = None # estos punteros nos ayudarán a añadir enlaces de sufijo para nodos nuevos más adelante\n",
    "        dest = addr.traverse_next(c) # intenta moverse desde la dirección actual a una nueva dirección dado el carácter `c`.\n",
    "        if dest != None:\n",
    "            addr = dest # si existe destino, simplemente actualizamos addr a ese destino y continuamos\n",
    "        else: # no existe tal destino. Se aplica la Regla #2 y debemos crear nuevos nodos internos\n",
    "            while dest == None and not addr.is_at_root(): # mientras que la dirección actual no tenga destino para el carácter c y no esté en la raíz\n",
    "                if debug:\n",
    "                    print(f\"Creando nuevo nodo con el char {orig_str[i]} en {addr}\")\n",
    "                # crea un nuevo nodo y una nueva hoja en la dirección actual\n",
    "                (new_node, new_leaf, newly_created) = addr.create_new_edge_at(orig_str, i, len(node_list))\n",
    "                if debug:\n",
    "                    print(f\"Creando un nuevo nodo: {new_node.id}\")\n",
    "                \n",
    "                if node != None and not node.is_root():\n",
    "                    node.add_suffix_link(new_node) # añade un enlace de sufijo desde el nodo previamente creado al nuevo nodo\n",
    "                    if debug:\n",
    "                        print(f\"D1: Agregando enlaces sufijos :{node.id} ---> {new_node.id}\")\n",
    "                if newly_created:\n",
    "                    node_list.append(new_node) # si se ha creado nuevo, añadirlo a la lista de nodos\n",
    "                node_list.append(new_leaf)\n",
    "                node = new_node # actualiza el puntero al nodo previamente creado\n",
    "                addr = addr.compute_suffix() # calcula el sufijo de la dirección\n",
    "                assert addr != None, f\"Calculo de sufijos fallo. \"\n",
    "                dest = addr.traverse_next(c) # ve si hay un destino con el carácter c desde la nueva dirección calculada\n",
    "                #if dest != None: # si hay destino\n",
    "                #    new_node.add_suffix_link(addr.node) # añadir el último enlace de sufijo\n",
    "                #    if debug:\n",
    "                #        print(f\"D2: Adding Suffix Link: {new_node.id} --> {addr.node.id}\")\n",
    "            # Salimos del bucle\n",
    "            # añade un enlace de sufijo desde el último nodo creado hasta la dirección actual\n",
    "            if node != None:\n",
    "                if debug:\n",
    "                    print(f\"D3: Agregando enlace sufijos: {new_node.id} --> {addr.node.id}\")\n",
    "                node.add_suffix_link(addr.node)\n",
    "            \n",
    "            if dest == None:\n",
    "                # si esto ocurre, estamos en la raíz\n",
    "                # inserta el carácter `c` aquí\n",
    "                assert addr.is_at_root()\n",
    "                (new_node, new_leaf, newly_created) = addr.create_new_edge_at(orig_str, i, len(node_list))\n",
    "                assert not newly_created \n",
    "                node_list.append(new_leaf)\n",
    "            else:\n",
    "                # esto indica que el carácter c ya existe\n",
    "                addr = dest\n",
    "        \n",
    "        if debug:\n",
    "            print(\"actualmente en: \", addr)\n",
    "            draw_networkx_graph(root, end=i+1, highlight_addr=addr, filename=f\"{orig_str}.{i}.png\")\n",
    "    return root\n"
   ]
  },
  {
   "cell_type": "markdown",
   "id": "87c76960",
   "metadata": {},
   "source": [
    "Observemos brevemente que el algoritmo se ejecuta en tiempo lineal, aunque no resulte evidente a primera vista por qué. Claramente, en cada fase el algoritmo simplemente actualiza su dirección actual (aplicando la regla 3) en tiempo $O(1)$ o pasa a una serie de aplicaciones de la regla 2. Sin embargo, el hecho clave que puede demostrarse es que el número de aplicaciones de la regla 2 no puede exceder el número de aplicaciones previas de la regla 3. Por lo tanto, podemos \"cargar\" cada aplicación de la regla 3 para sufragar el coste de una futura aplicación de la regla 2.\n",
    "\n",
    "A continuación, demostraremos su funcionamiento con algunos ejemplos.\n"
   ]
  },
  {
   "cell_type": "code",
   "execution_count": null,
   "id": "ef965cfa",
   "metadata": {
    "ExecuteTime": {
     "end_time": "2024-03-28T16:04:55.649849Z",
     "start_time": "2024-03-28T16:04:55.644821Z"
    }
   },
   "outputs": [],
   "source": [
    "def test_suffix_trie(root, orig_str):\n",
    "    # probar si construimos correctamente el trie de sufijos\n",
    "    n = len(orig_str)\n",
    "    for i in range(n):\n",
    "        addr = TrieAddress(root, None, 0)\n",
    "        for c in orig_str[i:]:\n",
    "            addr0 = addr\n",
    "            addr = addr.traverse_next(c)\n",
    "            assert addr != None, f\"{orig_str[i:]}: Se esperaba un siguiente nodo para el carácter {c} desde la dirección {addr0}, pero se obtuvo None\"\n",
    "        assert addr.edge != None, f\"{orig_str[i:]}: Se terminó en la dirección {addr}, que no tiene arista, pero se esperaba una arista hoja\"\n",
    "        assert addr.edge.is_leaf_edge(), f\"No se terminó en una arista hoja para {orig_str[i:]}\"\n",
    "        assert addr.edge.dest.suffix_start_pos == i, f\"La posición inicial del sufijo {orig_str[i:]} debería ser {i}, pero se obtuvo {addr.edge.dest.suffix_start_pos}\"\n"
   ]
  },
  {
   "cell_type": "code",
   "execution_count": null,
   "id": "9c9b2d48",
   "metadata": {
    "ExecuteTime": {
     "end_time": "2024-03-28T19:04:56.528319Z",
     "start_time": "2024-03-28T19:04:56.522184Z"
    }
   },
   "outputs": [],
   "source": [
    "def check_suffix_links(root):\n",
    "    worklist = [root]\n",
    "    all_nodes = [root]\n",
    "    d = {0:\"\"}\n",
    "    while len(worklist) > 0:\n",
    "        n = worklist.pop()\n",
    "        str_n = d[n.id]\n",
    "        for (_, e) in n.outgoing_edges.items():\n",
    "            if not e.is_leaf_edge():\n",
    "                str_e = str_n + e.orig_str[e.lo:e.hi+1]\n",
    "                d[e.dest.id] = str_e\n",
    "                worklist.append(e.dest)\n",
    "                all_nodes.append(e.dest)\n",
    "    for n in all_nodes:\n",
    "        assert n.suffix_link != None, f'el nodo {n.id} no tiene enlace de sufijo'\n",
    "        s_n = n.suffix_link\n",
    "        assert n.id in d\n",
    "        assert s_n.id in d\n",
    "        s1 = d[n.id]\n",
    "        s2 = d[s_n.id]\n",
    "        assert s1[1:] == s2, f'el nodo {n.id} tiene la cadena {s1} pero su nodo de sufijo tiene la cadena {s2}'\n",
    "    print(\"¡Todos los enlaces de sufijo son válidos!\")\n"
   ]
  },
  {
   "cell_type": "code",
   "execution_count": null,
   "id": "03b47557",
   "metadata": {
    "ExecuteTime": {
     "end_time": "2024-03-28T19:05:26.123223Z",
     "start_time": "2024-03-28T19:05:23.157860Z"
    }
   },
   "outputs": [],
   "source": [
    "\n",
    "root = construct_suffix_trie(\"BANANA$\", debug=True)\n",
    "test_suffix_trie(root, \"BANANA$\")\n",
    "check_suffix_links(root)\n",
    "draw_networkx_graph(root)"
   ]
  },
  {
   "cell_type": "code",
   "execution_count": null,
   "id": "aeb6de7f",
   "metadata": {
    "ExecuteTime": {
     "end_time": "2024-03-28T19:05:35.263204Z",
     "start_time": "2024-03-28T19:05:31.338821Z"
    }
   },
   "outputs": [],
   "source": [
    "\n",
    "root = construct_suffix_trie(\"ACCACAAC$\", debug=True)\n",
    "test_suffix_trie(root, \"ACCACAAC$\")\n",
    "check_suffix_links(root)\n",
    "draw_networkx_graph(root)"
   ]
  },
  {
   "cell_type": "code",
   "execution_count": null,
   "id": "ec599b71",
   "metadata": {
    "ExecuteTime": {
     "end_time": "2024-03-28T16:05:05.162875Z",
     "start_time": "2024-03-28T16:05:02.288542Z"
    }
   },
   "outputs": [],
   "source": [
    "root = construct_suffix_trie(\"CCTCCG$\", debug=True)\n",
    "test_suffix_trie(root, \"CCTCCG$\")\n",
    "draw_networkx_graph(root)"
   ]
  },
  {
   "cell_type": "code",
   "execution_count": null,
   "id": "a392af5e",
   "metadata": {
    "ExecuteTime": {
     "end_time": "2024-03-28T16:05:08.539358Z",
     "start_time": "2024-03-28T16:05:05.164978Z"
    }
   },
   "outputs": [],
   "source": [
    "orig_str = \"mamamia$\"\n",
    "root = construct_suffix_trie(orig_str, debug=True)\n",
    "draw_networkx_graph(root, filename=\"mamamia-suffix-trie.png\")\n",
    "test_suffix_trie(root, orig_str)"
   ]
  },
  {
   "cell_type": "code",
   "execution_count": null,
   "id": "9ddd54b0",
   "metadata": {
    "ExecuteTime": {
     "end_time": "2024-03-28T19:05:45.873514Z",
     "start_time": "2024-03-28T19:05:45.595239Z"
    }
   },
   "outputs": [],
   "source": [
    "root = construct_suffix_trie(\"abacus$\")\n",
    "draw_networkx_graph(root)\n",
    "test_suffix_trie(root, \"abacus$\")\n",
    "check_suffix_links(root)"
   ]
  },
  {
   "cell_type": "code",
   "execution_count": null,
   "id": "b5628cb1",
   "metadata": {
    "ExecuteTime": {
     "end_time": "2024-03-28T19:05:54.348107Z",
     "start_time": "2024-03-28T19:05:54.073137Z"
    }
   },
   "outputs": [],
   "source": [
    "root = construct_suffix_trie(\"papaya$\")\n",
    "draw_networkx_graph(root)\n",
    "test_suffix_trie(root, \"papaya$\")\n",
    "check_suffix_links(root)"
   ]
  },
  {
   "cell_type": "code",
   "execution_count": null,
   "id": "76f1f4c3",
   "metadata": {
    "ExecuteTime": {
     "end_time": "2024-03-28T19:05:58.404905Z",
     "start_time": "2024-03-28T19:05:58.124398Z"
    }
   },
   "outputs": [],
   "source": [
    "root = construct_suffix_trie(\"aaaamy$\")\n",
    "draw_networkx_graph(root)\n",
    "test_suffix_trie(root, \"aaaamy$\")\n",
    "check_suffix_links(root)"
   ]
  },
  {
   "cell_type": "code",
   "execution_count": null,
   "id": "137b4f09",
   "metadata": {
    "ExecuteTime": {
     "end_time": "2024-03-28T19:06:03.390408Z",
     "start_time": "2024-03-28T19:06:03.051040Z"
    }
   },
   "outputs": [],
   "source": [
    "root = construct_suffix_trie(\"queqquequ$\", debug=False)\n",
    "draw_networkx_graph(root)\n",
    "test_suffix_trie(root, \"queqquequ$\")\n",
    "check_suffix_links(root)"
   ]
  },
  {
   "cell_type": "code",
   "execution_count": null,
   "id": "2f589350",
   "metadata": {
    "ExecuteTime": {
     "end_time": "2024-03-28T19:06:07.771983Z",
     "start_time": "2024-03-28T19:06:07.497827Z"
    }
   },
   "outputs": [],
   "source": [
    "root = construct_suffix_trie(\"catama$\", debug=False)\n",
    "draw_networkx_graph(root)\n",
    "test_suffix_trie(root, \"catama$\")\n",
    "check_suffix_links(root)"
   ]
  },
  {
   "cell_type": "code",
   "execution_count": null,
   "id": "ec7e17c9",
   "metadata": {
    "ExecuteTime": {
     "end_time": "2024-03-28T19:06:11.711660Z",
     "start_time": "2024-03-28T19:06:11.435473Z"
    }
   },
   "outputs": [],
   "source": [
    "root = construct_suffix_trie(\"TGGT$\", debug=False)\n",
    "draw_networkx_graph(root)\n",
    "test_suffix_trie(root, \"TGGT$\")\n",
    "check_suffix_links(root)"
   ]
  },
  {
   "cell_type": "code",
   "execution_count": null,
   "id": "266cd6aa",
   "metadata": {
    "ExecuteTime": {
     "end_time": "2024-03-28T19:06:16.002340Z",
     "start_time": "2024-03-28T19:06:15.451931Z"
    }
   },
   "outputs": [],
   "source": [
    "root = construct_suffix_trie(\"AAAACCCAAAACCCTTTTAA$\", debug=False)\n",
    "draw_networkx_graph(root)\n",
    "test_suffix_trie(root, \"AAAACCCAAAACCCTTTTAA$\")\n",
    "check_suffix_links(root)"
   ]
  },
  {
   "cell_type": "code",
   "execution_count": null,
   "id": "d8b9c0f4",
   "metadata": {
    "ExecuteTime": {
     "end_time": "2024-03-28T19:06:26.241460Z",
     "start_time": "2024-03-28T19:06:26.236388Z"
    }
   },
   "outputs": [],
   "source": [
    "from random import choice\n",
    "\n",
    "def generate_random_str_and_test(l, debug=True):\n",
    "    chars = ['A', 'C', 'T', 'G']\n",
    "    s = []\n",
    "    for i in range(l):\n",
    "        s.append(choice(chars))\n",
    "    s.append('$')\n",
    "    orig_str = \"\".join(s)\n",
    "    print(f\"generando el trie de sufijos para {orig_str}\")\n",
    "    root = construct_suffix_trie(orig_str, debug)\n",
    "    #draw_networkx_graph(root)\n",
    "    test_suffix_trie(root, orig_str)\n",
    "    check_suffix_links(root)\n",
    "    print('\\t Las pruebas pasaron!')\n",
    "    "
   ]
  },
  {
   "cell_type": "code",
   "execution_count": null,
   "id": "4faeb6f0-4d8b-49ae-a8ea-b859b00162c0",
   "metadata": {},
   "outputs": [],
   "source": [
    "import inspect\n",
    "print(inspect.getsource(generate_random_str_and_test))\n"
   ]
  },
  {
   "cell_type": "code",
   "execution_count": null,
   "id": "493a9214",
   "metadata": {
    "ExecuteTime": {
     "end_time": "2024-03-28T19:06:40.716707Z",
     "start_time": "2024-03-28T19:06:27.276024Z"
    }
   },
   "outputs": [],
   "source": [
    "for i in range(10000):\n",
    "    generate_random_str_and_test(50, debug=False)"
   ]
  },
  {
   "cell_type": "markdown",
   "id": "1d28c9e0",
   "metadata": {},
   "source": [
    "#### Validación de tiempo empírica"
   ]
  },
  {
   "cell_type": "code",
   "execution_count": null,
   "id": "3fbb7ad8",
   "metadata": {
    "ExecuteTime": {
     "end_time": "2024-03-28T19:48:42.076801Z",
     "start_time": "2024-03-28T19:48:42.071442Z"
    }
   },
   "outputs": [],
   "source": [
    "from time import process_time\n",
    "\n",
    "def generate_random_str_and_time(l, n_samples=1000):\n",
    "    chars = ['A', 'C', 'T', 'G']\n",
    "    tot_time = 0\n",
    "    for _ in range(n_samples):\n",
    "        s = []\n",
    "        for i in range(l):\n",
    "            s.append(choice(chars))\n",
    "        s.append('$')\n",
    "        orig_str = \"\".join(s)\n",
    "        t0 = process_time()\n",
    "        root = construct_suffix_trie(orig_str, debug=False)\n",
    "        t1 = process_time()\n",
    "        tot_time = tot_time + (t1 - t0)\n",
    "    print(f'longitud: {l} --> tiempo para {n_samples} ejecucion: {tot_time}')\n",
    "    return tot_time/n_samples\n",
    "    "
   ]
  },
  {
   "cell_type": "code",
   "execution_count": null,
   "id": "4385158f",
   "metadata": {
    "ExecuteTime": {
     "end_time": "2024-03-28T19:50:33.794687Z",
     "start_time": "2024-03-28T19:48:42.840303Z"
    }
   },
   "outputs": [],
   "source": [
    "from matplotlib import pyplot as plt\n",
    "lengths = [10, 15, 20, 25, 50, 100, 200, 500, 1000, 2500, 5000]\n",
    "times = [generate_random_str_and_time(l) for l in lengths]\n",
    "plt.plot(lengths, times, '-x')\n",
    "plt.xlabel('Longitud de cadena')\n",
    "plt.ylabel('Tiempo de ejecucion(segundos)')\n",
    "plt.show()"
   ]
  },
  {
   "cell_type": "markdown",
   "id": "2697a0ee-86ff-412d-a14a-daf34b46abb3",
   "metadata": {},
   "source": [
    "### **Aplicaciones de los Tries de Sufijos**\n",
    "\n",
    "Ya hemos mencionado una aplicación sencilla de los tries de sufijos al emparejamiento de patrones. Dada una cadena grande $s$, podemos preprocesarla para construir su trie de sufijos.\n",
    "\n",
    "#### Búsqueda de ocurrencias de patrones\n",
    "\n",
    "Cuando consultamos el trie de sufijos con una cadena patrón más corta $t$, podemos responder rápidamente a las siguientes preguntas en tiempo proporcional a la longitud del patrón $t$:\n",
    "\n",
    "* ¿Aparece $t$ como subcadena en $s$?\n",
    "* ¿Cuál es el prefijo más largo de $t$ que aparece como subcadena en $s$?\n",
    "* ¿Cuántas veces aparece $t$ como subcadena de $s$?\n",
    "* Lista las posiciones de inicio de todas las ocurrencias de $t$ en $s$ (ten en cuenta que esto tomará tiempo $O(|t| + k)$, donde $k$ es el número de ocurrencias de $t$ en $s$).\n",
    "\n",
    "También podemos extender esto a patrones con comodines (wild-cards) que pueden representar cualquier carácter.\n"
   ]
  },
  {
   "cell_type": "code",
   "execution_count": null,
   "id": "c390c963-86dc-49d3-81a6-2d9794ebc44e",
   "metadata": {},
   "outputs": [],
   "source": [
    "def find_all_occurrences(root, pattern):\n",
    "    addr = TrieAddress(root) # comienza en la raíz\n",
    "    n = len(pattern)\n",
    "    for i in range(n): # recorrer el trie de acuerdo a los caracteres sucesivos del patrón\n",
    "        addr = addr.traverse_next(pattern[i])\n",
    "        if addr == None:\n",
    "            print(f'{pattern} no aparece en la cadena. El prefijo más largo que sí aparece es {pattern[:i]}')\n",
    "            return [] # devolver lista vacía\n",
    "    # si llegamos aquí, entonces addr no puede ser nulo\n",
    "    assert addr != None\n",
    "    # ahora recolecta todas las hojas alcanzables desde la dirección y obtiene sus campos de posición inicial del sufijo\n",
    "    start_positions = []\n",
    "    list_of_nodes = []\n",
    "    if addr.edge == None:\n",
    "        list_of_nodes.append(addr.node)\n",
    "    else:\n",
    "        list_of_nodes.append(addr.edge.dest)\n",
    "    while len(list_of_nodes) > 0:\n",
    "        # sacar un nodo de la lista\n",
    "        node = list_of_nodes.pop()\n",
    "        if node.is_leaf(): # si es una hoja, agrega la posición inicial del sufijo correspondiente a esta hoja\n",
    "            start_positions.append(node.suffix_start_pos)\n",
    "        else:\n",
    "            # de lo contrario, obtiene todos los nodos hijos\n",
    "            for (_, edge) in node.outgoing_edges.items():\n",
    "                list_of_nodes.append(edge.dest) # agregarlos a la lista de nodos no procesados\n",
    "    return start_positions # devuelve todas las posiciones de inicio\n"
   ]
  },
  {
   "cell_type": "code",
   "execution_count": null,
   "id": "9d3bcc44-87b3-4cf2-9ff1-fdfdde3ac24c",
   "metadata": {},
   "outputs": [],
   "source": [
    "orig_str = \"ACCTAGCCTGATTACAAATGCGCGTTGTTGATTACAATTACCTAGC$\"\n",
    "root = construct_suffix_trie(orig_str, debug=False)\n",
    "draw_networkx_graph(root)\n",
    "test_suffix_trie(root, orig_str)"
   ]
  },
  {
   "cell_type": "code",
   "execution_count": null,
   "id": "a69f7317-440f-48af-a925-4c39dfb109c2",
   "metadata": {},
   "outputs": [],
   "source": [
    "find_all_occurrences(root, \"GATTACA\")"
   ]
  },
  {
   "cell_type": "code",
   "execution_count": null,
   "id": "07ad7b55-7212-4783-bb5a-83fd01b41b73",
   "metadata": {},
   "outputs": [],
   "source": [
    "find_all_occurrences(root, \"CAATT\")"
   ]
  },
  {
   "cell_type": "code",
   "execution_count": null,
   "id": "771ba582-9879-4a5e-a5f1-624b52b513e8",
   "metadata": {},
   "outputs": [],
   "source": [
    "find_all_occurrences(root, \"ATT\")"
   ]
  },
  {
   "cell_type": "code",
   "execution_count": null,
   "id": "0a5931a9-9887-4910-8a35-778512dba4e1",
   "metadata": {},
   "outputs": [],
   "source": [
    "find_all_occurrences(root, \"AT\")"
   ]
  },
  {
   "cell_type": "markdown",
   "id": "783d9bc9-18d2-4206-81b4-88a978dbb5ea",
   "metadata": {},
   "source": [
    "#### Subcadena común más larga\n",
    "\n",
    "Consideremos dos cadenas $s$ y $t$. Deseamos encontrar la cadena más larga $p$ tal que $p$ sea una subcadena de ambas, $s$ y $t$. Nótese que esto es diferente del problema de la subsecuencia común más larga estudiado anteriormente sobre programación dinámica. Aquí $p$ debe aparecer en posiciones contiguas en $s$ y en $t$.\n",
    "\n",
    "Por ejemplo, consideremos $s = banana\\$$ y $t = bnanabna\\$$. La subcadena común más larga es \"nana\".\n",
    "\n",
    "La idea es construir un trie de sufijos para la cadena $s$. A continuación, recorremos ese trie de sufijos siguiendo la cadena $t$, con un índice $i$ que parte de 0 y recorre las posiciones de $t$.\n",
    "\n",
    "En cada paso \\$i\\$, mantenemos la dirección actual que representa el sufijo más largo de $t[0], \\dots, t[i-1]$ que es subcadena de $s$. Para el paso $i+1$, intentamos ver si podemos extender la dirección actual con $t[i]$. Si no es posible, seguimos los enlaces de sufijo hasta alcanzar un nodo donde sí podamos añadir $t[i]$. Si no existe tal punto, volvemos al nodo raíz.\n",
    "\n",
    "A medida que el proceso avanza, guardamos el nodo de mayor profundidad alcanzado hasta el momento en el trie de sufijos. Ese nodo corresponde precisamente a la subcadena común más larga entre $t[0], \\dots, t[i-1]$ y $s$. Cuando el proceso termina, recuperamos la subcadena asociada y la devolvemos.\n",
    "\n",
    "El algoritmo funciona en tiempo $O(|s| + |t|)$ si utilizamos un método de construcción del trie de sufijos lineal en el tamaño de la cadena.\n"
   ]
  },
  {
   "cell_type": "code",
   "execution_count": null,
   "id": "499b2fec-02a2-4de1-bb27-5a42e52efc43",
   "metadata": {},
   "outputs": [],
   "source": [
    "def find_longest_common_substring(s, t):\n",
    "    n = len(t)\n",
    "    root = construct_suffix_trie(s, debug=False)\n",
    "    addr = TrieAddress(root) # comienza con la dirección siendo la raíz\n",
    "    best_depth = 0\n",
    "    best_addr = addr \n",
    "    # recorre cada índice de t\n",
    "    for i in range(n): \n",
    "        c = t[i] \n",
    "        addr1 = addr.traverse_next(c) # intentar extender la dirección actual con c\n",
    "        while addr1 == None and not addr.is_at_root(): # mientras sigamos fallando o no estemos en la raíz\n",
    "            addr = addr.compute_suffix() # calcular la dirección del sufijo\n",
    "            addr1 = addr.traverse_next(c) # ver si el sufijo puede extenderse\n",
    "        if addr1 != None: \n",
    "            addr = addr1\n",
    "        addr_depth = addr.compute_depth() # consulta la profundidad de la dirección actual\n",
    "        if addr_depth > best_depth: # si es mayor que la mejor encontrada hasta ahora\n",
    "            best_depth = addr_depth # actualiza la mejor hasta ahora\n",
    "            best_addr = addr \n",
    "    \n",
    "    # ahora calcula la subcadena común recorriendo hacia atrás desde la mejor dirección hasta la raíz\n",
    "    common_substring = \"\"\n",
    "    if best_addr.edge != None: # si estamos en medio de una arista, agrega la subcadena y avanza al nodo interno\n",
    "        lo_idx = best_addr.edge.lo\n",
    "        offs = best_addr.offs\n",
    "        common_substring = s[lo_idx:lo_idx+offs]\n",
    "    cur_node = best_addr.node\n",
    "    while cur_node.parent != None: # sigue recorriendo el puntero al padre hasta llegar a la raíz\n",
    "        parent_node = cur_node.parent\n",
    "        parent_edge = parent_node.find_edge_corresponding_to_child(cur_node)\n",
    "        assert parent_edge != None\n",
    "        assert not parent_edge.is_leaf_edge()\n",
    "        # agrega la subcadena relevante de cada arista recorrida a la subcadena común\n",
    "        common_substring = s[parent_edge.lo:parent_edge.hi+1] + common_substring\n",
    "        cur_node = parent_node \n",
    "    return common_substring\n"
   ]
  },
  {
   "cell_type": "code",
   "execution_count": null,
   "id": "e281a579-4a15-4645-b267-8961c062ba14",
   "metadata": {},
   "outputs": [],
   "source": [
    "find_longest_common_substring(\"banananaxnanana$\", \"bnananaxbnanana$\")"
   ]
  },
  {
   "cell_type": "code",
   "execution_count": null,
   "id": "b646dcad-38b5-4ffd-9079-d436e1de5919",
   "metadata": {},
   "outputs": [],
   "source": [
    "find_longest_common_substring(\"TTATTGAGGATTACATT$\", \"ACTGGATTACATA$\")"
   ]
  },
  {
   "cell_type": "markdown",
   "id": "6f311f3a-005e-4642-aa08-0a52cfc99298",
   "metadata": {},
   "source": [
    "#### **Ejercicios**\n",
    "\n",
    "\n",
    "1. **Construcción incremental del suffix trie**\n",
    "\n",
    "   * Partiendo de la clase `TrieAddress`, implementa la función `construct_suffix_trie(orig_str: str) -> SuffixTrieNode` usando el algoritmo de Ukkonen.\n",
    "   * Cada fase debe añadir un carácter más de `orig_str` y actualizar los `suffix_link` de los nodos.\n",
    "   * **Entrega**: código documentado y script de prueba con cadenas como `\"banana$\"` y `\"abracadabra$\"`.\n",
    "\n",
    "2. **Búsqueda de substrings**\n",
    "\n",
    "   * Implementa `find_all_occurrences(pattern: str) -> List[int]` que, usando tu suffix trie, recoja todas las posiciones de inicio de `pattern` en `orig_str`.\n",
    "   * Debe recorrer el trie con `TrieAddress.traverse_next` y, al completar el patrón, recolectar las hojas del subárbol.\n",
    "   * Comprueba que tus resultados coinciden con múltiples llamadas a `str.find()`.\n",
    "\n",
    "3. **Longest Common Substring de dos cadenas**\n",
    "\n",
    "   * Construye el suffix trie de `s + '#' + t + '$'`.\n",
    "   * Marca cada hoja según provenga de `s` o de `t` usando `suffix_start_pos`.\n",
    "   * Recorre el trie (DFS) para identificar los nodos cuyos subárboles contengan hojas de ambas cadenas y devuelve la cadena de mayor profundidad.\n",
    "\n",
    "4. **Mutación dinámica y rollback**\n",
    "\n",
    "   * Extiende tu implementación para soportar borrado de la última fase (undo) y rollback completo.\n",
    "   * Cada inserción debe dejar un registro (split de aristas, nodos creados) que permita revertirla y restaurar `suffix_link` correctamente.\n",
    "\n",
    "5. **Implementación básica de Radix Trie**\n",
    "\n",
    "   * Crea clases `RadixNode` y `RadixEdge` donde cada arista almacene una subcadena en lugar de un solo carácter.\n",
    "   * Implementa métodos:\n",
    "\n",
    "     * `insert(key: str)`\n",
    "     * `search(key: str) -> bool`\n",
    "     * `starts_with(prefix: str) -> List[str]`\n",
    "   * Al insertar, divide la arista cuando solo haya prefijo parcial en común.\n",
    "   * **Validación**: carga un diccionario de ~10 000 palabras y compara número de nodos y tiempos de búsqueda frente a un trie carácter a carácter.\n",
    "\n",
    "6. **Soporte de eliminación**\n",
    "\n",
    "   * Añade `delete(key: str)` que borre una clave de la radix trie.\n",
    "   * Tras borrar, fusiona aristas adyacentes cuando sea posible y elimina nodos sin claves en su subárbol.\n",
    "\n",
    "7. **Conteo de prefijos**\n",
    "\n",
    "   * Implementa `count_with_prefix(prefix: str) -> int`.\n",
    "   * Cada nodo debe llevar un contador de cuántas palabras pasan por él, actualizado en inserciones y borrados.\n",
    "\n",
    "8. **Balanceo y análisis de memoria**\n",
    "\n",
    "   * Compara uso de memoria y rendimiento entre tu trie carácter-a-carácter y la radix trie usando un corpus grande (p. ej. Project Gutenberg).\n",
    "   * Mide:\n",
    "\n",
    "     * Número total de nodos y tamaño de cadenas en aristas.\n",
    "     * Tiempos de inserción y búsqueda de 100 000 palabras aleatorias.\n",
    "\n",
    "9. **Conversión automática**: dado un trie normal, escribe un método que lo comprima automáticamente en un radix trie.\n",
    "10.  **Patricia Trie con hashing**: usa hashes de subcadenas para comparar en lugar de carácter a carácter.\n",
    "11. **Búsqueda aproximada**: adapta tu suffix trie para buscar patrones con distancia de edición $\\leq 1$ usando backtracking sobre enlaces de sufijo.\n",
    "\n",
    "\n",
    "12. **Construcción de Suffix Tree comprimido**\n",
    "\n",
    "   * Partiendo de tu `construct_suffix_trie`, modifica el código para que genere un **suffix tree** (trie comprimido), agrupando aristas contiguas siempre que no haya bifurcación.\n",
    "\n",
    "13. **Extracción de Suffix Array y LCP**\n",
    "\n",
    "   * A partir del árbol de sufijos, recorrelo en orden lexicográfico para producir el **suffix array**.\n",
    "   * Implementa además el cálculo del **LCP array** usando los `suffix_link` y las profundidades de los nodos.\n",
    "\n",
    "14. **Búsqueda de patrón en tiempo óptimo**\n",
    "\n",
    "   * Crea una función `contains(pattern: str) -> bool` que recorra el árbol comprimido en O(m) (m = longitud del patrón) para determinar si existe el patrón en la cadena original.\n",
    "\n",
    "15. **Listar todas las ocurrencias de un patrón**\n",
    "\n",
    "   * Extiende `contains` para que, tras llegar al nodo/offset final, recoja todas las posiciones de sufijos en su subárbol y devuelva la lista de índices de inicio.\n",
    "\n",
    "16. **Cálculo de las k-subcadenas más frecuentes**\n",
    "\n",
    "   * Usa el árbol de sufijos para contar la frecuencia de cada subcadena de longitud k.\n",
    "   * Devuelve las k-subcadenas más comunes, junto con su número de apariciones.\n",
    "\n",
    "17. **Patrón con errores (edit distance $\\leq 1$)**\n",
    "\n",
    "   * Implementa un recorrido con backtracking que, partiendo de la raíz, permita hasta un error (inserción, borrado o sustitución) al buscar un patrón, devolviendo las posiciones aproximadas.\n",
    "\n",
    "18. **Soporte de streaming (online)**\n",
    "\n",
    "   * Refactoriza la construcción para procesar la cadena carácter a carácter a medida que llega (sin conocer la longitud total de antemano), manteniendo el árbol actualizado.\n",
    "\n",
    "19. **Rollback de fases**\n",
    "\n",
    "   * Diseña un mecanismo para **deshacer** la última fase de Ukkonen (revertir inserción y enlaces de sufijo), de modo que puedas \"retroceder\" i-1 -> i–2 fases.\n",
    "\n",
    "20. **Medición de rendimiento y profiling**\n",
    "\n",
    "   * Agrega hooks o decoradores para medir tiempos internos de cada fase y de cada operación de split.\n",
    "   * Genera un reporte tabulado (por ejemplo, con `pandas`) que muestre distribución de tiempos por fase.\n",
    "\n",
    "21. **Visualización incremental**\n",
    "\n",
    "    * Integra tu `draw_networkx_graph` para que, en cada fase, genere y guarde la imagen del árbol, y luego genere un pequeño GIF que lo anime.\n",
    "\n",
    "22. **Conversión a Suffix Automaton**\n",
    "\n",
    "    * A partir de tu suffix trie, implementa el algoritmo de construcción de un **suffix automaton** y comprueba que reconoce las mismas subcadenas.\n",
    "\n",
    "23. **Compresión de memoria**\n",
    "\n",
    "    * Reemplaza la cadena completa `orig_str` en cada nodo/edge por **punteros a slices** de un buffer compartido, reduciendo el uso de memoria.\n",
    "\n",
    "24. **Integración con Suffix Array externo**\n",
    "\n",
    "    * Combina tu árbol con un método de construcción de suffix array (p. ej. SA-IS) para verificación cruzada de resultados y benchmarks.\n",
    "\n",
    "25. **Implementación en paralelo**\n",
    "\n",
    "    * Prueba una estrategia de paralelizar fases independientes (por ejemplo, fase i vs i+k) usando `concurrent.futures` y compara rendimientos.\n",
    "\n",
    "26. **Extensión a múltiples alfabetos**\n",
    "\n",
    "    * Adapta tu estructura para manejar cadenas sobre alfabetos genéricos (por ejemplo, emoji o secuencias UTF-8) y valida que siga funcionando correctamente.\n",
    "\n"
   ]
  },
  {
   "cell_type": "code",
   "execution_count": null,
   "id": "017800f6-9530-48ed-88de-ec02b6a70d02",
   "metadata": {},
   "outputs": [],
   "source": [
    "## Respuestas"
   ]
  }
 ],
 "metadata": {
  "celltoolbar": "Attachments",
  "kernelspec": {
   "display_name": "Python 3 (ipykernel)",
   "language": "python",
   "name": "python3"
  },
  "language_info": {
   "codemirror_mode": {
    "name": "ipython",
    "version": 3
   },
   "file_extension": ".py",
   "mimetype": "text/x-python",
   "name": "python",
   "nbconvert_exporter": "python",
   "pygments_lexer": "ipython3",
   "version": "3.12.3"
  }
 },
 "nbformat": 4,
 "nbformat_minor": 5
}
