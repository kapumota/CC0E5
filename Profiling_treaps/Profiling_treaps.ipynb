{
 "cells": [
  {
   "cell_type": "markdown",
   "id": "84c092e8-3fdf-46b6-a179-57cf053c710a",
   "metadata": {},
   "source": [
    "### **Profiling** "
   ]
  },
  {
   "cell_type": "code",
   "execution_count": null,
   "id": "fcc05850-0f32-45b3-b5d2-74ab1aa38d0a",
   "metadata": {},
   "outputs": [],
   "source": [
    "from treap import Treap\n",
    "from RandomizedTreap import RandomizedTreap\n",
    "from RandomizedTreapProfiling import profile_height, profile_cpu, profile_height_ordered_sequence, profile_cpu_ordered_sequence, profile_memory\n"
   ]
  },
  {
   "cell_type": "markdown",
   "id": "0c3a0b00-05fe-4b8f-8a61-1d337353f781",
   "metadata": {},
   "source": [
    "**treap.py**\n",
    "\n",
    "Este archivo de Python implementa un Treap, que es una estructura de datos que combina las propiedades de un árbol binario de búsqueda (BST) y un heap (min-heap). En este Treap se almacenan pares formados por una clave y una prioridad, garantizando que el árbol cumpla la propiedad de búsqueda en las claves y, a la vez, la propiedad de min-heap en las prioridades, considerando como prioridad más alta aquel valor numérico menor. \n",
    "\n",
    "Además, se implementa un bloqueo de lectura/escritura (`ReadWriteLock`) para gestionar el acceso concurrente a la estructura, permitiendo que múltiples hilos realicen operaciones de lectura simultáneamente mientras que las escrituras se efectúan de forma exclusiva, asegurando la integridad de los datos.\n",
    "\n",
    "La clase principal `Treap` es genérica y utiliza la subclase `Entry` para encapsular los pares `(clave, prioridad)`. Internamente, se utiliza la clase anidada `TreapNode` para representar cada nodo del árbol, el cual contiene punteros a sus hijos izquierdo y derecho, además del nodo padre. TreapNode incorpora métodos para insertar nuevos elementos, buscar y eliminar nodos, y ejecutar rotaciones `(rotateLeft y rotateRight)` que permiten mantener las invariantes de BST y min-heap. Los métodos `bubbleUp` y `pushDown` ajustan la posición de los nodos cuando se modifica su prioridad.\n",
    "\n",
    "Entre las funcionalidades del Treap se incluyen métodos para obtener el tamaño, la altura, el elemento mínimo y el máximo, así como para actualizar prioridades, remover elementos y verificar las invariantes del árbol. Las funciones top y peek facilitan extraer o visualizar el nodo raíz, respectivamente.\n",
    "\n",
    "Por último, el bloque principal `(if __name__ == '__main__':)` realiza pruebas básicas insertando diversas entradas y mostrando propiedades importantes del Treap, lo que demuestra el correcto funcionamiento y la integridad de la estructura. La implementación asegura alta eficiencia y gran robustez en entornos concurrentes."
   ]
  },
  {
   "cell_type": "markdown",
   "id": "c35ba186-4795-4892-9b26-5bf2ab0eabd4",
   "metadata": {},
   "source": [
    "**RandomizedTreap.py**\n",
    "\n",
    "Este archivo implementa una variante aleatorizada de un Treap, denominada `RandomizedTreap`, que aprovecha una asignación aleatoria de prioridades para lograr que, en promedio, el árbol permanezca balanceado. La idea central es basarse en la implementación del Treap definida en otro módulo (treap.py), encapsulando su funcionalidad y proporcionando una interfaz sencilla para trabajar con datos genéricos.\n",
    "\n",
    "La clase `RandomizedTreap` es genérica, lo que permite almacenar elementos de cualquier tipo. Internamente, mantiene un objeto de la clase Treap, en el cual cada elemento se asocia a una prioridad de tipo float generada de forma aleatoria mediante el módulo `random` de Python. Al añadir un elemento, se crea una nueva entrada del Treap que contiene el valor y una prioridad obtenida llamando a `rnd.random()`. Esta asignación de prioridades aleatorias es fundamental porque garantiza que la estructura del árbol se comporte de forma balanceada en promedio, evitando los peores escenarios de un árbol de búsqueda binario desbalanceado.\n",
    "\n",
    "Los métodos implementados en `RandomizedTreap` son, en su mayoría, wrappers de los métodos del Treap subyacente. Entre ellos se destacan:\n",
    "\n",
    "- **add(element)**: Inserta un nuevo elemento con prioridad aleatoria, delegando en el método add del Treap.\n",
    "- **remove(element)**: Elimina un nodo basado en la clave especificada, utilizando el método removeKey.\n",
    "- **clear()**: Borra todos los elementos del Treap.\n",
    "- **min() y max()**: Devuelven, respectivamente, el elemento mínimo y el máximo según el orden de las claves.\n",
    "- **search(element)**: Realiza una búsqueda para encontrar un elemento determinado.\n",
    "- **isEmpty(), size() y height()**: Proporcionan información sobre si el árbol está vacío, el número total de elementos y la altura del árbol.\n",
    "- **_checkTreapInvariants() y _checkBSTInvariants()**: Permiten verificar que se cumplen las propiedades invariantes tanto del Treap (combinación de BST y min-heap) como del árbol de búsqueda binaria.\n",
    "\n",
    "Finalmente, el bloque principal del script demuestra un ejemplo de uso: se crean varias entradas, se realizan inserciones, búsquedas y se muestran propiedades clave del árbol (tamaño, altura, mínimo, máximo e invariantes), lo que confirma la correcta integración y funcionamiento de la implementación aleatorizada."
   ]
  },
  {
   "cell_type": "code",
   "execution_count": null,
   "id": "b6292b2d-9dd8-42c0-b8fa-7420a7b4a61d",
   "metadata": {},
   "outputs": [],
   "source": [
    "%run treap.py\n",
    "%run RandomizedTreap.py\n",
    "\n"
   ]
  },
  {
   "cell_type": "markdown",
   "id": "201c2594-8f24-4dc7-941d-2d04bb83dd15",
   "metadata": {},
   "source": [
    "**RandomizedTreapProfiling**\n",
    "\n",
    "Este archivo se dedica a realizar pruebas de desempeño (profiling) comparando dos estructuras de datos: un árbol de búsqueda binario iterativo (BST) implementado en el mismo script y un `RandomizedTreap` importado desde otro módulo. La implementación del BST es completamente iterativa, lo que evita problemas de profundidad de recursión al trabajar con secuencias ordenadas o de gran tamaño, mientras que el RandomizedTreap utiliza prioridades asignadas aleatoriamente (números float) para mantener, en promedio, un árbol balanceado.\n",
    "\n",
    "La clase BST definida en el archivo contiene métodos esenciales para la manipulación de la estructura: \n",
    "\n",
    "- **add(element)**: inserta un elemento de forma iterativa, asegurando que al recorrer el árbol se llegue a la posición correcta sin recurrir a llamadas recursivas profundas.  \n",
    "- **remove(element)**: elimina un elemento encontrado de forma iterativa. Este proceso busca el nodo a remover, y mediante el método _removeNode se encarga de gestionar los tres casos de eliminación: nodos hoja, nodos con un solo hijo y nodos con dos hijos. En este último caso, se decide aleatoriamente entre utilizar el predecesor o el sucesor para reemplazar el nodo eliminado.  \n",
    "- Además, cuenta con métodos como **search**, **min**, **max**, **isEmpty**, **size** (calculado de forma iterativa usando una pila) y **height** (calculado a partir de un recorrido BFS iterativo). También incluye un método **checkBSTInvariants** que verifica, mediante un recorrido in-order iterativo, que se cumpla la propiedad del BST.\n",
    "\n",
    "Por otro lado, el script contiene diversas funciones para generar perfiles comparativos entre ambas estructuras. Algunas de estas funciones son:\n",
    "\n",
    "- **profile_height()**: Realiza inserciones y eliminaciones aleatorias sin duplicados (usando random.sample y evitando duplicados con un ciclo while) en ambos árboles. Para cada tamaño de prueba (aumentando gradualmente desde 1000 hasta 40000 elementos) y en varias repeticiones, registra las alturas del BST y del RandomizedTreap, guardando los datos obtenidos en un archivo CSV.\n",
    "\n",
    "- **profile_height_ordered_sequence()**: Inserta elementos en orden creciente. En este caso, el BST se degenera (crece como una lista enlazada) mientras que el RandomizedTreap mantiene una estructura más balanceada. Se comprueba que la altura del RandomizedTreap no sea mayor que la del BST y se guarda la información en CSV.\n",
    "\n",
    "- **profile_cpu() y profile_cpu_ordered_sequence()**: Realizan pruebas de carga en CPU con operaciones aleatorias y secuenciales, respectivamente.  \n",
    "- **profile_memory()**: Evalúa el uso de memoria al insertar cadenas en ambas estructuras.\n",
    "\n",
    "Finalmente, el bloque principal (__main__) orquesta las pruebas, ejecutándolas en secuencia e imprimiendo mensajes informativos. De esta forma, el script permite comparar de manera exhaustiva el comportamiento de un BST iterativo y un RandomizedTreap en cuanto a altura, consumo de CPU y memoria, generando datos en formato CSV para su posterior análisis."
   ]
  },
  {
   "cell_type": "code",
   "execution_count": null,
   "id": "260e4bb6-0ba6-4f11-a19c-72d039fefadf",
   "metadata": {},
   "outputs": [],
   "source": [
    "%run RandomizedTreapProfiling.py"
   ]
  },
  {
   "cell_type": "markdown",
   "id": "bb993b85-6d8c-4b6c-bd06-1b21411d4cf4",
   "metadata": {},
   "source": [
    "#### **Visualización y análisis de alturas en BST y Treap**\n",
    "\n",
    "Analizamos y visualizamos estadísticas relacionadas con la altura de dos estructuras de datos: un árbol de búsqueda binario (BST) iterativo y un RandomizedTreap. Para ello, se utiliza la biblioteca Pandas para la manipulación de datos y Matplotlib para la generación de gráficos, asegurando además un formato de salida en línea (mediante `%matplotlib inline`) para su uso en entornos interactivos como Jupyter Notebook.\n",
    "\n",
    "Inicialmente, se importan las librerías necesarias, entre ellas Pandas, Matplotlib y Math, y se definen las rutas de dos archivos CSV que contienen estadísticas de dos pruebas distintas: una con inserciones aleatorias (archivo `bst_vs_rt_random_50000.csv`) y otra con secuencias ordenadas (archivo `bst_vs_rt_worst-case.csv`). Cada CSV registra el tamaño de la entrada (`n`) y las alturas de los árboles (`height_bst` y `height_rt`). "
   ]
  },
  {
   "cell_type": "code",
   "execution_count": null,
   "id": "f20ccb11-72df-4a75-9912-ff8d836b6d67",
   "metadata": {},
   "outputs": [],
   "source": [
    "%matplotlib inline\n",
    "import pandas as pd\n",
    "import matplotlib.pyplot as plt\n",
    "import matplotlib.ticker as ticker\n",
    "import math\n",
    "\n",
    "from typing import List\n",
    "\n",
    "import pandas as pd\n",
    "import matplotlib.pyplot as plt\n",
    "import matplotlib.ticker as ticker\n",
    "import math"
   ]
  },
  {
   "cell_type": "code",
   "execution_count": null,
   "id": "81942930-239e-4701-ac6a-17a9f490da57",
   "metadata": {},
   "outputs": [],
   "source": [
    "treap_random_stats = 'resultados/bst_vs_rt_random_50000.csv'\n",
    "treap_ordered_sequence_stats = 'resultados/bst_vs_rt_worst-case.csv'\n"
   ]
  },
  {
   "cell_type": "code",
   "execution_count": null,
   "id": "274009e9-6cf4-403c-93fc-5eeb515c059d",
   "metadata": {},
   "outputs": [],
   "source": [
    "df = pd.read_csv(treap_random_stats)"
   ]
  },
  {
   "cell_type": "markdown",
   "id": "05fef73c-73f0-4b46-ac14-0c346ef9d8b5",
   "metadata": {},
   "source": [
    "Una columna adicional, `log_n`, es creada a partir del logaritmo base 2 de `n`, lo que permite comparar las alturas de los árboles con un crecimiento logarítmico esperado en estructuras balanceadas.\n"
   ]
  },
  {
   "cell_type": "code",
   "execution_count": null,
   "id": "d52f55d0-fbae-46da-a907-070726a9f599",
   "metadata": {},
   "outputs": [],
   "source": [
    "df['log_n'] = df['n'].apply(lambda x: math.log(x) / math.log(2))"
   ]
  },
  {
   "cell_type": "code",
   "execution_count": null,
   "id": "6df1783f-c579-4f4c-811e-3b55b9a10f76",
   "metadata": {
    "scrolled": true
   },
   "outputs": [],
   "source": [
    "df.info"
   ]
  },
  {
   "cell_type": "markdown",
   "id": "37eb83c2-f55d-422f-ac43-cbc469b1b30f",
   "metadata": {},
   "source": [
    "El núcleo del script es la función `plot_test_case_mean(df: pd.DataFrame)`, que recibe un DataFrame con los datos de una prueba. Dentro de esta función se agrupan los datos por el tamaño de la entrada (`n``) y se promedian las alturas registradas, para luego ordenar los resultados. Se utiliza un promedio móvil (`rolling average``) con una ventana de 5 datos para suavizar las curvas y eliminar fluctuaciones indeseadas, obteniéndose así curvas más representativas del comportamiento medio.\n",
    "\n",
    "Posteriormente, se configura la figura de Matplotlib definiendo título, etiquetas para el eje X (tamaño de la entrada) y para el eje Y (altura) y se activa una cuadrícula para facilitar la interpretación visual. Se establece que la escala del eje Y sea logarítmica (base 10), lo que resulta particularmente útil al comparar valores que pueden variar en órdenes de magnitud. En este gráfico se dibujan tres líneas: la altura del BST (`height_bst`) en línea azul discontinua, la altura del Treap (`height_rt`) en línea naranja continua y, para referencia, la función logarítmica (`log_n`) en línea verde con estilo variado.\n",
    "\n",
    "Finalmente, la función se invoca dos veces: una primera vez leyendo el CSV correspondiente a la prueba aleatoria, y una segunda vez con los datos de la secuencia ordenada. Así, el código permite comparar visualmente el comportamiento en altura de ambas estructuras bajo diferentes escenarios, facilitando el análisis comparativo de eficiencia y equilibrio en términos de estructuras de datos."
   ]
  },
  {
   "cell_type": "code",
   "execution_count": null,
   "id": "8a361e66-713f-4d05-a452-a34a028b6e5d",
   "metadata": {},
   "outputs": [],
   "source": [
    "import math\n",
    "import matplotlib.pyplot as plt\n",
    "import matplotlib.ticker as ticker\n",
    "import pandas as pd\n",
    "\n",
    "def plot_test_case_mean(df: pd.DataFrame):\n",
    "    # Agrupar por 'n', promediar y ordenar\n",
    "    df_mean = df.groupby('n', as_index=False).mean().sort_values('n')\n",
    "    \n",
    "    # Opcional: Suavizado (rolling average) sin modificar el nombre original\n",
    "    window_size = 5  # Puedes ajustar la ventana según tus datos\n",
    "    smooth_height_bst = df_mean['height_bst'].rolling(window_size, center=True).mean()\n",
    "    smooth_height_rt  = df_mean['height_rt'].rolling(window_size, center=True).mean()\n",
    "    \n",
    "    # Verifica que 'log_n' esté definida; si no, la calculamos (por ejemplo, base 2)\n",
    "    if 'log_n' not in df_mean.columns:\n",
    "        df_mean['log_n'] = df_mean['n'].apply(lambda x: math.log2(x) if x > 0 else 0)\n",
    "    \n",
    "    # Crear figura y eje\n",
    "    fig, axe = plt.subplots(figsize=(10, 6))\n",
    "    axe.set_title(\"Comparación de alturas: BST vs. Treap (random)\")\n",
    "    axe.set_xlabel(\"n (tamaño de la entrada)\")\n",
    "    axe.set_ylabel(\"height (altura)\")\n",
    "    axe.grid(True, which='both', linestyle='--', alpha=0.5)\n",
    "    # Configurar escala logarítmica en el eje Y\n",
    "    axe.set_yscale('log', base=10)\n",
    "    axe.yaxis.set_major_formatter(ticker.ScalarFormatter())\n",
    "    axe.set_yticks([1, 2, 5, 10, 20, 30, 40, 50, 100, 1000])\n",
    "    \n",
    "    # Graficar las líneas usando los nombres originales para la leyenda\n",
    "    axe.plot(df_mean['n'], smooth_height_bst, label=\"height_bst\", color=\"blue\", linestyle=\"--\", linewidth=2)\n",
    "    axe.plot(df_mean['n'], smooth_height_rt,  label=\"height_rt\",  color=\"orange\", linestyle=\"-\", linewidth=2)\n",
    "    axe.plot(df_mean['n'], df_mean['log_n'],    label=\"log_n\",      color=\"green\", linestyle=\"-.\", linewidth=2)\n",
    "    \n",
    "    axe.legend(loc=\"upper left\")\n",
    "    plt.show()\n",
    "\n",
    "# Ejemplo de uso:\n",
    "df = pd.read_csv(\"resultados/bst_vs_rt_random_50000.csv\")\n",
    "plot_test_case_mean(df)\n"
   ]
  },
  {
   "cell_type": "markdown",
   "id": "e5e3ee8c-59e8-46b5-9063-260230abc843",
   "metadata": {},
   "source": [
    "**Estadísticas de secuencia ordenadas**"
   ]
  },
  {
   "cell_type": "code",
   "execution_count": null,
   "id": "e4c15343-f252-46cd-92f7-4ffb1b9d33ab",
   "metadata": {},
   "outputs": [],
   "source": [
    "df1 = pd.read_csv(treap_ordered_sequence_stats)"
   ]
  },
  {
   "cell_type": "code",
   "execution_count": null,
   "id": "c9b40b8d-4311-44ce-a593-89f0cc77f2f6",
   "metadata": {},
   "outputs": [],
   "source": [
    "df1['log_n'] = df1['n'].apply(lambda x: math.log(x) / math.log(2))"
   ]
  },
  {
   "cell_type": "code",
   "execution_count": null,
   "id": "cb09f3ec-4b4d-452f-a1c5-58b36fac2529",
   "metadata": {},
   "outputs": [],
   "source": [
    "plot_test_case_mean(df1)"
   ]
  },
  {
   "cell_type": "markdown",
   "id": "ff634166-150c-4974-a2c8-16579528fdce",
   "metadata": {},
   "source": [
    "#### **Ejercicios**\n",
    "\n",
    "1. **Rebalanceo manual con rebuild:**  \n",
    "   - **Tarea:** Agrega un método `rebuild()` en la implementación de Treap que, al invocarse, recorra todos los nodos en orden (usando un recorrido in-order) y reconstruya el árbol de manera balanceada a partir de la secuencia ordenada.  \n",
    "   -  Compara la altura del árbol antes y después de llamar a `rebuild()` y verificar la reducción en desbalanceo, especialmente tras múltiples inserciones en orden ascendente.\n",
    "\n",
    "2. **Actualización global de prioridades:**  \n",
    "   - **Tarea:** Implementa una funcionalidad (por ejemplo, `updateAllPriorities()`) que asigne nuevas prioridades aleatorias a todos los nodos y reordene el árbol en consecuencia, aplicando los métodos de `bubbleUp()` o `pushDown()` según corresponda.  \n",
    "   -  Evalua si la reasignación puede ayudar a disminuir la altura del árbol en escenarios donde la secuencia de inserciones es desfavorable.\n",
    "\n",
    "3. **Soporte de claves duplicadas con orden secundario:**  \n",
    "   - **Tarea:** Modifica la clase `Treap.Entry` para admitir claves duplicadas, utilizando como desempate un contador o campo adicional, y actualizar los métodos de búsqueda e inserción.  \n",
    "   -  Prueba la robustez del árbol ante datos con repetición y validar que no se alteren las propiedades de BST y min-heap.\n",
    "\n",
    "4. **Prueba de inserción y búsqueda aleatoria:**  \n",
    "   - **Tarea:** Diseña un caso de prueba que inserte 1,000 valores aleatorios en un `RandomizedTreap`, verifique que cada elemento insertado se pueda recuperar mediante `search()` y confirme, al final, que se cumplen las invariantes del Treap.  \n",
    "   - Valida la integridad de la estructura en condiciones de operación normal.\n",
    "\n",
    "5. **Prueba de operaciones en secuencia ordenada:**  \n",
    "   - **Tarea:** Crea un test en el que se inserten elementos en orden decreciente y luego se ejecute la operación `top()` de forma repetida. Verificar que la extracción de la raíz se realice correctamente y que, finalmente, el árbol quede vacío.  \n",
    "   - Evalua el manejo de casos extremos y la correcta actualización de punteros tras rotaciones.\n",
    "\n",
    "6. **Prueba de actualización de prioridad:**  \n",
    "   - **Tarea:** Iniciar un árbol con un conjunto predeterminado (por ejemplo, `{20, 30, 40, 50, 70}`), actualizar la prioridad de un nodo (por ejemplo, cambiar la prioridad de la clave 50) e inspeccionar que la nueva posición del nodo respete las reglas del Treap.  \n",
    "   - **Objetivo:** Asegurar que los métodos `updatePriority()`, `bubbleUp()` y `pushDown()` funcionen de forma integrada.\n",
    "\n",
    "7. **Contador de rotaciones:**  \n",
    "   - **Tarea:** Instrumenta la implementación del Treap para contar las rotaciones realizadas durante inserciones y eliminaciones. Ejecutar pruebas con conjuntos de tamaño 500, 1,000, 5,000 y 10,000, y comparar la cantidad de rotaciones en cada caso.  \n",
    "   - Determina el costo de mantenimiento del equilibrio y compararlo con el rendimiento del BST iterativo.\n",
    "\n",
    "8. **Simulación de concurrencia intensiva:**  \n",
    "   - **Tarea:** Diseña un experimento en el que se ejecuten 5 hilos concurrentes en un `RandomizedTreap`, donde cada hilo realice 1,000 operaciones mixtas (inserciones y búsquedas). Al finalizar, comprobar que el tamaño del árbol coincide con el esperado.  \n",
    "   - Mide la latencia en operaciones de lectura y escritura, evaluar posibles cuellos de botella y verificar la eficacia del Read/Write Lock en escenarios reales de alta concurrencia.\n",
    "\n",
    "9. **Balance de lecturas vs. escrituras:**  \n",
    "   - **Tarea:** Simula un escenario donde 100 hilos realizan exclusivamente búsquedas y 10 hilos realizan solo inserciones en el mismo árbol. Registrar tiempos de respuesta y latencias en las búsquedas durante la actividad de escrituras concurrentes.  \n",
    "   - Valida que el mecanismo de bloqueo permite una alta concurrencia en lecturas sin perder integridad ni aumentar excesivamente los tiempos de espera.\n"
   ]
  },
  {
   "cell_type": "code",
   "execution_count": null,
   "id": "a86ec2bd-648d-47ed-b320-34a1adf58463",
   "metadata": {},
   "outputs": [],
   "source": [
    "## Tus respuestas"
   ]
  }
 ],
 "metadata": {
  "kernelspec": {
   "display_name": "Python 3 (ipykernel)",
   "language": "python",
   "name": "python3"
  },
  "language_info": {
   "codemirror_mode": {
    "name": "ipython",
    "version": 3
   },
   "file_extension": ".py",
   "mimetype": "text/x-python",
   "name": "python",
   "nbconvert_exporter": "python",
   "pygments_lexer": "ipython3",
   "version": "3.12.3"
  }
 },
 "nbformat": 4,
 "nbformat_minor": 5
}
