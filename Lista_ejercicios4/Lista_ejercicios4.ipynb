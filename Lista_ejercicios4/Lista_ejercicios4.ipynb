{
 "cells": [
  {
   "cell_type": "markdown",
   "id": "67eaa08b",
   "metadata": {
    "deletable": false,
    "editable": false,
    "nbgrader": {
     "cell_type": "markdown",
     "checksum": "a55c6e4d82cad380b8cebb62285c516f",
     "grade": false,
     "grade_id": "cell-11e6289c84816863",
     "locked": true,
     "schema_version": 3,
     "solution": false,
     "task": false
    }
   },
   "source": [
    "En esta tarea, exploraremos count-min sketches y filtros Bloom. Utilizaremos dos archivos de texto, `great-gatsby-fitzgerald.txt` y `war-and-peace-tolstoy.txt`, para cargar el texto de dos novelas famosas, cortesía del proyecto Guttenberg.\n",
    "\n",
    "Exploraremos dos tareas:\n",
    "\n",
    "  - Contar la frecuencia de palabras de 5 o más caracteres en ambas novelas usando un count-min sketch\n",
    "  - Usar un filtro Bloom para contar aproximadamente cuántas palabras de la novela *War and Peace* ya aparecen en *The Great Gatsby*."
   ]
  },
  {
   "cell_type": "markdown",
   "id": "81ff520b",
   "metadata": {
    "deletable": false,
    "editable": false,
    "nbgrader": {
     "cell_type": "markdown",
     "checksum": "f7a2a9b0f0fe586464a31d8e4ecda728",
     "grade": false,
     "grade_id": "cell-dfc8e09426234a08",
     "locked": true,
     "schema_version": 3,
     "solution": false,
     "task": false
    }
   },
   "source": [
    "#### **Paso 1: Crear una familia universal de funciones hash**\n",
    "\n",
    "Utilizaremos una familia de funciones hash que comienza (a) generando un número primo aleatorio $p$ (usaremos la prueba de primalidad Miller-Rabin para este propósito); (b) generando números aleatorios **a** y **b** entre 2 y p-1.\n",
    "\n",
    "La función hash $h_{a,b,p}(n) = (an + b) \\mod p$.\n",
    "\n",
    "Ten en cuenta que esta función produce valores entre 0 y $p-1$. También debemos asegurarnos de tomar el valor hash módulo $m$, donde $m$ es el tamaño de la tabla hash.\n",
    "\n",
    "Para hashear cadenas, primero utilizaremos la función hash incorporada de Python y luego aplicaremos $h_{a,b,p}$ al resultado.\n",
    "\n",
    "Como primer paso, generaremos un número primo aleatorio.\n",
    "\n",
    "#### **(A) Generar números primos aleatorios**"
   ]
  },
  {
   "cell_type": "code",
   "execution_count": null,
   "id": "40bd61e7",
   "metadata": {
    "deletable": false,
    "editable": false,
    "nbgrader": {
     "cell_type": "code",
     "checksum": "655633cc8179edf1da08316324a305a5",
     "grade": false,
     "grade_id": "cell-29b403a91ab960c0",
     "locked": true,
     "schema_version": 3,
     "solution": false,
     "task": false
    }
   },
   "outputs": [],
   "source": [
    "# Programa en Python 3 para la prueba de primalidad aleatoria Miller-Rabin\n",
    "# Copiado de geeksforgeeks: https://www.geeksforgeeks.org/primality-test-set-3-miller-rabin/\n",
    "import random \n",
    "\n",
    "# Función auxiliar para realizar la exponenciación modular.\n",
    "# Retorna (x^y) % p\n",
    "def power(x, y, p): \n",
    "\t# Inicializar resultado\n",
    "\tres = 1; \n",
    "\t\n",
    "\t# Actualizar x si es mayor o igual que p\n",
    "\tx = x % p; \n",
    "\twhile (y > 0): \n",
    "\t\t# Si y es impar, multiplica x con el resultado\n",
    "\t\tif (y & 1): \n",
    "\t\t\tres = (res * x) % p; \n",
    "\n",
    "\t\t# Ahora y debe ser par\n",
    "\t\ty = y >> 1; # y = y/2 \n",
    "\t\tx = (x * x) % p; \n",
    "\t\n",
    "\treturn res; \n",
    "\n",
    "# Esta función se llama para todos los k ensayos.\n",
    "# Retorna False si n es compuesto y True si n es probablemente primo.\n",
    "# d es un número impar tal que d*2^r = n-1 para algún r >= 1\n",
    "def miillerTest(d, n): \n",
    "\t# Elegir un número aleatorio en [2, n-2]\n",
    "\t# Casos particulares aseguran que n > 4\n",
    "\ta = 2 + random.randint(1, n - 4); \n",
    "\n",
    "\t# Calcular a^d % n\n",
    "\tx = power(a, d, n); \n",
    "\n",
    "\tif (x == 1 or x == n - 1): \n",
    "\t\treturn True; \n",
    "\n",
    "\t# Seguir elevando x al cuadrado hasta que:\n",
    "\t# (i) d no alcance n-1, o\n",
    "\t# (ii) (x^2) % n no sea 1, o\n",
    "\t# (iii) (x^2) % n no sea n-1\n",
    "\twhile (d != n - 1): \n",
    "\t\tx = (x * x) % n; \n",
    "\t\td *= 2; \n",
    "\n",
    "\t\tif (x == 1): \n",
    "\t\t\treturn False; \n",
    "\t\tif (x == n - 1): \n",
    "\t\t\treturn True; \n",
    "\n",
    "\t# Retorna compuesto\n",
    "\treturn False; \n",
    "\n",
    "# Retorna False si n es compuesto y True si n es probablemente primo.\n",
    "# k es un parámetro que determina el nivel de precisión; un valor mayor de k indica mayor precisión.\n",
    "def isPrime( n, k): \n",
    "\t# Casos particulares\n",
    "\tif (n <= 1 or n == 4): \n",
    "\t\treturn False; \n",
    "\tif (n <= 3): \n",
    "\t\treturn True; \n",
    "\n",
    "\t# Encontrar d tal que n = 2^r * d + 1 para algún r >= 1\n",
    "\td = n - 1; \n",
    "\twhile (d % 2 == 0): \n",
    "\t\td //= 2; \n",
    "\n",
    "\t# Iterar k veces\n",
    "\tfor i in range(k): \n",
    "\t\tif (miillerTest(d, n) == False): \n",
    "\t\t\treturn False; \n",
    "\n",
    "\treturn True; \n",
    "\n",
    "# Código principal\n",
    "# Número de iteraciones\n",
    "k = 4; \n",
    "\n",
    "print(\"Todos los primos menores que 100: \"); \n",
    "for n in range(1,100): \n",
    "\tif (isPrime(n, k)): \n",
    "\t\tprint(n , end=\" \"); \n",
    "\n",
    "# Este código fue contribuido por mits (ver cita arriba)"
   ]
  },
  {
   "cell_type": "markdown",
   "id": "e19addf0",
   "metadata": {
    "deletable": false,
    "editable": false,
    "nbgrader": {
     "cell_type": "markdown",
     "checksum": "8ac8a3f52da6274beeda7e3ec8bbeac1",
     "grade": false,
     "grade_id": "cell-73221461b19b5567",
     "locked": true,
     "schema_version": 3,
     "solution": false,
     "task": false
    }
   },
   "source": [
    "#### **Paso 2: Familias universales de funciones hash**\n",
    "\n",
    "Proporcionaremos tres funciones útiles para ti:\n",
    "\n",
    "  - `get_random_hash_function`: Genera aleatoriamente un triple de números `(p, a, b)`, donde **p** es primo y **a** y **b** son números entre 2 y p-1. La función hash $h_{p,a,b}(n)$ se define como $ (an + b) \\mod p$.\n",
    "  \n",
    "  - `hashfun`: Aplica la función hash aleatoria a un número `num`.\n",
    "  - `hash_string`: Aplica la función hash a una cadena `hstr`. Ten en cuenta que el resultado estará entre 0 y p-1. Si tu tabla hash tiene tamaño `m`, debes tomar el resultado módulo `m` cuando llames a `hash_string`.\n",
    "  \n",
    "Por favor, utiliza estas funciones en tu código a continuación."
   ]
  },
  {
   "cell_type": "code",
   "execution_count": null,
   "id": "56a52cba",
   "metadata": {
    "deletable": false,
    "editable": false,
    "nbgrader": {
     "cell_type": "code",
     "checksum": "ef7c5ab31c424ee21d9a1c3b81ff2fd8",
     "grade": false,
     "grade_id": "cell-1c9654f9fcd91883",
     "locked": true,
     "schema_version": 3,
     "solution": false,
     "task": false
    }
   },
   "outputs": [],
   "source": [
    "# Obtener un triple aleatorio (p, a, b) donde p es primo y a, b son números entre 2 y p-1\n",
    "def get_random_hash_function():\n",
    "    n = random.getrandbits(64)\n",
    "    if n < 0: \n",
    "        n = -n \n",
    "    if n % 2 == 0:\n",
    "        n = n + 1\n",
    "    while not isPrime(n, 20):\n",
    "        n = n + 1\n",
    "    a = random.randint(2, n-1)\n",
    "    b = random.randint(2, n-1)\n",
    "    return (n, a, b)\n",
    "\n",
    "# Función hash para un número\n",
    "def hashfun(hfun_rep, num):\n",
    "    (p, a, b) = hfun_rep\n",
    "    return (a * num + b) % p\n",
    "\n",
    "# Función hash para una cadena.\n",
    "def hash_string(hfun_rep, hstr):\n",
    "    n = hash(hstr)\n",
    "    return hashfun(hfun_rep, n)    "
   ]
  },
  {
   "cell_type": "markdown",
   "id": "c1e14c64",
   "metadata": {
    "deletable": false,
    "editable": false,
    "nbgrader": {
     "cell_type": "markdown",
     "checksum": "575e46059b43af6f541a7c5e74e6e956",
     "grade": false,
     "grade_id": "cell-f383acfe5e19ce49",
     "locked": true,
     "schema_version": 3,
     "solution": false,
     "task": false
    }
   },
   "source": [
    "#### **Paso 3: Cargando datos**\n",
    "\n",
    "Vamos a cargar dos archivos, `great-gatsby-fitzgerald.txt` y `war-and-peace-tolstoy.txt`, para obtener el texto de dos novelas famosas, cortesía del Proyecto Guttenberg. Filtraremos todas las palabras con longitud mayor o igual a 5 y también contaremos la frecuencia de cada palabra en un diccionario. Esto será rápido porque se utilizarán tablas hash (diccionarios) altamente optimizados incorporados en Python."
   ]
  },
  {
   "cell_type": "code",
   "execution_count": null,
   "id": "831a5ed4",
   "metadata": {
    "deletable": false,
    "editable": false,
    "nbgrader": {
     "cell_type": "code",
     "checksum": "012317538b0b54757a490f1ebcf19045",
     "grade": false,
     "grade_id": "cell-22b93e681d415b67",
     "locked": true,
     "schema_version": 3,
     "solution": false,
     "task": false
    }
   },
   "outputs": [],
   "source": [
    "filename = 'great-gatsby-fitzgerald.txt'\n",
    "with open(filename, 'r', encoding='utf-8') as file:\n",
    "    txt = file.read()\n",
    "\n",
    "txt = txt.replace('\\n', ' ')\n",
    "words = txt.split(' ')\n",
    "longer_words_gg = list(filter(lambda s: len(s) >= 5, words))\n",
    "print(len(longer_words_gg))\n",
    "\n",
    "# Contemos la frecuencia exacta de cada palabra\n",
    "word_freq_gg = {}\n",
    "for elt in longer_words_gg:\n",
    "    if elt in word_freq_gg:\n",
    "        word_freq_gg[elt] += 1\n",
    "    else:\n",
    "        word_freq_gg[elt] = 1\n",
    "print(len(word_freq_gg))\n"
   ]
  },
  {
   "cell_type": "code",
   "execution_count": null,
   "id": "e8bb96bf",
   "metadata": {
    "deletable": false,
    "editable": false,
    "nbgrader": {
     "cell_type": "code",
     "checksum": "1be2b84b70b54d25daae840d3c5a007a",
     "grade": false,
     "grade_id": "cell-ad7310bc2a593322",
     "locked": true,
     "schema_version": 3,
     "solution": false,
     "task": false
    }
   },
   "outputs": [],
   "source": [
    "filename = 'war-and-peace-tolstoy.txt'\n",
    "with open(filename, 'r', encoding='utf-8') as file:\n",
    "    txt = file.read()\n",
    "\n",
    "txt = txt.replace('\\n', ' ')\n",
    "words = txt.split(' ')\n",
    "longer_words_wp = list(filter(lambda s: len(s) >= 5, words))\n",
    "print(len(longer_words_wp))\n",
    "\n",
    "# Contemos la frecuencia exacta de cada palabra\n",
    "word_freq_wp = {}\n",
    "for elt in longer_words_wp:\n",
    "    if elt in word_freq_wp:\n",
    "        word_freq_wp[elt] += 1\n",
    "    else:\n",
    "        word_freq_wp[elt] = 1\n",
    "print(len(word_freq_wp))\n"
   ]
  },
  {
   "cell_type": "markdown",
   "id": "df18b172",
   "metadata": {
    "deletable": false,
    "editable": false,
    "nbgrader": {
     "cell_type": "markdown",
     "checksum": "56e7a5e610cd3780396524e82e81003c",
     "grade": false,
     "grade_id": "cell-4a80bf43ea35608c",
     "locked": true,
     "schema_version": 3,
     "solution": false,
     "task": false
    }
   },
   "source": [
    "#### **Problema 1: Implementar count-min sketch**\n",
    "\n",
    "Implementa la clase `CountMinSketch` a continuación, donde `num_counters` es el número de contadores. Se te proporciona el constructor que ya genera un representante aleatorio de una familia de funciones hash. Implementa las funciones:\n",
    "  - `increment`\n",
    "  - `approximateCount`.\n",
    "  \n",
    "Por favor, lee cuidadosamente el constructor: este inicializa los contadores y genera la función hash para ti.\n",
    "Además, cuando llames a la función `hash_string` definida anteriormente, no olvides tomar el resultado módulo m."
   ]
  },
  {
   "cell_type": "code",
   "execution_count": null,
   "id": "eaf4a55e",
   "metadata": {
    "deletable": false,
    "editable": false,
    "nbgrader": {
     "cell_type": "code",
     "checksum": "031189883fee31a6a51def4aff506813",
     "grade": false,
     "grade_id": "cell-4f9b9b03abdcfe40",
     "locked": true,
     "schema_version": 3,
     "solution": true,
     "task": false
    }
   },
   "outputs": [],
   "source": [
    "# Clase para implementar un count-min sketch con una sola \"banca\" de contadores\n",
    "class CountMinSketch:\n",
    "    # Inicializa con `num_counters`\n",
    "    def __init__(self, num_counters):\n",
    "        self.m = num_counters\n",
    "        self.hash_fun_rep = get_random_hash_function()\n",
    "        self.counters = [0] * self.m\n",
    "    \n",
    "    # tu código aquí\n",
    "    \n",
    "    # Función: increment\n",
    "    # Dada una palabra, incrementa su cuenta en el count-min sketch\n",
    "    def increment(self, word):\n",
    "        # tu código aquí\n",
    "        \n",
    "    # Función: approximateCount\n",
    "    # Dada una palabra, obtiene su cuenta aproximada\n",
    "    def approximateCount(self, word):\n",
    "        # tu código aquí\n"
   ]
  },
  {
   "cell_type": "code",
   "execution_count": null,
   "id": "ce0d78a4",
   "metadata": {
    "deletable": false,
    "editable": false,
    "nbgrader": {
     "cell_type": "code",
     "checksum": "e86661497abeaf155d311f90314b2c50",
     "grade": false,
     "grade_id": "cell-52b69c2c1b76f6a8",
     "locked": true,
     "schema_version": 3,
     "solution": false,
     "task": false
    }
   },
   "outputs": [],
   "source": [
    "# Ahora implementaremos el algoritmo para una banca de k contadores\n",
    "\n",
    "# Inicializa k contadores diferentes\n",
    "def initialize_k_counters(k, m): \n",
    "    return [CountMinSketch(m) for i in range(k)]\n",
    "\n",
    "# Función increment_counters\n",
    "# Incrementa cada uno de los contadores individuales con la palabra\n",
    "def increment_counters(count_min_sketches, word):\n",
    "    # tu código aquí\n",
    "    \n",
    "# Función: approximate_count\n",
    "# Obtiene la cuenta aproximada consultando cada banco de contadores y tomando el mínimo\n",
    "def approximate_count(count_min_sketches, word):\n",
    "    return min([cms.approximateCount(word) for cms in count_min_sketches])"
   ]
  },
  {
   "cell_type": "code",
   "execution_count": null,
   "id": "de989600",
   "metadata": {
    "deletable": false,
    "editable": false,
    "nbgrader": {
     "cell_type": "code",
     "checksum": "9092f909c1bde4f0b80c67144ace3e49",
     "grade": true,
     "grade_id": "cell-f46918d88bcfc44c",
     "locked": true,
     "points": 10,
     "schema_version": 3,
     "solution": false,
     "task": false
    }
   },
   "outputs": [],
   "source": [
    "%matplotlib inline\n",
    "from matplotlib import pyplot as plt \n",
    "\n",
    "# Veamos qué tan bien funciona tu solución para las palabras de The Great Gatsby\n",
    "cms_list = initialize_k_counters(5, 1000)\n",
    "for word in longer_words_gg:\n",
    "    increment_counters(cms_list, word)\n",
    "\n",
    "discrepencies = []\n",
    "for word in longer_words_gg:\n",
    "    l = approximate_count(cms_list, word)\n",
    "    r = word_freq_gg[word]\n",
    "    assert(l >= r)\n",
    "    discrepencies.append(l - r)\n",
    "    \n",
    "plt.hist(discrepencies)\n",
    "\n",
    "assert(max(discrepencies) <= 200), 'La mayor discrepancia debe ser definitivamente menor que 200 con alta probabilidad. Por favor revisa tu implementación'\n",
    "print('Todas las pruebas superadas!')"
   ]
  },
  {
   "cell_type": "code",
   "execution_count": null,
   "id": "86e612c8",
   "metadata": {
    "deletable": false,
    "editable": false,
    "nbgrader": {
     "cell_type": "code",
     "checksum": "f5f9d0e915170f181348ff78d61fac1f",
     "grade": true,
     "grade_id": "cell-592d2f3552e20599",
     "locked": true,
     "points": 5,
     "schema_version": 3,
     "solution": false,
     "task": false
    }
   },
   "outputs": [],
   "source": [
    "# Veamos qué tan bien funciona tu solución para War and Peace\n",
    "cms_list = initialize_k_counters(5, 5000)\n",
    "for word in longer_words_wp:\n",
    "    increment_counters(cms_list, word)\n",
    "\n",
    "discrepencies = []\n",
    "for word in longer_words_wp:\n",
    "    l = approximate_count(cms_list, word)\n",
    "    r = word_freq_wp[word]\n",
    "    assert(l >= r)\n",
    "    discrepencies.append(l - r)\n",
    "\n",
    "plt.hist(discrepencies)\n",
    "print('Todas las pruebas superadas!')"
   ]
  },
  {
   "cell_type": "markdown",
   "id": "9a468532",
   "metadata": {
    "deletable": false,
    "editable": false,
    "nbgrader": {
     "cell_type": "markdown",
     "checksum": "695a620d4ee55c5fa4aa7da9ff06e626",
     "grade": false,
     "grade_id": "cell-05bbe5025159958a",
     "locked": true,
     "schema_version": 3,
     "solution": false,
     "task": false
    }
   },
   "source": [
    "#### **Problema 1B**\n",
    "\n",
    "Verifica los datos obtenidos anteriormente con cálculos similares a los realizados en clase. Si tuviéramos\n",
    "$5$ bancos de contadores con $5000$ contadores cada uno y una familia uniforme de funciones hash, ¿cuál es la probabilidad de que, al contar un total de $N = 2.5\\times 10^{5}$ palabras, tengamos una discrepancia de 80 o más?\n"
   ]
  },
  {
   "cell_type": "markdown",
   "id": "a6db6e4f",
   "metadata": {
    "deletable": false,
    "editable": false,
    "nbgrader": {
     "cell_type": "markdown",
     "checksum": "be6067bdf327e5f738dbffa50c9ce755",
     "grade": true,
     "grade_id": "cell-8a8072c81e421aee",
     "locked": true,
     "points": 0,
     "schema_version": 3,
     "solution": true,
     "task": false
    }
   },
   "source": [
    "Tu respuesta"
   ]
  },
  {
   "cell_type": "markdown",
   "id": "17d846dc",
   "metadata": {
    "deletable": false,
    "editable": false,
    "nbgrader": {
     "cell_type": "markdown",
     "checksum": "47928f051cd28ea645c638e167be3b44",
     "grade": false,
     "grade_id": "cell-344a83e8908d1faf",
     "locked": true,
     "schema_version": 3,
     "solution": false,
     "task": false
    }
   },
   "source": [
    "#### **Problema 2: Usar un filtro Bloom para contar palabras comunes**\n",
    "\n",
    "En este problema, implementaremos un filtro Bloom para contar cuántos elementos de `longer_words_wp` (las palabras de longitud 5 o más en War and Peace) aparecen en la novela *The Great Gatsby*. Para ello, haremos lo siguiente:\n",
    "\n",
    " - Instanciar un filtro Bloom con un número de bits `n` y un número de funciones hash `k`.\n",
    " - Insertar todas las palabras de The Great Gatsby en el filtro.\n",
    " - Para cada palabra de War and Peace, verificar la pertenencia en el filtro Bloom y contar el número de respuestas afirmativas."
   ]
  },
  {
   "cell_type": "code",
   "execution_count": null,
   "id": "6af36b6e",
   "metadata": {
    "deletable": false,
    "editable": false,
    "nbgrader": {
     "cell_type": "code",
     "checksum": "8ddf045e806dbb4e195888e8cd87d73a",
     "grade": false,
     "grade_id": "cell-fae86832b7a1eb5e",
     "locked": true,
     "schema_version": 3,
     "solution": true,
     "task": false
    }
   },
   "outputs": [],
   "source": [
    "class BloomFilter:\n",
    "    def __init__(self, nbits, nhash):\n",
    "        self.bits = [False] * nbits  # Inicializar todos los bits a False\n",
    "        self.m = nbits\n",
    "        self.k = nhash\n",
    "        # Obtener k funciones hash aleatorias\n",
    "        self.hash_fun_reps = [get_random_hash_function() for i in range(self.k)]\n",
    "    \n",
    "    # Función para insertar una palabra en el filtro Bloom.\n",
    "    def insert(self, word):\n",
    "        # tu código aquí\n",
    "        \n",
    "    # Verificar si una palabra pertenece al filtro Bloom\n",
    "    def member(self, word):\n",
    "        # tu código aquí\n",
    "\n",
    "        return True\n"
   ]
  },
  {
   "cell_type": "code",
   "execution_count": null,
   "id": "ca9a7f1d",
   "metadata": {
    "deletable": false,
    "editable": false,
    "nbgrader": {
     "cell_type": "code",
     "checksum": "3e6d8bde939a16edca749ffe1098aa91",
     "grade": false,
     "grade_id": "cell-92fcbb197bfe3661",
     "locked": true,
     "schema_version": 3,
     "solution": false,
     "task": false
    }
   },
   "outputs": [],
   "source": [
    "# Realizar el conteo exacto\n",
    "# Es una medida de lo optimizadas que están las estructuras de datos de Python internamente, ya que esta operación termina muy rápidamente.\n",
    "all_words_gg = set(longer_words_gg)\n",
    "exact_common_wc = 0\n",
    "for word in longer_words_wp:\n",
    "    if word in all_words_gg:\n",
    "        exact_common_wc += 1\n",
    "print(f'Conteo exacto de palabras comunes = {exact_common_wc}')"
   ]
  },
  {
   "cell_type": "code",
   "execution_count": null,
   "id": "8daed83e",
   "metadata": {
    "deletable": false,
    "editable": false,
    "nbgrader": {
     "cell_type": "code",
     "checksum": "350ca6a04e5883ce24905f0268d0fc12",
     "grade": true,
     "grade_id": "cell-c43547e8c520ff88",
     "locked": true,
     "points": 10,
     "schema_version": 3,
     "solution": false,
     "task": false
    }
   },
   "outputs": [],
   "source": [
    "# Intentemos usar lo mismo con un filtro Bloom.\n",
    "bf = BloomFilter(100000, 5)\n",
    "for word in longer_words_gg:\n",
    "    bf.insert(word)\n",
    "    \n",
    "for word in longer_words_gg:\n",
    "    assert bf.member(word), f'La palabra: {word} debería pertenecer'\n",
    "\n",
    "common_word_count = 0\n",
    "for word in longer_words_wp:\n",
    "    if bf.member(word):\n",
    "        common_word_count += 1\n",
    "print(f'El número de palabras comunes de longitud >= 5 es: {common_word_count}')\n",
    "assert common_word_count >= exact_common_wc\n",
    "print('Todas las pruebas superadas: 10 puntos')"
   ]
  },
  {
   "cell_type": "markdown",
   "id": "fde32094",
   "metadata": {
    "deletable": false,
    "editable": false,
    "nbgrader": {
     "cell_type": "markdown",
     "checksum": "a058c200be3f1999b4e8b74116969230",
     "grade": false,
     "grade_id": "cell-686a6bc365e25c35",
     "locked": true,
     "schema_version": 3,
     "solution": false,
     "task": false
    }
   },
   "source": [
    "#### **Problema 2B**\n",
    "\n",
    "Dado un filtro Bloom con $m = 100000$ bits y $k = 5$ funciones hash que asignan cada clave de forma uniforme y aleatoria a uno de los bits (según el supuesto), estima la probabilidad de que los $k$ bits $i_1, \\ldots, i_k$ estén simultáneamente activados cuando se insertan $n = 10000$ palabras. Asume que la activación de cada bit es independiente de la de otro."
   ]
  },
  {
   "cell_type": "markdown",
   "id": "41cdff72",
   "metadata": {
    "deletable": false,
    "editable": false,
    "nbgrader": {
     "cell_type": "markdown",
     "checksum": "6d5522eb5b7340b3e1613d6842b41160",
     "grade": true,
     "grade_id": "cell-be6d976534e0936c",
     "locked": true,
     "points": 0,
     "schema_version": 3,
     "solution": true,
     "task": false
    }
   },
   "source": [
    "Tu respuesta"
   ]
  },
  {
   "cell_type": "markdown",
   "id": "5484ebb6",
   "metadata": {
    "deletable": false,
    "editable": false,
    "nbgrader": {
     "cell_type": "markdown",
     "checksum": "5d5d44dcb9fc84475835cb3bc34b5246",
     "grade": false,
     "grade_id": "cell-80241300e0a5159c",
     "locked": true,
     "schema_version": 3,
     "solution": false,
     "task": false
    }
   },
   "source": [
    "### **Más ejercicios**\n",
    "\n",
    "#### **Ejercicio 1. Análisis del error en un count‑min sketch**\n",
    "\n",
    "**Planteamiento:**  \n",
    "Considera un count‑min sketch con $ k $ bancos de contadores, cada uno de tamaño $ m $. Se inserta un total de $ N $ palabras en el esquema.  \n",
    "1. Demuestra que para cualquier palabra, la cuenta aproximada $ \\widetilde{f} $ satisface  \n",
    "   $$\n",
    "   f \\leq \\widetilde{f} \\leq f + \\epsilon\n",
    "   $$\n",
    "   donde $ f $ es la frecuencia real y $ \\epsilon $ está acotada en función de $ \\frac{N}{m} $.  \n",
    "2. Bajo el supuesto de funciones hash uniformemente distribuidas, usa la desigualdad de Markov para acotar la probabilidad de que la diferencia $ \\widetilde{f} - f $ sea mayor o igual a un umbral dado (por ejemplo, 80).  \n",
    "3. Reflexiona sobre cómo influyen los parámetros $ k $ y $ m $ en el error esperado y en la probabilidad de obtener grandes discrepancias.\n",
    "\n",
    "#### **Ejercicio 2. Probabilidad de colisiones en count‑min sketch**\n",
    "\n",
    "**Planteamiento:**  \n",
    "Dado que cada función hash en el count‑min sketch se supone que asigna las palabras de forma uniforme entre $ m $ contadores, analiza lo siguiente:  \n",
    "\n",
    "1. Para una palabra con frecuencia $ f $, determina la probabilidad de que, en un banco de contadores, se produzca una colisión con palabras distintas que hayan sido mapeadas al mismo contador.  \n",
    "2. Utilizando la esperanza del número total de inserciones $ N $, determina la esperanza de error (incremento por colisiones) en un único contador.  \n",
    "3. Discute cómo estas colisiones afectan el error agregado cuando se toman las mínimas lecturas de entre los $ k $ bancos.\n",
    "\n",
    "#### **Ejercicio 3. Análisis del filtro Bloom**\n",
    "\n",
    "**Planteamiento:**  \n",
    "Un filtro Bloom utiliza $ m $ bits y $ k $ funciones hash para insertar $ n $ elementos.  \n",
    "1. Deriva la fórmula para la probabilidad de que un bit en el filtro permanezca desactivado después de insertar $ n $ elementos.  \n",
    "2. A partir de lo anterior, demuestra que la probabilidad de falso positivo (es decir, la probabilidad de que para un elemento no insertado, todos los $ k $ bits correspondientes estén activados) es:  \n",
    "   $$\n",
    "   P_{fp} \\approx \\left(1 - e^{-kn/m}\\right)^k.\n",
    "   $$\n",
    "3. Discute cómo varía $ P_{fp} $ al modificar $ m $, $ k $ y $ n $ y encuentra (teóricamente) el número óptimo de funciones hash $ k $ para una configuración dada.\n",
    "\n",
    "#### **Ejercicio 4. Comparación teórica: count‑min sketch vs. filtro Bloom** \n",
    "**Planteamiento:**  \n",
    "Realiza un análisis comparativo en el que se discutan los siguientes aspectos:  \n",
    "1. **Uso de memoria:** ¿Cómo afecta el tamaño de las estructuras (número de contadores en el count‑min sketch versus número de bits en el filtro Bloom) la eficiencia en el consumo de memoria?  \n",
    "2. **Velocidad de operación:** Compara la eficiencia en la inserción y consulta para cada estructura, considerando el costo de calcular múltiples funciones hash.  \n",
    "3. **Exactitud vs. aproximación:** Mientras que el count‑min sketch estima frecuencias (siempre sobreestimándolas), el filtro Bloom sólo indica pertenencia con una tasa de falsos positivos. Reflexiona sobre en qué escenarios uno podría preferir una técnica en lugar de la otra.\n",
    "\n",
    "#### **Ejercicio 5. Propiedades de una familia de funciones hash universales** \n",
    "**Planteamiento:**  \n",
    "1. Define formalmente qué significa que una familia de funciones hash sea *universal* y por qué esta propiedad es crucial para evitar malos comportamientos en estructuras como el count‑min sketch y el filtro Bloom.  \n",
    "2. Demuestra que, para dos entradas distintas $ x $ e $ y $, la probabilidad de que se produzca una colisión (es decir, $ h(x) = h(y) $) es acotada por $ \\frac{1}{p} $ (o $ \\frac{1}{m} $ si se toma módulo $ m $) bajo el supuesto de una distribución uniforme.  \n",
    "3. Explica con tus propias palabras la importancia de la \"distribución uniforme\" y cómo afecta la precisión de las estimaciones.\n",
    "\n",
    "#### **Ejercicio 6. Simulación y modelado teórico**  \n",
    "**Planteamiento:**  \n",
    "Propón un método teórico (y, de ser posible, complementario a simulaciones experimentales) para estimar la distribución del error en las cuentas aproximadas obtenidas con un count‑min sketch.  \n",
    "1. Describe cómo diseñar un experimento (ya sea mediante un análisis probabilístico o una simulación) para obtener la distribución empírica de $ \\widetilde{f} - f $ para una palabra dada.  \n",
    "2. Contrasta estos resultados empíricos con la cota teórica que obtuviste en el ejercicio 1.  \n",
    "3. Discute posibles causas de discrepancias entre los valores teóricos y los resultados empíricos.\n"
   ]
  },
  {
   "cell_type": "markdown",
   "id": "20f24b96",
   "metadata": {
    "deletable": false,
    "editable": false,
    "nbgrader": {
     "cell_type": "markdown",
     "checksum": "21327ec3f51109e1a65a2b7541dd1139",
     "grade": false,
     "grade_id": "cell-e24134f3086d63a4",
     "locked": true,
     "schema_version": 3,
     "solution": false,
     "task": false
    }
   },
   "source": [
    "Tus respuestas"
   ]
  }
 ],
 "metadata": {
  "kernelspec": {
   "display_name": "Python 3 (ipykernel)",
   "language": "python",
   "name": "python3"
  },
  "language_info": {
   "codemirror_mode": {
    "name": "ipython",
    "version": 3
   },
   "file_extension": ".py",
   "mimetype": "text/x-python",
   "name": "python",
   "nbconvert_exporter": "python",
   "pygments_lexer": "ipython3",
   "version": "3.12.3"
  }
 },
 "nbformat": 4,
 "nbformat_minor": 5
}
