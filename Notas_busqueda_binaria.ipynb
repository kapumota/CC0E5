{
 "cells": [
  {
   "cell_type": "markdown",
   "metadata": {
    "id": "tI2z1-Kt0QPi"
   },
   "source": [
    "### Algoritmo de búsqueda binaria\n",
    "\n",
    "El propósito de este cuaderno es explicar en detalle el algoritmo de búsqueda binaria, mostrando cómo demostrar su corrección, terminación y derivar su tiempo de ejecución. Esto sirve de complemento a la clase que explica la idea principal detrás del algoritmo.\n",
    "\n",
    "Dada una lista _ordenada_ (asumir orden ascendente) de $n$ elementos, deseamos determinar si un elemento dado `elt` pertenece a la lista.\n",
    "\n",
    "El algoritmo de búsqueda binaria reduce repetidamente la posible ubicación del elemento comparando el elemento central del rango de búsqueda con el que estamos buscando, aprovechando el hecho de que el arreglo está ordenado.\n",
    "\n",
    "\n",
    "Se desea implementar una función `binarySearchHelper(lst, elt, left, right)` en la cual:\n",
    "  - `lst` es una lista no vacía con al menos 2 elementos.\n",
    "  - `elt` es el elemento cuyo índice estamos buscando.\n",
    "  - `left` y `right` representan los \"límites\" (índices) del rango de búsqueda de la lista.\n",
    "    - Recuerda que en Python los índices comienzan en 0 y llegan hasta `len(lst)-1`.\n",
    "    - Sea `n` la longitud de la lista.\n",
    "    - Si 0 <= `left` <= `right` <= n-1, el rango a buscar es no vacío; de lo contrario, se asume que es vacío.\n",
    "\n",
    "La salida esperada es un número `index` o el valor de Python `None`.\n",
    "  - Si se retorna un número `index`, éste debe ser un índice válido en la lista entre `left` y `right` y debe cumplirse que `lst[index] == elt`.\n",
    "  - En caso contrario, se retorna `None` si y sólo si la lista `lst` no contiene a `elt`.\n",
    "\n",
    "A continuación se muestra la implementación de `binarySearchHelper`."
   ]
  },
  {
   "cell_type": "code",
   "execution_count": null,
   "metadata": {
    "id": "e-Hn4Zwd0QPp"
   },
   "outputs": [],
   "source": [
    "def binarySearchHelper(lst, elt, left, right):\n",
    "    n = len(lst)\n",
    "    if (left > right):\n",
    "        return None  # La región de búsqueda está vacía: salimos ya que no se puede encontrar elt en la lista.\n",
    "    else:\n",
    "        # Si elt existe en la lista, debe encontrarse entre los índices left y right.\n",
    "        mid = (left + right) // 2  # Nota: // es división entera\n",
    "        if lst[mid] == elt:\n",
    "            return mid  # ¡Lo encontramos. Se retorna su índice.\n",
    "        elif lst[mid] < elt:\n",
    "            # Buscamos en la parte derecha de la lista\n",
    "            return binarySearchHelper(lst, elt, mid + 1, right)\n",
    "        else:  # lst[mid] > elt\n",
    "            # Buscamos en la parte izquierda de la lista\n",
    "            return binarySearchHelper(lst, elt, left, mid - 1)"
   ]
  },
  {
   "cell_type": "code",
   "execution_count": null,
   "metadata": {
    "id": "dEuNpmxD0QPq"
   },
   "outputs": [],
   "source": [
    "def binarySearch(lst, elt):\n",
    "    n = len(lst)\n",
    "    if (elt < lst[0] or elt > lst[n-1]):\n",
    "        return None\n",
    "    else:  # Nota: Solo llegamos aquí si lst[0] <= elt <= lst[n-1]\n",
    "        return binarySearchHelper(lst, elt, 0, n-1)"
   ]
  },
  {
   "cell_type": "code",
   "execution_count": null,
   "metadata": {
    "id": "mb2SoTLN0QPr",
    "outputId": "38f3ac15-ab07-4612-b602-2fbacd69d722"
   },
   "outputs": [],
   "source": [
    "print(\"Buscando 9 en la lista [0,2,3,4,6,9,12]\")\n",
    "print(binarySearch([0,2,3,4,6,9,12], 9))\n",
    "\n",
    "print(\"Buscando 8 en la lista [1, 3, 4, 6, 8, 9, 10, 11, 12, 15]\")\n",
    "print(binarySearch([1, 3, 4, 6, 8, 9, 10, 11, 12, 15], 8))\n",
    "\n",
    "print(\"Buscando 5 en la lista [1, 3, 4, 6, 8, 9, 10, 11, 12, 15]\")\n",
    "print(binarySearch([1, 3, 4, 6, 8, 9, 10, 11, 12, 15], 5))\n",
    "\n",
    "print(\"Buscando 0 en la lista [0,2]\")\n",
    "print(binarySearch([0,2], 0))\n",
    "\n",
    "print(\"Buscando 1 en la lista [0,2]\")\n",
    "print(binarySearch([0,2], 1))\n",
    "\n",
    "print(\"Buscando 2 en la lista [0,2]\")\n",
    "print(binarySearch([0,2], 2))\n",
    "\n",
    "print(\"Buscando 1 en la lista [1]\")\n",
    "print(binarySearch([1], 1))\n",
    "\n",
    "print(\"Buscando 2 en la lista [1]\")\n",
    "print(binarySearch([1], 2))\n"
   ]
  },
  {
   "cell_type": "markdown",
   "metadata": {
    "id": "FJ54RpiL0QPs"
   },
   "source": [
    "#### Implementación usando bucles"
   ]
  },
  {
   "cell_type": "code",
   "execution_count": null,
   "metadata": {
    "id": "aUban6Af0QPs"
   },
   "outputs": [],
   "source": [
    "def binSearch(lst, elt):\n",
    "    n = len(lst)\n",
    "    if (elt < lst[0] or elt > lst[n-1]):\n",
    "        return None\n",
    "    else:\n",
    "        left = 0\n",
    "        right = n - 1\n",
    "        while (left <= right):\n",
    "            # La misma lógica que en la versión recursiva.\n",
    "            mid = (left + right) // 2  # Nota: en Python 3, // realiza división entera\n",
    "            if lst[mid] == elt:\n",
    "                return mid  # ¡BINGO! Lo encontramos. Se retorna su índice.\n",
    "            elif lst[mid] < elt:\n",
    "                left = mid + 1\n",
    "            else:  # lst[mid] > elt\n",
    "                right = mid - 1\n",
    "        return None"
   ]
  },
  {
   "cell_type": "code",
   "execution_count": null,
   "metadata": {
    "id": "SJhKIV8-0QPt",
    "outputId": "0af891f4-03bb-4efd-b695-266e1aa90ee4"
   },
   "outputs": [],
   "source": [
    "print(\"Buscando 9 en la lista [0,2,3,4,6,9,12]\")\n",
    "print(binSearch([0,2,3,4,6,9,12], 9))\n",
    "\n",
    "print(\"Buscando 8 en la lista [1, 3, 4, 6, 8, 9, 10, 11, 12, 15]\")\n",
    "print(binSearch([1, 3, 4, 6, 8, 9, 10, 11, 12, 15], 8))\n",
    "\n",
    "print(\"Buscando 5 en la lista [1, 3, 4, 6, 8, 9, 10, 11, 12, 15]\")\n",
    "print(binSearch([1, 3, 4, 6, 8, 9, 10, 11, 12, 15], 5))\n",
    "\n",
    "print(\"Buscando 0 en la lista [0,2]\")\n",
    "print(binSearch([0,2], 0))\n",
    "\n",
    "print(\"Buscando 1 en la lista [0,2]\")\n",
    "print(binSearch([0,2], 1))\n",
    "\n",
    "print(\"Buscando 2 en la lista [0,2]\")\n",
    "print(binSearch([0,2], 2))"
   ]
  },
  {
   "cell_type": "markdown",
   "metadata": {
    "id": "r0x46fu-0QPt"
   },
   "source": [
    "#### ¿Por qué funciona la búsqueda binaria?\n",
    "\n",
    "Probaremos lo siguiente:\n",
    "  - Si `elt` pertenece a `lst` en el índice `j`, entonces la búsqueda binaria retornará `j`, O\n",
    "  - Si `elt` no pertenece a `lst`, entonces la búsqueda binaria retornará `None`.\n",
    "\n",
    "También demostraremos que la búsqueda termina.\n",
    "\n",
    "Para facilitar, razonaremos sobre la versión recursiva.\n",
    "\n",
    "##### **Afirmación 1:** Para cualquier llamada a la función `binarySearchHelper(lst, elt, left, right)`, si `elt` pertenece a la lista en el índice `j`, entonces se cumple que `left <= j <= right`.\n",
    "\n",
    "**Demostración:** La demostración es por inducción en las llamadas a la función `binarySearchHelper`.\n",
    "\n",
    "**Caso base:** La primera llamada a `binarySearchHelper` realizada desde la función `binarySearch` satisface estas propiedades. Al inicio, tenemos `left = 0` y `right = n-1`. Por lo tanto, si `elt` pertenece a la lista, su índice debe estar entre `0` y `n-1`.\n",
    "\n",
    "**Inducción:** Si una llamada dada a `binarySearchHelper` satisface estos hechos, entonces la llamada subsiguiente también lo hará.\n",
    "\n",
    "Para demostrarlo, observemos detenidamente el cuerpo de la función:\n",
    "```python\n",
    "mid = (left + right) // 2  # Nota: // es división entera\n",
    "if lst[mid] == elt:\n",
    "    return mid\n",
    "elif lst[mid] < elt:\n",
    "    return binarySearchHelper(lst, elt, mid + 1, right)  ## LLAMADA 1\n",
    "else:  # lst[mid] > elt\n",
    "    return binarySearchHelper(lst, elt, left, mid - 1)  ## LLAMADA 2\n",
    "```\n",
    "\n",
    "Observa que se hacen dos llamadas a `binarySearchHelper` (LLAMADA 1 y LLAMADA 2).\n",
    "  - Para la LLAMADA 1, esta se efectúa únicamente si `lst[mid] < elt`. Dado que la lista está ordenada, si `elt` se encontrara, estaría en el rango de índices `[mid+1, right]`. Por ello, la propiedad se mantiene en la LLAMADA 1.\n",
    "  - Para la LLAMADA 2, esta se efectúa únicamente si `lst[mid] > elt`. Por lo tanto, si `elt` se encontrara, estaría en el rango de índices `[left, mid-1]`. Así, la propiedad se mantiene en la LLAMADA 2."
   ]
  },
  {
   "cell_type": "markdown",
   "metadata": {
    "id": "OvDeFhqW0QPu"
   },
   "source": [
    "**Definición:** Definimos el \"tamaño\" de la región de búsqueda de la búsqueda binaria como `(right - left + 1)`.\n",
    "\n",
    "##### **Afirmación 2:** Para cualquier llamada a la función `binarySearchHelper(lst, elt, left, right)`, o bien (a) terminamos encontrando `elt`, o (b) concluimos que `elt` no existe en `lst`, o (c) realizamos una llamada a `binarySearchHelper` con una región de búsqueda estrictamente menor.\n",
    "\n",
    "**Demostración:** La demostración de esta afirmación es directa a partir del código.\n",
    "```python\n",
    "mid = (left + right) // 2  # Nota: // es división entera\n",
    "if lst[mid] == elt:\n",
    "    return mid\n",
    "elif lst[mid] < elt:\n",
    "    return binarySearchHelper(lst, elt, mid + 1, right)  ## LLAMADA 1\n",
    "else:  # lst[mid] > elt\n",
    "    return binarySearchHelper(lst, elt, left, mid - 1)  ## LLAMADA 2\n",
    "```\n",
    "\n",
    "Para la LLAMADA 1, el nuevo tamaño de la región de búsqueda es\n",
    "`right - (mid + 1) + 1`, lo cual es lo mismo que `right - mid`. Dado que\n",
    "`mid >= left` (es decir, `mid > left - 1`), se tiene que el nuevo tamaño es `right - mid < right - (left - 1) = right - left + 1`.\n",
    "\n",
    "Para la LLAMADA 2, el nuevo tamaño de la región es `mid - left`. Dado que `mid <= right`, se tiene que `mid < right + 1`, y así `mid - left < right + 1 - left`. En consecuencia, la nueva región de búsqueda es estrictamente menor que la original.\n"
   ]
  },
  {
   "cell_type": "markdown",
   "metadata": {
    "id": "el1zUVH60QPv"
   },
   "source": [
    "#### Argumento de corrección global\n",
    "\n",
    "- Cada vez que se llama a `binarySearchHelper(lst, elt, left, right)`, se establece que, si `elt` se encuentra en `lst`, éste estará en el rango `[left, right]` (según la afirmación 1).\n",
    "- Por lo tanto, si `left > right`, el rango está vacío y podemos concluir que `elt` no se encuentra en la lista.\n",
    "- Además, en cada llamada sucesiva, la región de búsqueda se reduce estrictamente en tamaño.\n",
    "- Finalmente, se termina la ejecución ya sea al encontrar `elt` o al alcanzar la condición `left > right`."
   ]
  },
  {
   "cell_type": "markdown",
   "metadata": {
    "id": "NxZ8g-1q0QPv"
   },
   "source": [
    "#### Terminación\n",
    "\n",
    "La afirmación 2 prueba directamente la terminación."
   ]
  },
  {
   "cell_type": "markdown",
   "metadata": {
    "id": "Gh1Gdsv20QPw"
   },
   "source": [
    "#### Tiempo de ejecución en el peor caso\n",
    "\n",
    "##### **Afirmación 3:** Consideremos una llamada a `binarySearchHelper(lst, elt, l, r)` y una llamada subsecuente `binarySearchHelper(lst, elt, l1, r1)`. El tamaño de la nueva región de búsqueda, `r1 - l1 + 1`, es a lo sumo la mitad del tamaño de la región anterior, `r - l + 1`. Formalmente,\n",
    " $$ r1 - l1 + 1 \\leq \\frac{(r - l + 1)}{2} $$\n",
    "\n",
    "**Demostración:**\n",
    "\n",
    "Considera el código de `binarySearchHelper(lst, elt, l, r)` (usamos `l` y `r` en lugar de `left` y `right`, y `m` en lugar de `mid`):\n",
    "```python\n",
    "m = (l + r) // 2  # Nota: // es división entera\n",
    "if lst[m] == elt:\n",
    "    return m\n",
    "elif lst[m] < elt:\n",
    "    return binarySearchHelper(lst, elt, m + 1, r)  ## LLAMADA 1\n",
    "else:  # lst[m] > elt\n",
    "    return binarySearchHelper(lst, elt, l, m - 1)  ## LLAMADA 2\n",
    "```\n",
    "\n",
    "En la LLAMADA 1, el tamaño de la nueva región es:\n",
    "$$ r - (m + 1) + 1 = r - m $$\n",
    "Dado que\n",
    "$$ m = \\left\\lfloor \\frac{(l + r)}{2} \\right\\rfloor \\geq \\frac{l + r - 1}{2}, $$\n",
    "se tiene que:\n",
    "$$ r - m \\leq \\frac{(r - l + 1)}{2}. $$\n",
    "\n",
    "En la LLAMADA 2, el tamaño de la nueva región es:\n",
    "$$ (m - 1) - l + 1 = m - l, $$\n",
    "y de forma similar se puede demostrar que\n",
    "$$ m - l \\leq \\frac{(r - l + 1)}{2}. $$\n",
    "\n",
    "Por lo tanto, en ambos casos la región de búsqueda se reduce a lo sumo a la mitad.\n",
    "\n",
    "**Análisis de complejidad:**\n",
    "\n",
    "El tamaño inicial de la región de búsqueda es $n$. En cada llamada, la región se reduce a la mitad, por lo que después de $k$ iteraciones el tamaño es a lo sumo $\\frac{n}{2^k}$.\n",
    "\n",
    "Se detendrá cuando la región sea menor que 1, es decir, cuando $\\frac{n}{2^k} < 1$, lo que implica que $2^k \\leq n$, es decir, $k \\leq \\log_2(n)$.\n",
    "\n",
    "Cada llamada recursiva realiza un número constante de operaciones, por lo que el tiempo de ejecución es $O(\\log(n))$.\n",
    "\n",
    "Un análisis similar demuestra que en el peor caso el algoritmo toma $\\Omega(\\log(n))$, lo que combinado nos da un tiempo de ejecución de $\\Theta(\\log(n))$."
   ]
  }
 ],
 "metadata": {
  "colab": {
   "provenance": []
  },
  "kernelspec": {
   "display_name": "Python 3 (ipykernel)",
   "language": "python",
   "name": "python3"
  },
  "language_info": {
   "codemirror_mode": {
    "name": "ipython",
    "version": 3
   },
   "file_extension": ".py",
   "mimetype": "text/x-python",
   "name": "python",
   "nbconvert_exporter": "python",
   "pygments_lexer": "ipython3",
   "version": "3.12.4"
  }
 },
 "nbformat": 4,
 "nbformat_minor": 4
}
