{
 "cells": [
  {
   "cell_type": "markdown",
   "id": "d0f3be8c-1925-4f29-9051-4f39136ecb55",
   "metadata": {},
   "source": [
    "### **Práctica calificada 1 CC0E5**\n",
    "\n",
    "Durante la realización de esta prueba, se deberán seguir estrictamente las siguientes indicaciones:\n",
    "\n",
    "1.  **Equipos permitidos:** Únicamente se podrán utilizar las computadoras de la especialidad dispuestas para este examen. **El uso de laptops personales está prohibido.**\n",
    "2.  **Dispositivos móviles:** **Los teléfonos celulares deberán permanecer apagados y guardados en sus mochilas** durante toda la duración de la prueba. Solo podrán ser utilizados en caso de una emergencia justificada.\n",
    "3.  **Entrega del trabajo:**\n",
    "    * A **media hora (30 minutos)** de la finalización del tiempo total del examen, deberán **subir el URL de su trabajo** a la plataforma o espacio designado del curso.\n",
    "    * A la **hora de finalización** del examen, se considerará como entrega final el URL que se encuentre registrado en el repositorio del curso. Asegúrense de que sea la versión definitiva de su trabajo.\n",
    "4.  **Trabajo en clase:** Esta prueba está diseñada para ser completada dentro del tiempo asignado en el aula. **No se permitirá llevar el examen para finalizarlo fuera de este horario.**\n",
    "\n",
    "Les recordamos que esta evaluación se basa en los temas cubiertos en el curso hasta la fecha. ¡Les deseamos éxito!"
   ]
  },
  {
   "cell_type": "markdown",
   "id": "fb092831-bfa1-4103-8fde-286a513db806",
   "metadata": {},
   "source": [
    "#### **Pregunta 1**\n",
    "\n",
    "Recuerda que un árbol de búsqueda con prioridades es un árbol binario en el que cada nodo tiene tanto una clave de búsqueda como una prioridad, dispuestas de manera que el árbol es simultáneamente un árbol de búsqueda binario para las claves y un heap mínimo para las prioridades. Un \"heater\" (calentador) es un árbol de búsqueda con prioridades en el que las prioridades son dadas por el usuario, y las claves de búsqueda se distribuyen uniforme e independientemente al azar en el intervalo real `[0, 1]`. Intuitivamente, un heater es una especie de anti-treap.\n",
    "\n",
    "Los siguientes problemas consideran un heater $T$ de $n$ nodos cuyas prioridades son los enteros del 1 al $n$. Identificamos los nodos en $T$ por sus prioridades; así, 'nodo 5' significa el nodo en $T$ con prioridad 5. Por ejemplo, la propiedad del heap mínimo implica que el nodo 1 es la raíz de $T$. Finalmente, sean $i$ y $j$ enteros con $1 \\le i < j \\le n$.\n",
    "\n",
    "(a) Demuestra que en una permutación aleatoria del conjunto de $(i + 1)$ elementos $\\{1, 2, \\ldots, i, j\\}$, los elementos $i$ y $j$ son adyacentes con probabilidad $2/(i + 1)$.\n",
    "\n",
    "(b) Demuestra que el nodo $i$ es un ancestro del nodo $j$ con probabilidad exactamente $2/(i + 1)$.\n",
    "\n",
    "(c) ¿Cuál es la probabilidad exacta de que el nodo $i$ sea un descendiente del nodo $j$?\n",
    "\n",
    "(d) ¿Cuál es la profundidad esperada exacta del nodo $j$?\n",
    "\n",
    "(e) Describe y analiza un algoritmo para insertar un nuevo elemento en un heater. Expresa el tiempo de ejecución esperado del algoritmo en términos del rango del elemento recién insertado.\n",
    "\n",
    "(f) Describe un algoritmo para eliminar el elemento con la prioridad mínima (la raíz) de un heater de $n$ nodos. ¿Cuál es el tiempo de ejecución esperado de tu algoritmo?\n",
    "\n",
    "**Total de puntos: 6**\n",
    "\n",
    "Usando la implementación dada en clase sobre la implementación de treaps en la clase:\n",
    "\n",
    "|  | Preguntas de implementación |\n",
    "|---|----------|\n",
    "| **(g)** | **Invariante de heap.**  Demuestra formalmente que el método `update_priority` siempre deja el árbol en un estado que sigue siendo simultáneamente BST en la clave y min-heap en la prioridad.  Sugiere un contra-ejemplo que rompería la propiedad si se omitiera la fase *bubble-up*. |\n",
    "| **(h)** | **Concurrencia.**  El `Treap` usa un `RLock`.  Diseña una secuencia concurrente de llamadas `add` y `remove_key` en dos hilos que (sin el `RLock`) conduciría a corrupción de la estructura interna.  Usa diagramas de tiempo o pseudocódigo para ilustrar la condición de carrera. |\n",
    "| **(i)** | **Pruebas automatizadas.**  Escribe un `pytest` parametrizado que verifique, para $k=1\\dots 10^4$, que después de insertar $k$ claves aleatorias con prioridades crecientes el método `check_treap_invariants` devuelve `True`.  Analiza el costo experimental de la prueba. |\n",
    "| **(j)** | **Complejidad en el peor caso.**  Provee una familia de entradas (clave, prioridad) tal que la altura de la estructura crezca linealmente con el número de nodos, y explica por qué dicha familia evita la aleatorización implícita que hace al treap balanceado *en esperanza*. |\n",
    "| **(k)** | **Extensión del API.**  Implementa `split(treap, key)` que devuelva dos treaps: uno con todas las claves  ≤ `key` y otro con las claves mayores.  Razona sobre su complejidad esperada (2 puntos) |\n",
    "\n",
    "**Total de puntos: 6 puntos**"
   ]
  },
  {
   "cell_type": "markdown",
   "id": "059abf5a-c479-4ad4-b765-c581076651d7",
   "metadata": {},
   "source": [
    "#### **Pregunta 2**\n",
    "\n",
    "(a) Justifica matemáticamente por qué un Bloom filter puede considerarse una estructura de datos con tiempo constante $ O(k) $ tanto en inserción como en consulta, e identifica los límites de esta afirmación bajo implementaciones reales (por ejemplo, en entornos con restricciones de memoria caché o compresión) (1 punto)\n",
    "\n",
    "(b) Demuestra a partir de la fórmula de falsos positivos que existe un valor óptimo de $ k $, el número de funciones hash, y deduce la expresión $ k = \\frac{m}{n} \\ln 2 $. ¿Qué implicaría usar más o menos funciones hash que este valor óptimo? (1 punto)\n",
    "\n",
    "(c) Explica cómo se podría diseñar un **Counting Bloom Filter** para permitir eliminaciones, y analiza su sobrecosto de memoria. Luego, describe un escenario donde esta variante es indispensable (2 puntos)\n",
    "\n",
    "(d) Suponiendo que insertas 4000 elementos en un Bloom filter con $ m = 48000 $ bits y $ k = 7 $, estima la probabilidad empírica de falso positivo. Luego, diseña un experimento que pueda validar esta estimación con un margen de error del 1%. (2 puntos)\n",
    "\n",
    "(e) Describe cómo el uso de funciones hash con poca dispersión puede afectar gravemente la tasa de falsos positivos en Bloom filters. ¿Qué propiedades debe tener una función hash para minimizar este problema? (2 puntos)\n"
   ]
  }
 ],
 "metadata": {
  "kernelspec": {
   "display_name": "Python 3 (ipykernel)",
   "language": "python",
   "name": "python3"
  },
  "language_info": {
   "codemirror_mode": {
    "name": "ipython",
    "version": 3
   },
   "file_extension": ".py",
   "mimetype": "text/x-python",
   "name": "python",
   "nbconvert_exporter": "python",
   "pygments_lexer": "ipython3",
   "version": "3.12.3"
  }
 },
 "nbformat": 4,
 "nbformat_minor": 5
}
