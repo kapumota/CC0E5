{
 "cells": [
  {
   "cell_type": "markdown",
   "metadata": {},
   "source": [
    "### **DBSCAN**\n"
   ]
  },
  {
   "cell_type": "markdown",
   "metadata": {},
   "source": [
    "#### **Importaciones**"
   ]
  },
  {
   "cell_type": "code",
   "execution_count": null,
   "metadata": {},
   "outputs": [],
   "source": [
    "import heapq\n",
    "import math\n",
    "import matplotlib.colors as mcolors\n",
    "from matplotlib import pyplot as plt\n",
    "\n",
    "from collections import Counter\n",
    "from itertools import chain, groupby\n",
    "from random import randrange, random\n",
    "from scipy.spatial import KDTree\n",
    "from typing import List, Tuple"
   ]
  },
  {
   "cell_type": "markdown",
   "metadata": {},
   "source": [
    "#### **El algoritmo**"
   ]
  },
  {
   "cell_type": "code",
   "execution_count": null,
   "metadata": {},
   "outputs": [],
   "source": [
    "NOISE = -1  # Constante para marcar puntos considerados ruido"
   ]
  },
  {
   "cell_type": "code",
   "execution_count": null,
   "metadata": {},
   "outputs": [],
   "source": [
    "def dbscan(points: List[Tuple[float, float]], eps: float, min_points: int) -> List[int]:\n",
    "    \"\"\"\n",
    "    Implementación básica de DBSCAN.\n",
    "    points: lista de tuplas (x, y)\n",
    "    eps: radio de vecindad\n",
    "    min_points: número mínimo de puntos para considerar un núcleo\n",
    "    Devuelve una lista de etiquetas de clúster (int) para cada punto.\n",
    "    \"\"\"\n",
    "    n = len(points)\n",
    "    # Inicializamos todas las etiquetas como None (sin clasificar)\n",
    "    cluster_indices = [None] * n\n",
    "    # Contador de clústeres (comenzará en 1)\n",
    "    current_index = 0\n",
    "    # Construimos un KD-Tree para acelerar búsquedas de vecinos\n",
    "    kd_tree = KDTree(points)\n",
    "\n",
    "    # Recorremos cada punto\n",
    "    for i in range(n):\n",
    "        # Si ya fue asignado a un clúster o marcado como ruido, lo saltamos\n",
    "        if cluster_indices[i] is not None:\n",
    "            continue\n",
    "\n",
    "        # Iniciamos un nuevo conjunto de proceso con el punto i\n",
    "        process_set = {i}\n",
    "        # Marcamos provisionalmente el punto como ruido (podría cambiar si es núcleo)\n",
    "        cluster_indices[i] = NOISE\n",
    "        # Avanzamos al siguiente índice de clúster\n",
    "        current_index += 1\n",
    "\n",
    "        # Exploramos todos los puntos en el conjunto de proceso\n",
    "        while process_set:\n",
    "            j = process_set.pop()\n",
    "            # Buscamos vecinos de j dentro del radio eps\n",
    "            neighbors = kd_tree.query_ball_point(points[j], eps)\n",
    "\n",
    "            # Si no alcanza min_points, j no es núcleo; descartamos\n",
    "            if len(neighbors) < min_points:\n",
    "                continue\n",
    "\n",
    "            # j es un punto de núcleo: lo asignamos al clúster actual\n",
    "            cluster_indices[j] = current_index\n",
    "\n",
    "            # Revisamos cada vecino para expandir el clúster\n",
    "            for p in neighbors:\n",
    "                # Si p nunca fue visitado (None) o estaba marcado como ruido, lo añadimos\n",
    "                if cluster_indices[p] is None or (p != j and cluster_indices[p] == NOISE):\n",
    "                    process_set.add(p)\n",
    "\n",
    "    return cluster_indices\n"
   ]
  },
  {
   "cell_type": "markdown",
   "metadata": {},
   "source": [
    "#### **Creación de datos**"
   ]
  },
  {
   "cell_type": "code",
   "execution_count": null,
   "metadata": {},
   "outputs": [],
   "source": [
    "def create_spherical_cluster(centroid, radius, n_points):\n",
    "    def random_point_in_circle():\n",
    "        alpha = random() * 2 * math.pi\n",
    "        r = radius * math.sqrt(random())\n",
    "        x = centroid[0] + r * math.cos(alpha)\n",
    "        y = centroid[1] + r * math.sin(alpha)\n",
    "        return (x, y)\n",
    "    return [random_point_in_circle() for _ in range(n_points)]"
   ]
  },
  {
   "cell_type": "code",
   "execution_count": null,
   "metadata": {},
   "outputs": [],
   "source": [
    "def create_ring_cluster(centroid, inner_radius, outer_radius, n_points):\n",
    "    def random_point_in_ring():\n",
    "        alpha = random() * 2 * math.pi\n",
    "        r = inner_radius + (outer_radius - inner_radius) * math.sqrt(random())\n",
    "        x = centroid[0] + r * math.cos(alpha)\n",
    "        y = centroid[1] + r * math.sin(alpha)\n",
    "        return (x, y)\n",
    "    return [random_point_in_ring() for _ in range(n_points)]"
   ]
  },
  {
   "cell_type": "code",
   "execution_count": null,
   "metadata": {},
   "outputs": [],
   "source": [
    "def create_linear_cluster(centroid, length, n_points, alpha=0):\n",
    "    delta = length / n_points\n",
    "    step = 0.0\n",
    "    def random_point_in_segment(step, displacement_x):\n",
    "        x = centroid[0] + step * math.cos(alpha) + displacement_x\n",
    "        y = centroid[1] + step * math.sin(alpha)\n",
    "        return (x, y)\n",
    "    points = []\n",
    "    for i in range(n_points):\n",
    "        step += (0.5 + random() / 2) * delta\n",
    "        for _ in range(randrange(1, 10)):\n",
    "            displacement_x = random() * delta * 2 - delta\n",
    "            points.append(random_point_in_segment(step, displacement_x))\n",
    "    return points"
   ]
  },
  {
   "cell_type": "code",
   "execution_count": null,
   "metadata": {},
   "outputs": [],
   "source": [
    "def create_spiral_cluster(centroid, radius, n_points):\n",
    "    a_delta = 10 * math.pi / n_points\n",
    "    r_delta = radius / n_points\n",
    "    def random_point_in_spiral(index, alpha):\n",
    "        x = centroid[0] + index * r_delta * (0.95 + random() * 0.1) * math.cos(alpha)\n",
    "        y = centroid[1] + index * r_delta * (0.95 + random() * 0.1) * math.sin(alpha)\n",
    "        return (x, y)\n",
    "    alpha = 0.0\n",
    "    points = []\n",
    "    for i in range(n_points):\n",
    "        step = 0.1 + random() * 0.4\n",
    "        alpha += a_delta * step\n",
    "        for _ in range(randrange(1, 10)):\n",
    "            points.append(random_point_in_spiral(i, alpha))\n",
    "            step = random() * 0.1\n",
    "            alpha += a_delta * step\n",
    "    return points"
   ]
  },
  {
   "cell_type": "code",
   "execution_count": null,
   "metadata": {},
   "outputs": [],
   "source": [
    "def random_point(radius):\n",
    "    return (random() * radius - radius / 2, random() * radius - radius / 2)"
   ]
  },
  {
   "cell_type": "markdown",
   "metadata": {},
   "source": [
    "#### **Visualización**"
   ]
  },
  {
   "cell_type": "code",
   "execution_count": null,
   "metadata": {},
   "outputs": [],
   "source": [
    "def __group_points_by_cluster(points: List[Tuple[float, float]], labels: List[int]) -> List[List[Tuple[float, float]]]:\n",
    "    n = len(points)\n",
    "    ordered = sorted(range(n), key=lambda i: labels[i])\n",
    "    clusters = groupby(ordered, key=lambda i: labels[i])\n",
    "    return [[points[i] for i in group] for _, group in clusters]"
   ]
  },
  {
   "cell_type": "code",
   "execution_count": null,
   "metadata": {},
   "outputs": [],
   "source": [
    "def plot_points(ax, points, color, marker='o'):\n",
    "    X, Y = zip(*points)\n",
    "    ax.plot(X, Y, marker=marker, linestyle='none',\n",
    "            markersize=8, markerfacecolor=color,\n",
    "            markeredgewidth=1, markeredgecolor='k')\n",
    "\n",
    "def plot_clusters(points, labels, point_markers=None, title='DBSCAN', ax=None):\n",
    "    if point_markers is None:\n",
    "        point_markers = []\n",
    "    clusters = __group_points_by_cluster(points, labels)\n",
    "    n_clusters = len(clusters)\n",
    "\n",
    "    # Definir paleta de colores\n",
    "    if NOISE in labels:\n",
    "        base_colors = ['k'] + list(mcolors.TABLEAU_COLORS.values())\n",
    "    else:\n",
    "        base_colors = list(mcolors.TABLEAU_COLORS.values())\n",
    "\n",
    "    # Asegurarnos de tener suficientes colores\n",
    "    colors = [base_colors[i % len(base_colors)] for i in range(n_clusters)]\n",
    "    # Definir marcadores: si no alcanza, reutilizamos 'o'\n",
    "    markers = [point_markers[i] if i < len(point_markers) else 'o' for i in range(n_clusters)]\n",
    "\n",
    "    if ax is None:\n",
    "        fig, ax = plt.subplots()\n",
    "        fig.suptitle(title)\n",
    "        ax.set_aspect('equal')\n",
    "    for i, cluster in enumerate(clusters):\n",
    "        plot_points(ax, cluster, colors[i], markers[i])\n",
    "    plt.show()\n"
   ]
  },
  {
   "cell_type": "markdown",
   "metadata": {},
   "source": [
    "### **Experimentos**\n"
   ]
  },
  {
   "cell_type": "markdown",
   "metadata": {},
   "source": [
    "**Clusters esféricos**"
   ]
  },
  {
   "cell_type": "code",
   "execution_count": null,
   "metadata": {},
   "outputs": [],
   "source": [
    "# Generar datos de prueba\n",
    "k = 10\n",
    "data_centroids = [random_point(10) for _ in range(k)]\n",
    "data_clusters = [create_spherical_cluster(P, 0.25 + random(), randrange(10, 100)) for P in data_centroids]\n",
    "noise = [random_point(10) for _ in range(50)]\n",
    "points = [p for C in data_clusters for p in C] + noise"
   ]
  },
  {
   "cell_type": "code",
   "execution_count": null,
   "metadata": {},
   "outputs": [],
   "source": [
    "labels = dbscan(points, eps=0.5, min_points=2)\n",
    "plot_clusters(points, labels)"
   ]
  },
  {
   "cell_type": "markdown",
   "metadata": {},
   "source": [
    "#### **Anillos**"
   ]
  },
  {
   "cell_type": "code",
   "execution_count": null,
   "metadata": {},
   "outputs": [],
   "source": [
    "centroid = random_point(10)\n",
    "r1 = 0.25 + random(); r2 = r1 + 0.25 * random()\n",
    "r3 = r2 * 1.1 + random(); r4 = r3 + 0.25 * random()\n",
    "C1 = create_ring_cluster(centroid, r1, r2, randrange(100, 200))\n",
    "C2 = create_ring_cluster(centroid, r3, r4, randrange(200, 300))\n",
    "points = C1 + C2"
   ]
  },
  {
   "cell_type": "code",
   "execution_count": null,
   "metadata": {},
   "outputs": [],
   "source": [
    "labels1 = dbscan(points, eps=0.5, min_points=3)"
   ]
  },
  {
   "cell_type": "code",
   "execution_count": null,
   "metadata": {},
   "outputs": [],
   "source": [
    "plot_clusters(points, labels1, ['P', 's'])"
   ]
  },
  {
   "cell_type": "code",
   "execution_count": null,
   "metadata": {},
   "outputs": [],
   "source": [
    "labels2 = dbscan(points, eps=0.1, min_points=3)"
   ]
  },
  {
   "cell_type": "code",
   "execution_count": null,
   "metadata": {},
   "outputs": [],
   "source": [
    "plot_clusters(points, labels2, ['x', 's', '*'])"
   ]
  },
  {
   "cell_type": "markdown",
   "metadata": {},
   "source": [
    "**Espirales**"
   ]
  },
  {
   "cell_type": "code",
   "execution_count": null,
   "metadata": {},
   "outputs": [],
   "source": [
    "C3 = create_spiral_cluster(random_point(10), 5, 100)"
   ]
  },
  {
   "cell_type": "code",
   "execution_count": null,
   "metadata": {},
   "outputs": [],
   "source": [
    "labels3 = dbscan(C3, eps=1, min_points=3)"
   ]
  },
  {
   "cell_type": "code",
   "execution_count": null,
   "metadata": {},
   "outputs": [],
   "source": [
    "plot_clusters(C3, labels3, ['o', 's', 'P'])"
   ]
  },
  {
   "cell_type": "markdown",
   "metadata": {},
   "source": [
    "**Segmentos**"
   ]
  },
  {
   "cell_type": "code",
   "execution_count": null,
   "metadata": {},
   "outputs": [],
   "source": [
    "P4 = random_point(10)\n",
    "alpha4 = random() * math.pi / 2\n",
    "C4 = create_linear_cluster(P4, 5, 100, alpha4) + create_linear_cluster((P4[0] + 1, P4[1]), 4, 100, alpha4 + 0.1)"
   ]
  },
  {
   "cell_type": "code",
   "execution_count": null,
   "metadata": {},
   "outputs": [],
   "source": [
    "labels4 = dbscan(C4, eps=0.5, min_points=3)  "
   ]
  },
  {
   "cell_type": "code",
   "execution_count": null,
   "metadata": {},
   "outputs": [],
   "source": [
    "plot_clusters(C4, labels4, ['o', 's'])"
   ]
  },
  {
   "cell_type": "markdown",
   "metadata": {},
   "source": [
    "**Densidad**"
   ]
  },
  {
   "cell_type": "code",
   "execution_count": null,
   "metadata": {},
   "outputs": [],
   "source": [
    "C5 = create_spherical_cluster((-2,0), 2, 50) + create_spherical_cluster((2,2), 0.5, 20) + create_spherical_cluster((2,0.78), 0.25, 10)"
   ]
  },
  {
   "cell_type": "code",
   "execution_count": null,
   "metadata": {},
   "outputs": [],
   "source": [
    "labels_5 = dbscan(C5, 0.5, 3)"
   ]
  },
  {
   "cell_type": "code",
   "execution_count": null,
   "metadata": {},
   "outputs": [],
   "source": [
    "plot_clusters(C5, labels_5, ['s', 'o', 'p', '*', 'h', 'H', 'X', 'D', 'd'])"
   ]
  },
  {
   "cell_type": "code",
   "execution_count": null,
   "metadata": {},
   "outputs": [],
   "source": [
    "print(labels_5)"
   ]
  },
  {
   "cell_type": "code",
   "execution_count": null,
   "metadata": {},
   "outputs": [],
   "source": [
    "labels_5b = dbscan(C5, 1, 3)\n",
    "plot_clusters(C5, labels_5b, ['s', 'o', 'p', '*', 'h', 'H', 'X', 'D', 'd'])"
   ]
  },
  {
   "cell_type": "code",
   "execution_count": null,
   "metadata": {},
   "outputs": [],
   "source": [
    "labels_5b = dbscan(C5, 0.69875, 3)\n",
    "plot_clusters(C5, labels_5b, ['s', 'o', 'p', '*', 'h', 'H', 'X', 'D', 'd'])"
   ]
  },
  {
   "cell_type": "markdown",
   "metadata": {},
   "source": [
    "#### **Ejercicios**\n",
    "\n",
    "1. **Tuning de parámetros para distintos formatos de cluster**\n",
    "\n",
    "   * Genera datos usando `create_spherical_cluster`, `create_ring_cluster`, `create_spiral_cluster` y `create_linear_cluster`.\n",
    "   * Para cada tipo de cluster, realiza un barrido (grid search) de valores de `eps` y `min_points`.\n",
    "   * Documenta gráficamente cómo cambia el número de clusters identificados y la proporción de puntos etiquetados como ruido.\n",
    "\n",
    "2. **Detección de densidades variables**\n",
    "\n",
    "   * Crea un dataset que mezcle regiones de alta densidad (pequeño radio, muchos puntos) y baja densidad (radio grande, pocos puntos).\n",
    "   * Ajusta los parámetros de DBSCAN de forma estática y observa dónde falla la detección.\n",
    "   * Propón y prueba una estrategia para usar distintos valores de `eps` en función de la densidad local (por ejemplo, clustering jerárquico previo o estimación de distancias k-ésimas).\n",
    "\n",
    "3. **Comparación con otros algoritmos de clustering**\n",
    "\n",
    "   * Implementa o usa `sklearn.cluster.KMeans` y `sklearn.cluster.AgglomerativeClustering` sobre el mismo dataset sintético.\n",
    "   * Compara resultados cualitativos (gráficos) y cuantitativos (e.g. índice de silhouette, Davies–Bouldin) frente a DBSCAN.\n",
    "\n",
    "4. **Etiquetado de puntos de \"borde\" y \"núcleo\"**\n",
    "\n",
    "   * Modifica la función `dbscan` (o crea una nueva) para que devuelva no solo la etiqueta de cluster, sino también si cada punto es de tipo **core**, **border** o **noise**.\n",
    "   * Visualiza con distintos marcadores (círculo relleno, círculo vacío, cruz) cada uno de estos tipos.\n",
    "\n",
    "5. **DBSCAN en 3D**\n",
    "\n",
    "   * Extiende el código para trabajar con puntos en (tuplas `(x,y,z)`).\n",
    "   * Genera un cluster esférico (`create_spherical_cluster`) y una \"espiral 3D\" personalizada.\n",
    "   * Visualiza los resultados usando `matplotlib` con proyección 3D.\n",
    "\n",
    "6. **Eficiencia y complejidad**\n",
    "\n",
    "   * Mide el tiempo de ejecución de `dbscan` para distintos tamaños de dataset (p.ej. 1 000; 10 000; 100 000 puntos).\n",
    "   * Compara tiempos usando KD-Tree, brute force y, opcionalmente, un Ball-Tree de `scipy`.\n",
    "   * Grafica la complejidad empírica (tiempo vs. número de puntos) y discute.\n",
    "\n",
    "7. **Clustering de datos reales**\n",
    "\n",
    "   * Carga un dataset real en 2D (por ejemplo, coordenadas geográficas de ciudades, o características PCA de Iris).\n",
    "   * Aplica DBSCAN, elige parámetros adecuados y comenta los clusters que se forman (p. ej. zonas urbanas vs. rurales).\n",
    "\n",
    "8. **Implementación de HDBSCAN ligera**\n",
    "\n",
    "   * Investiga brevemente el algoritmo HDBSCAN (clustering jerárquico basado en densidad).\n",
    "   * Utiliza la librería `hdbscan` de Python para comparar resultados con DBSCAN en datasets sintéticos de anillos y espirales.\n",
    "\n",
    "9. **Visualización interactiva**\n",
    "\n",
    "   * Crea una interfaz sencilla (por ejemplo, con `ipywidgets`) que permita ajustar `eps` y `min_points` mediante sliders y vea en tiempo real el plot de clusters.\n",
    "   * Añade un selector de tipo de dataset (`spherical`, `ring`, `spiral`, `linear`).\n",
    "\n",
    "10. **Evaluación de calidad de clusters**\n",
    "\n",
    "    * Para cada resultado de DBSCAN, calcula métricas como **Silhouette Score**, **Calinski–Harabasz** y **Davies–Bouldin**.\n",
    "    * Analiza cómo varían estas métricas al cambiar `eps` y `min_points`, y usa tus conclusiones para recomendar reglas empíricas de parametrización.\n",
    "\n",
    "11. **DBSCAN sobre streaming**\n",
    "\n",
    "    * Diseña un esquema para procesar puntos que llegan en tiempo real (streaming).\n",
    "    * Plantea cómo añadir/eliminar puntos del clustering sin recomputar todo desde cero (algoritmo incremental).\n",
    "\n"
   ]
  },
  {
   "cell_type": "code",
   "execution_count": null,
   "metadata": {},
   "outputs": [],
   "source": [
    "## Tus respuestas"
   ]
  }
 ],
 "metadata": {
  "kernelspec": {
   "display_name": "Python 3 (ipykernel)",
   "language": "python",
   "name": "python3"
  },
  "language_info": {
   "codemirror_mode": {
    "name": "ipython",
    "version": 3
   },
   "file_extension": ".py",
   "mimetype": "text/x-python",
   "name": "python",
   "nbconvert_exporter": "python",
   "pygments_lexer": "ipython3",
   "version": "3.12.3"
  }
 },
 "nbformat": 4,
 "nbformat_minor": 4
}
