{
 "cells": [
  {
   "cell_type": "markdown",
   "metadata": {
    "deletable": false,
    "editable": false,
    "locked": true
   },
   "source": [
    "### Instrucciones\n",
    "\n",
    "> Esta tarea debe ser completada y subida como un cuaderno de python3.\n"
   ]
  },
  {
   "cell_type": "markdown",
   "metadata": {
    "deletable": false,
    "editable": false,
    "locked": true
   },
   "source": [
    "Este conjunto de problemas cubre los siguientes temas:\n",
    "  - Fundamentos de algoritmos: corrección y complejidad del tiempo de ejecución.\n",
    "  - Complejidad temporal: Notaciones O, big-Omega y big-Theta.\n",
    "  - Demostración de la corrección de algoritmos mediante invariantes inductivos.\n",
    "  - Merge Sort: Demostración de corrección.\n",
    "  \n",
    "__Nota Importante__\n",
    "\n",
    "Aunque se te pide que trabajes en el \"diseño\" y  describas tu diseño."
   ]
  },
  {
   "cell_type": "markdown",
   "metadata": {
    "deletable": false,
    "editable": false,
    "locked": true
   },
   "source": [
    "### Problema 1: Encontrar índices de cruce.\n",
    "\n",
    "Se te dan datos que consisten en puntos\n",
    "$(x_0, y_0), \\ldots, (x_n, y_n)$, donde $x_0 < x_1 < \\ldots < x_n$, y también $y_0 < y_1 < \\ldots < y_n$.\n",
    "\n",
    "Además, se da que $y_0 < x_0$ y $y_n > x_n$.\n",
    "\n",
    "Encuentra un índice de \"cruce\" $i$ entre $0$ y $n-1$ tal que $y_i \\leq x_i$ y $y_{i+1} > x_{i+1}$.\n",
    "\n",
    "Nota que tal índice siempre debe existir (convéncete de este hecho antes de proceder).\n",
    "\n",
    "\n",
    "__Ejemplo__\n",
    "\n",
    "$$\\begin{array}{c| c c c c c c c c c }\\\n",
    "i & 0 & 1 & 2 & 3 & 4 & 5 & 6 & 7 \\\\ \n",
    "\\hline\n",
    "x_i & 0 & 2 & 4 & \\color{red}{5} & \\color{red}{6} & 7 & 8 & 10 \\\\ \n",
    "y_i & -2 & 0 & 2 & \\color{red}{4} & \\color{red}{7} & 8 & 10 & 12 \\\\ \n",
    "\\end{array} $$\n",
    "\n",
    "\n",
    "Tu algoritmo debe encontrar el índice $i=3$ como el punto de cruce.\n",
    "\n",
    "Por otro lado, considera los datos\n",
    "\n",
    "$$\\begin{array}{c| c c c c c c c c c }\\\n",
    "i & 0 & 1 & 2 & 3 & 4 & 5 & 6 & 7 \\\\ \n",
    "\\hline\n",
    "x_i & \\color{red}{0} & \\color{red}{1} & 4 & \\color{red}{5} & \\color{red}{6} & 7 & 8 & 10 \\\\ \n",
    "y_i & \\color{red}{-2} & \\color{red}{1.5} & 2 & \\color{red}{4} & \\color{red}{7} & 8 & 10 & 12 \\\\ \n",
    "\\end{array} $$\n",
    "\n",
    "Tenemos dos puntos de cruce. Tu algoritmo puede dar como salida ya sea $i=0$ o $i=3$.\n"
   ]
  },
  {
   "cell_type": "markdown",
   "metadata": {
    "deletable": false,
    "editable": false,
    "locked": true
   },
   "source": [
    "__(A)__ Diseña un algoritmo para encontrar un índice $i \\in \\{ 0, 1, \\ldots, n-1\\}$ tal que $x_i \\geq y_i$ pero $x_{i+1} < y_{i+1}$.\n",
    "\n",
    "Describe tu algoritmo usando código Python para una función _findCrossoverIndexHelper(x, y, left, right)_\n",
    "  - `x` es una lista de valores x ordenados en forma creciente.\n",
    "  - `y` es una lista de valores y ordenados en forma creciente.\n",
    "  - `x` e `y` son listas del mismo tamaño (`n`).\n",
    "  - `left` y `right` son índices que representan la región de búsqueda actual en la lista, tal que 0 <= `left` < `right` <= `n`.\n",
    "  \n",
    "Tu solución debe usar _recursión_.\n",
    "\n",
    "**Sugerencia:** Modifica el algoritmo de búsqueda binaria que presentamos en clase."
   ]
  },
  {
   "cell_type": "code",
   "execution_count": null,
   "metadata": {
    "deletable": false,
    "editable": false,
    "locked": true
   },
   "outputs": [],
   "source": [
    "# Primero escriba una función \"helper\" con dos parámetros adicionales\n",
    "# left, right que describen la región de búsqueda como se muestra a continuación\n",
    "\n",
    "def findCrossoverIndexHelper(x, y, left, right):\n",
    "    # Nota: índice de salida i tal que \n",
    "    #         left <= i <= right\n",
    "    #         x[i] <= y[i]\n",
    "    # Primero, escriba nuestros invariantes como aserciones aquí\n",
    "    assert(len(x) == len(y))\n",
    "    assert(left >= 0)\n",
    "    assert(left <= right-1)\n",
    "    assert(right < len(x))\n",
    "    # Aquí está la propiedad clave que nos gustaría mantener.\n",
    "    assert(x[left] > y[left])\n",
    "    assert(x[right] < y[right])\n",
    "    \n",
    "    # Caso base\n",
    "    if left + 1 == right:\n",
    "        return left\n",
    "\n",
    "    mid = left + (right - left) // 2\n",
    "    # Búsqueda recursiva\n",
    "    # Completa el codigo"
   ]
  },
  {
   "cell_type": "code",
   "execution_count": null,
   "metadata": {
    "deletable": false,
    "editable": false,
    "locked": true
   },
   "outputs": [],
   "source": [
    "# Definir la función findCrossoverIndex que llamará a la función helper findCrossoverIndexHelper\n",
    "def findCrossoverIndex(x, y):\n",
    "    assert(len(x) == len(y))\n",
    "    assert(x[0] > y[0])\n",
    "    n = len(x)\n",
    "    assert(x[n-1] < y[n-1]) # Nota: esto garantiza automáticamente que n >= 2, ¿por qué?\n",
    "    return findCrossoverIndexHelper(x, y, 0, n-1)\n"
   ]
  },
  {
   "cell_type": "code",
   "execution_count": null,
   "metadata": {
    "deletable": false,
    "editable": false,
    "locked": true
   },
   "outputs": [],
   "source": [
    "# INICIO DE CASOS DE PRUEBA\n",
    "j1 = findCrossoverIndex([0, 1, 2, 3, 4, 5, 6, 7], [-2, 0, 4, 5, 6, 7, 8, 9])\n",
    "print('j1 = %d' % j1)\n",
    "assert j1 == 1, \"Caso de prueba #1 fallido\"\n",
    "\n",
    "j2 = findCrossoverIndex([0, 1, 2, 3, 4, 5, 6, 7], [-2, 0, 4, 4.2, 4.3, 4.5, 8, 9])\n",
    "print('j2 = %d' % j2)\n",
    "assert j2 == 1 or j2 == 5, \"Caso de prueba #2 fallido\"\n",
    "\n",
    "j3 = findCrossoverIndex([0, 1], [-10, 10])\n",
    "print('j3 = %d' % j3)\n",
    "assert j3 == 0, \"Caso de prueba #3 fallido\"\n",
    "\n",
    "j4 = findCrossoverIndex([0,1, 2, 3], [-10, -9, -8, 5])\n",
    "print('j4 = %d' % j4)\n",
    "assert j4 == 2, \"Caso de prueba #4 fallido\"\n",
    "\n",
    "print('¡Felicidades: Todos los tests pasaron! (10 puntos)')\n",
    "# FIN DE CASOS DE PRUEBA"
   ]
  },
  {
   "cell_type": "markdown",
   "metadata": {
    "deletable": false,
    "editable": false,
    "locked": true
   },
   "source": [
    "__(B)__ ¿Cuál es el tiempo de ejecución de su algoritmo anterior en función del tamaño del arreglo de entrada $n$?\n"
   ]
  },
  {
   "cell_type": "code",
   "execution_count": null,
   "metadata": {
    "deletable": false,
    "editable": false,
    "locked": true
   },
   "outputs": [],
   "source": [
    "## Tu respuesta"
   ]
  },
  {
   "cell_type": "markdown",
   "metadata": {
    "deletable": false,
    "editable": false,
    "locked": true
   },
   "source": [
    "El tiempo de ejecución del algoritmo descrito anteriormente, que emplea un enfoque de búsqueda binaria recursiva para encontrar el índice de cruce en los arreglos ordenados x e y, es $O(\\log n)$ con respecto al tamaño del arreglo de entrada n."
   ]
  },
  {
   "cell_type": "markdown",
   "metadata": {
    "deletable": false,
    "editable": false,
    "locked": true
   },
   "source": [
    "### Problema 2 (Encontrar la raíz cúbica entera.) \n",
    "\n",
    "La raíz cúbica entera de un número positivo $n$ es el número más pequeño $i$ tal que $i^3 \\leq n$ pero $(i+1)^3 > n$.\n",
    "\n",
    "Por ejemplo, la raíz cúbica entera de $100$ es $4$ ya que $4^3 \\leq 100$ pero $5^3 > 100$. De igual forma, la raíz cúbica entera de $1000$ es $10$.\n",
    "\n",
    "Escribe una función `integerCubeRootHelper(n, left, right)` que busque la raíz cúbica entera de `n` entre `left` y `right` dadas las siguientes precondiciones:\n",
    "  - $n \\geq 1$\n",
    "  - $\\text{left} < \\text{right}$.\n",
    "  - $\\text{left}^3 < n$\n",
    "  - $\\text{right}^3 > n$."
   ]
  },
  {
   "cell_type": "code",
   "execution_count": null,
   "metadata": {
    "deletable": false,
    "editable": false,
    "locked": true
   },
   "outputs": [],
   "source": [
    "def integerCubeRootHelper(n, left, right):\n",
    "    cube = lambda x: x * x * x # función anónima para elevar al cubo un número\n",
    "    assert(n >= 1)\n",
    "    assert(left < right)\n",
    "    assert(left >= 0)\n",
    "    #assert(right < n)\n",
    "    assert(right <= n)\n",
    "    assert(cube(left) < n), f'{left}, {right}'\n",
    "    #assert(cube(right) > n), f'{left}, {right}'\n",
    "    assert(cube(right) > n or cube(right) == n), f'{left}, {right}' \n",
    "    # Tu código\n",
    "    "
   ]
  },
  {
   "cell_type": "code",
   "execution_count": null,
   "metadata": {
    "deletable": false,
    "editable": false,
    "locked": true
   },
   "outputs": [],
   "source": [
    "# Escribe la función principal\n",
    "def integerCubeRoot(n):\n",
    "    assert( n > 0)\n",
    "    if (n == 1): \n",
    "        return 1\n",
    "    if (n == 2):\n",
    "        return 1\n",
    "    return integerCubeRootHelper(n, 0, n-1)"
   ]
  },
  {
   "cell_type": "code",
   "execution_count": null,
   "metadata": {
    "deletable": false,
    "editable": false,
    "locked": true
   },
   "outputs": [],
   "source": [
    "assert(integerCubeRoot(1) == 1)\n",
    "assert(integerCubeRoot(2) == 1)\n",
    "assert(integerCubeRoot(4) == 1)\n",
    "assert(integerCubeRoot(7) == 1)\n",
    "assert(integerCubeRoot(8) == 2)\n",
    "assert(integerCubeRoot(20) == 2)\n",
    "assert(integerCubeRoot(26) == 2)\n",
    "for j in range(27, 64):\n",
    "    assert(integerCubeRoot(j) == 3)\n",
    "for j in range(64,125):\n",
    "    assert(integerCubeRoot(j) == 4)\n",
    "for j in range(125, 216):\n",
    "    assert(integerCubeRoot(j) == 5)\n",
    "for j in range(216, 343):\n",
    "    assert(integerCubeRoot(j) == 6)\n",
    "for j in range(343, 512):\n",
    "    assert(integerCubeRoot(j) == 7)\n",
    "print('¡Felicidades: Todas las pruebas han pasado!')"
   ]
  },
  {
   "cell_type": "markdown",
   "metadata": {
    "deletable": false,
    "editable": false,
    "locked": true
   },
   "source": [
    "### (B)\n",
    "\n",
    "El invariante inductivo para la función `integerCubeRootHelper(n, left, right)` que asegura que el algoritmo para encontrar la raíz cúbica entera es correcto es: \n",
    "  $$\\text{left}^3 < n\\; \\text{y}\\; \\text{right}^3 > n$$\n",
    "\n",
    "\n",
    "Utiliza el invariante inductivo para establecer que la raíz cúbica entera de $n$ (la respuesta final que buscamos) debe estar entre `left` y `right`.\n",
    "\n",
    "En otras palabras, sea $j$ la raíz cúbica entera de $n$.\n",
    "\n",
    "Demuestra usando el invariante inductivo y la propiedad de la raíz cúbica entera $j$ que: \n",
    "\n",
    "$$ \\text{left} \\leq j < \\text{right}$$\n"
   ]
  },
  {
   "cell_type": "markdown",
   "metadata": {
    "deletable": false,
    "editable": false,
    "locked": true
   },
   "source": [
    "Tu respuesta aquí"
   ]
  },
  {
   "cell_type": "markdown",
   "metadata": {
    "deletable": false,
    "editable": false,
    "locked": true
   },
   "source": [
    "### (C)\n",
    "\n",
    "Demuestra que tu solución para `integerCubeRootHelper` mantiene el invariante inductivo general de la parte (B). Es decir, si la función se llamara con \n",
    "\n",
    "$0 \\leq \\text{left} < \\text{right} < n$, y  $\\text{left}^3 < n$ y $\\text{right}^3 > n$.\n",
    "\n",
    "Cualquier llamada recursiva posterior tendrá argumentos que también satisfacen esta propiedad. Modela tu respuesta basándote en las notas de la clase para el problema de búsqueda binaria proporcionadas.\n",
    "\n"
   ]
  },
  {
   "cell_type": "markdown",
   "metadata": {
    "deletable": false,
    "editable": false,
    "locked": true
   },
   "source": [
    "Tu respuesta aquí"
   ]
  },
  {
   "cell_type": "markdown",
   "metadata": {
    "deletable": false,
    "editable": false,
    "locked": true
   },
   "source": [
    "### Problema 3 (Desarrollar el algoritmo de fusión múltiple).\n",
    "\n",
    "Estudiamos el problema de fusionar 2 listas ordenadas `lst1` y `lst2` en una sola lista ordenada en tiempo $\\Theta(m + n)$ donde $m$ es el tamaño de `lst1` y $n$ es el tamaño de `lst2`. Sea `twoWayMerge(lst1, lst2)` la función de Python que retorna el resultado fusionado usando el enfoque presentado en clase.\n",
    "\n",
    "En este problema, exploraremos algoritmos para fusionar $k$ listas ordenadas diferentes, usualmente representadas como una lista de listas ordenadas en una sola lista.\n"
   ]
  },
  {
   "cell_type": "markdown",
   "metadata": {
    "deletable": false,
    "editable": false,
    "locked": true
   },
   "source": [
    "#### (A)\n",
    "\n",
    "Supongamos que tenemos $k$ listas que representaremos como `lists[0]`, `lists[1]`, ..., `lists[k-1]` para conveniencia y se asume que el tamaño de estas listas es el mismo valor $n$.\n",
    "\n",
    "Deseamos resolver la fusión múltiple fusionando dos listas a la vez: \n",
    "\n",
    "```\n",
    "  mergedList = lists[0] # iniciar con la lista 0\n",
    "  for i = 1, ... k-1 do\n",
    "      mergedList = twoWayMerge(mergedList, lists[i])\n",
    "  return mergedList\n",
    "```\n",
    "\n",
    "Sabiendo el tiempo de ejecución del algoritmo `twoWayMerge` mencionado anteriormente, ¿cuál es el tiempo de ejecución total del algoritmo en términos de $n$ y $k$?\n"
   ]
  },
  {
   "cell_type": "markdown",
   "metadata": {
    "deletable": false,
    "editable": false,
    "locked": true
   },
   "source": [
    "Tu respuesta aquí\n"
   ]
  },
  {
   "cell_type": "markdown",
   "metadata": {
    "deletable": false,
    "editable": false,
    "locked": true
   },
   "source": [
    "__(B)__ Implementa un algoritmo que realice la fusión de $k$ listas llamando a `twoWayMerge` repetidamente de la siguiente manera:\n",
    "  1. Llame a `twoWayMerge` en pares consecutivos de listas: `twoWayMerge(lists[0], lists[1])`, ..., `twoWayMerge(lists[k-2], lists[k-1])` (asuma que $k$ es par).\n",
    "  2. De esta forma, se crea una nueva lista de listas de tamaño `k/2`.\n",
    "  3. Repita los pasos 1 y 2 hasta que quede una sola lista.\n"
   ]
  },
  {
   "cell_type": "code",
   "execution_count": null,
   "metadata": {
    "deletable": false,
    "editable": false,
    "locked": true
   },
   "outputs": [],
   "source": [
    "def twoWayMerge(lst1, lst2):\n",
    "    # Implemente el algoritmo de fusión a dos vías en \n",
    "    #          dos listas ordenadas en forma ascendente\n",
    "    # Retorne una nueva lista ordenada en forma ascendente que \n",
    "    #          fusiona lst1 y lst2\n",
    "    # Tu código aquí\n",
    "   "
   ]
  },
  {
   "cell_type": "code",
   "execution_count": null,
   "metadata": {
    "deletable": false,
    "editable": false,
    "locked": true
   },
   "outputs": [],
   "source": [
    "# Dada una lista de listas como entrada, \n",
    "#   si list_of_lists tiene 2 o más listas, \n",
    "#        realice la fusión a dos vías en los elementos i, i+1 para i = 0, 2, ...\n",
    "#   Retorne una nueva lista de listas después de la fusión\n",
    "#   Maneje cuidadosamente el caso cuando el tamaño de la lista es impar.\n",
    "def oneStepKWayMerge(list_of_lists):\n",
    "    if (len(list_of_lists) <= 1):\n",
    "        return list_of_lists\n",
    "    ret_list_of_lists = []\n",
    "    k = len(list_of_lists)\n",
    "    for i in range(0, k, 2):\n",
    "        if (i < k-1):\n",
    "            ret_list_of_lists.append(twoWayMerge(list_of_lists[i], list_of_lists[i+1]))\n",
    "        else: \n",
    "            ret_list_of_lists.append(list_of_lists[k-1])\n",
    "    return ret_list_of_lists\n"
   ]
  },
  {
   "cell_type": "code",
   "execution_count": null,
   "metadata": {
    "deletable": false,
    "editable": false,
    "locked": true
   },
   "outputs": [],
   "source": [
    "# Dada una lista de listas en la cual cada \n",
    "#    elemento de list_of_lists está ordenado en forma ascendente,\n",
    "# use la función oneStepKWayMerge repetidamente para fusionarlas.\n",
    "# Retorne una única lista fusionada que esté ordenada en forma ascendente.\n",
    "def kWayMerge(list_of_lists):\n",
    "    k = len(list_of_lists)\n",
    "    if k == 1:\n",
    "        return list_of_lists[0]\n",
    "    else:\n",
    "        new_list_of_lists = oneStepKWayMerge(list_of_lists)\n",
    "        return kWayMerge(new_list_of_lists)\n"
   ]
  },
  {
   "cell_type": "code",
   "execution_count": null,
   "metadata": {
    "deletable": false,
    "editable": false,
    "locked": true
   },
   "outputs": [],
   "source": [
    "# INICIO DE PRUEBAS\n",
    "lst1 = kWayMerge([[1,2,3], [4,5,7],[-2,0,6],[5]])\n",
    "assert lst1 == [-2, 0, 1, 2, 3, 4, 5, 5, 6, 7], \"Prueba 1 fallida\"\n",
    "\n",
    "lst2 = kWayMerge([[-2, 4, 5 , 8], [0, 1, 2], [-1, 3,6,7]])\n",
    "assert lst2 == [-2, -1, 0, 1, 2, 3, 4, 5, 6, 7, 8], \"Prueba 2 fallida\"\n",
    "\n",
    "lst3 = kWayMerge([[-1, 1, 2, 3, 4, 5]])\n",
    "assert lst3 == [-1, 1, 2, 3, 4, 5], \"Prueba 3 fallida\"\n",
    "\n",
    "print('Todas las pruebas pasaron!')\n",
    "# FIN DE PRUEBAS\n"
   ]
  },
  {
   "cell_type": "markdown",
   "metadata": {
    "deletable": false,
    "editable": false,
    "locked": true
   },
   "source": [
    "### (C) \n",
    "\n",
    "¿Cuál es el tiempo de ejecución total del algoritmo en (B) en función de $n$ y $k$?\n"
   ]
  },
  {
   "cell_type": "markdown",
   "metadata": {
    "deletable": false,
    "editable": false,
    "locked": true
   },
   "source": [
    "Tu respuesta aquí."
   ]
  }
 ],
 "metadata": {
  "kernelspec": {
   "display_name": "Python 3 (ipykernel)",
   "language": "python",
   "name": "python3"
  },
  "language_info": {
   "codemirror_mode": {
    "name": "ipython",
    "version": 3
   },
   "file_extension": ".py",
   "mimetype": "text/x-python",
   "name": "python",
   "nbconvert_exporter": "python",
   "pygments_lexer": "ipython3",
   "version": "3.12.4"
  }
 },
 "nbformat": 4,
 "nbformat_minor": 4
}
