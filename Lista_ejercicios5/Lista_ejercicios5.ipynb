{
 "cells": [
  {
   "cell_type": "markdown",
   "id": "264c97df",
   "metadata": {
    "deletable": false,
    "editable": false,
    "nbgrader": {
     "cell_type": "markdown",
     "checksum": "",
     "grade": false,
     "grade_id": "",
     "locked": true,
     "schema_version": 3,
     "solution": false,
     "task": false
    }
   },
   "source": [
    "### **Problema 1**\n",
    "\n",
    "Primero completaremos una implementación de una estructura de conjuntos disjuntos (union-find) con compresión de rango."
   ]
  },
  {
   "cell_type": "code",
   "execution_count": null,
   "id": "fdd600a9",
   "metadata": {
    "deletable": false,
    "editable": false,
    "nbgrader": {
     "cell_type": "code",
     "checksum": "",
     "grade": false,
     "grade_id": "",
     "locked": true,
     "schema_version": 3,
     "solution": true,
     "task": false
    }
   },
   "outputs": [],
   "source": [
    "class DisjointForests:\n",
    "    def __init__(self, n):\n",
    "        assert n >= 1, 'Un bosque disjunto vacío no está permitido'\n",
    "        self.n = n\n",
    "        self.parents = [None] * n\n",
    "        self.rank = [None] * n\n",
    "\n",
    "    # Función: dictionary_of_sets\n",
    "    # Convierte la estructura de bosque disjunto en un diccionario d\n",
    "    # en el que d tiene una entrada para cada representante i\n",
    "    # d[i] asigna a cada elemento que pertenece al árbol correspondiente a i\n",
    "    # en el bosque disjunto.\n",
    "    def dictionary_of_sets(self):\n",
    "        d = {}\n",
    "        for i in range(self.n):\n",
    "            if self.is_representative(i):\n",
    "                d[i] = set([i])\n",
    "        for j in range(self.n):\n",
    "            if self.parents[j] is not None:\n",
    "                root = self.find(j)\n",
    "                assert root in d\n",
    "                d[root].add(j)\n",
    "        return d\n",
    "\n",
    "    def make_set(self, j):\n",
    "        assert 0 <= j < self.n\n",
    "        assert self.parents[j] is None, 'Llamas a make_set en un elemento varias veces, lo cual no está permitido.'\n",
    "        self.parents[j] = j\n",
    "        self.rank[j] = 1\n",
    "\n",
    "    def is_representative(self, j):\n",
    "        return self.parents[j] == j\n",
    "\n",
    "    def get_rank(self, j):\n",
    "        return self.rank[j]\n",
    "\n",
    "    # Función: find\n",
    "    # Implementa el algoritmo find para un nodo j en el conjunto.\n",
    "    # Recorre repetidamente el puntero de padre hasta llegar a una raíz.\n",
    "    # Implementa la estrategia de \"compresión de caminos\" haciendo que todos\n",
    "    # los nodos a lo largo del camino desde j hasta la raíz apunten directamente a la raíz.\n",
    "    def find(self, j):\n",
    "        assert 0 <= j < self.n\n",
    "        assert self.parents[j] is not None, 'Llamas a find en un elemento que aún no forma parte del conjunto. Por favor, llama primero a make_set.'\n",
    "        if self.parents[j] != j:\n",
    "            self.parents[j] = self.find(self.parents[j])  # Encuentra la raíz y comprime el camino\n",
    "        return self.parents[j]\n",
    "\n",
    "    # Función: union\n",
    "    # Calcula la unión de j1 y j2\n",
    "    # Primero realiza un find para obtener los representantes de j1 y j2.\n",
    "    # Si no son iguales, entonces\n",
    "    # implementa la unión utilizando la estrategia por rango, es decir, la raíz con rango menor se convierte\n",
    "    # en hijo de la raíz con rango mayor.\n",
    "    # En caso de empate, se elige que la raíz del primer argumento (j1) sea el padre.\n",
    "    def union(self, j1, j2):\n",
    "        assert 0 <= j1 < self.n\n",
    "        assert 0 <= j2 < self.n\n",
    "        assert self.parents[j1] is not None\n",
    "        assert self.parents[j2] is not None\n",
    "        root1 = self.find(j1)\n",
    "        root2 = self.find(j2)\n",
    "        if root1 != root2:\n",
    "            if self.rank[root1] > self.rank[root2]:\n",
    "                self.parents[root2] = root1\n",
    "            elif self.rank[root1] < self.rank[root2]:\n",
    "                self.parents[root1] = root2\n",
    "            else:\n",
    "                self.parents[root2] = root1\n",
    "                self.rank[root1] += 1\n"
   ]
  },
  {
   "cell_type": "code",
   "execution_count": null,
   "id": "1ca0619a",
   "metadata": {
    "deletable": false,
    "editable": false,
    "nbgrader": {
     "cell_type": "code",
     "checksum": "",
     "grade": false,
     "grade_id": "",
     "locked": true,
     "schema_version": 3,
     "solution": false,
     "task": false
    }
   },
   "outputs": [],
   "source": [
    "d = DisjointForests(10)\n",
    "for i in range(10):\n",
    "    d.make_set(i)\n",
    "\n",
    "for i in range(10):\n",
    "    assert d.find(i) == i, f'Fallo: find en {i} debe devolver {i}'\n",
    "    \n",
    "d.union(0, 1)\n",
    "d.union(2, 3)\n",
    "assert(d.find(0) == d.find(1)), '0 y 1 han sido unidos'\n",
    "assert(d.find(2) == d.find(3)), '2 y 3 han sido unidos'\n",
    "assert(d.find(0) != d.find(3)), '0 y 3 deberían estar en árboles diferentes'\n",
    "assert((d.get_rank(0) == 2 and d.get_rank(1) == 1) or \n",
    "       (d.get_rank(1) == 2 and d.get_rank(0) == 1)), 'Uno de los nodos 0 o 1 debe tener rango 2'\n",
    "\n",
    "assert((d.get_rank(2) == 2 and d.get_rank(3) == 1) or \n",
    "       (d.get_rank(3) == 2 and d.get_rank(2) == 1)), 'Uno de los nodos 2 o 3 debe tener rango 2'\n",
    "\n",
    "d.union(3, 4)\n",
    "assert(d.find(2) == d.find(4)), '2 y 4 deben estar en el mismo conjunto'\n",
    "\n",
    "d.union(5, 7)\n",
    "d.union(6, 8)\n",
    "d.union(3, 7)\n",
    "d.union(0, 6)\n",
    "\n",
    "assert(d.find(6) == d.find(1)), '1 y 6 deben estar en el mismo conjunto'\n",
    "assert(d.find(7) == d.find(4)), '7 y 4 deben estar en el mismo conjunto'\n",
    "print('Todas las pruebas han pasado!')\n"
   ]
  },
  {
   "cell_type": "markdown",
   "id": "28bd8f86",
   "metadata": {
    "deletable": false,
    "editable": false,
    "nbgrader": {
     "cell_type": "markdown",
     "checksum": "",
     "grade": false,
     "grade_id": "",
     "locked": true,
     "schema_version": 3,
     "solution": false,
     "task": false
    }
   },
   "source": [
    "### **Problema 2**\n",
    "\n",
    "Ahora exploraremos cómo encontrar los componentes fuertemente conexos máximos de un grafo no dirigido utilizando estructuras de datos union‐find.\n",
    "El grafo no dirigido consiste simplemente en una lista de aristas con pesos.\n",
    "  - Asociaremos un peso no negativo $w_{i,j}$ para cada arista no dirigida $(i,j)$.\n",
    "  - Asociamos algunos datos adicionales con los vértices que serán útiles más adelante.\n",
    "\n",
    "Por favor, revisa cuidadosamente el código de las estructuras de datos para grafos no dirigidos."
   ]
  },
  {
   "cell_type": "code",
   "execution_count": null,
   "id": "79c352c8",
   "metadata": {
    "deletable": false,
    "editable": false,
    "nbgrader": {
     "cell_type": "code",
     "checksum": "",
     "grade": false,
     "grade_id": "",
     "locked": true,
     "schema_version": 3,
     "solution": false,
     "task": false
    }
   },
   "outputs": [],
   "source": [
    "class UndirectedGraph:\n",
    "    \n",
    "    # n es el número de vértices\n",
    "    # Etiquetaremos los vértices de 0 a self.n - 1\n",
    "    # Simplemente almacenamos las aristas en una lista.\n",
    "    def __init__(self, n):\n",
    "        assert n >= 1, 'Estás creando un grafo vacío, lo cual no está permitido'\n",
    "        self.n = n\n",
    "        self.edges = []\n",
    "        self.vertex_data = [None] * self.n\n",
    "       \n",
    "    def set_vertex_data(self, j, dat):\n",
    "        assert 0 <= j < self.n\n",
    "        self.vertex_data[j] = dat\n",
    "        \n",
    "    def get_vertex_data(self, j):\n",
    "        assert 0 <= j < self.n\n",
    "        return self.vertex_data[j]\n",
    "        \n",
    "    def add_edge(self, i, j, wij):\n",
    "        assert 0 <= i < self.n\n",
    "        assert 0 <= j < self.n\n",
    "        assert i != j\n",
    "        # Asegúrate de agregar la arista de i a j con peso wij\n",
    "        self.edges.append((i, j, wij))\n",
    "        \n",
    "    def sort_edges(self):\n",
    "        # Ordena las aristas en orden ascendente según sus pesos.\n",
    "        self.edges = sorted(self.edges, key=lambda edg_data: edg_data[2])\n"
   ]
  },
  {
   "cell_type": "markdown",
   "id": "b950a26c",
   "metadata": {
    "deletable": false,
    "editable": false,
    "nbgrader": {
     "cell_type": "markdown",
     "checksum": "",
     "grade": false,
     "grade_id": "",
     "locked": true,
     "schema_version": 3,
     "solution": false,
     "task": false
    }
   },
   "source": [
    "#### **2A: Utiliza estructuras de datos union‐find para calcular los componentes fuertemente conexos**\n",
    "\n",
    "Hemos visto previamente cómo usar DFS para encontrar los componentes fuertemente conexos máximos con una pequeña modificación.\n",
    "\n",
    "  - Consideraremos únicamente aquellas aristas $(i,j)$ cuyos pesos sean menores o iguales a un umbral $W$ proporcionado por el usuario.\n",
    "  - Las aristas con peso mayor a este umbral no se consideran.\n",
    "  \n",
    "Diseña un algoritmo para calcular todos los componentes fuertemente conexos máximos para todas las aristas con el umbral $W$ usando la estructura union‐find. ¿Cuál es el tiempo de ejecución de tu algoritmo? Nota: esta respuesta se evalúa manualmente; puedes comparar tu solución con nuestra solución proporcionada al final de esta asignación."
   ]
  },
  {
   "cell_type": "markdown",
   "id": "991710aa",
   "metadata": {
    "deletable": false,
    "editable": false,
    "nbgrader": {
     "cell_type": "markdown",
     "checksum": "",
     "grade": true,
     "grade_id": "",
     "locked": true,
     "schema_version": 3,
     "solution": false,
     "task": false
    }
   },
   "source": [
    "Tu respuesta aqui"
   ]
  },
  {
   "cell_type": "markdown",
   "id": "d6ce471c",
   "metadata": {
    "deletable": false,
    "editable": false,
    "nbgrader": {
     "cell_type": "markdown",
     "checksum": "",
     "grade": false,
     "grade_id": "",
     "locked": true,
     "schema_version": 3,
     "solution": false,
     "task": false
    }
   },
   "source": [
    "Completa las partes faltantes de la función en el código a continuación para calcular los componentes fuertemente conexos."
   ]
  },
  {
   "cell_type": "code",
   "execution_count": null,
   "id": "eed10c8f",
   "metadata": {
    "deletable": false,
    "editable": false,
    "nbgrader": {
     "cell_type": "code",
     "checksum": "",
     "grade": false,
     "grade_id": "",
     "locked": true,
     "schema_version": 3,
     "solution": true,
     "task": false
    }
   },
   "outputs": [],
   "source": [
    "def compute_scc(g, W):\n",
    "    # Crea un bosque disjunto con tantos elementos como vértices\n",
    "    # A continuación, calcula los componentes fuertemente conexos utilizando la estructura de datos de bosque disjuntos\n",
    "    d = DisjointForests(g.n)\n",
    "    # Tu código aquí\n",
    "    \n",
    "    # Extrae un conjunto de conjuntos de d\n",
    "    return d.dictionary_of_sets()    "
   ]
  },
  {
   "cell_type": "code",
   "execution_count": null,
   "id": "a687aed6",
   "metadata": {
    "deletable": false,
    "editable": false,
    "nbgrader": {
     "cell_type": "code",
     "checksum": "",
     "grade": true,
     "grade_id": "",
     "locked": true,
     "schema_version": 3,
     "solution": false,
     "task": false
    }
   },
   "outputs": [],
   "source": [
    "g3 = UndirectedGraph(8)\n",
    "g3.add_edge(0, 1, 0.5)\n",
    "g3.add_edge(0, 2, 1.0)\n",
    "g3.add_edge(0, 4, 0.5)\n",
    "g3.add_edge(2, 3, 1.5)\n",
    "g3.add_edge(2, 4, 2.0)\n",
    "g3.add_edge(3, 4, 1.5)\n",
    "g3.add_edge(5, 6, 2.0)\n",
    "g3.add_edge(5, 7, 2.0)\n",
    "res = compute_scc(g3, 2.0)\n",
    "print('Los componentes fuertemente conexos con umbral 2.0 calculados por tu código son:')\n",
    "assert len(res) == 2, f'Se esperaban 2 componentes fuertemente conexos pero se obtuvo {len(res)}'\n",
    "for (k, s) in res.items():\n",
    "    print(s)\n",
    "    \n",
    "# Comprobemos que tu código devuelve lo que esperamos.\n",
    "for (k, s) in res.items():\n",
    "    if k in [0, 1, 2, 3, 4]:\n",
    "        assert s == set([0, 1, 2, 3, 4]), '{0,1,2,3,4} debería ser un componente fuertemente conexo'\n",
    "    if k in [5, 6, 7]:\n",
    "        assert s == set([5, 6, 7]), '{5,6,7} debería ser un componente fuertemente conexo'\n",
    "\n",
    "# Comprobemos que el umbral funciona correctamente\n",
    "print('Componentes fuertemente conexos con umbral 1.5')\n",
    "res2 = compute_scc(g3, 1.5)  # Esto descarta las aristas (2,4) y (3,4)\n",
    "for (k, s) in res2.items():\n",
    "    print(s)\n",
    "assert len(res2) == 4, f'Se esperaban 4 componentes fuertemente conexos pero se obtuvo {len(res2)}'\n",
    "\n",
    "for (k, s) in res2.items():\n",
    "    if k in [0, 1, 2, 3, 4]:\n",
    "        assert s == set([0, 1, 2, 3, 4]), '{0,1,2,3,4} debería ser un componente fuertemente conexo'\n",
    "    if k == 5:\n",
    "        assert s == set([5]), '{5} debería ser un componente fuertemente conexo con un solo nodo.'\n",
    "    if k == 6:\n",
    "        assert s == set([6]), '{6} debería ser un componente fuertemente conexo con un solo nodo.'\n",
    "    if k == 7:\n",
    "        assert s == set([7]), '{7} debería ser un componente fuertemente conexo con un solo nodo.'\n",
    "        \n",
    "print('Todas las pruebas han pasado!')\n"
   ]
  },
  {
   "cell_type": "markdown",
   "id": "a21f252a",
   "metadata": {
    "deletable": false,
    "editable": false,
    "nbgrader": {
     "cell_type": "markdown",
     "checksum": "",
     "grade": false,
     "grade_id": "",
     "locked": true,
     "schema_version": 3,
     "solution": false,
     "task": false
    }
   },
   "source": [
    "#### **2B: Calcular el árbol de expansión mínima**\n",
    "\n",
    "Ahora calcularemos el MST (árbol de expansión mínima) de un grafo no dirigido ponderado utilizando el algoritmo de Kruskal.\n",
    "Completa el siguiente código que utiliza una estructura de datos de bosque de conjuntos disjuntos para implementar el algoritmo de Kruskal.\n",
    "\n",
    "Tu código simplemente debe devolver una lista de aristas (i, j, wij) que forman parte del MST, junto con el peso total del MST."
   ]
  },
  {
   "cell_type": "code",
   "execution_count": null,
   "id": "219cbe59",
   "metadata": {
    "deletable": false,
    "editable": false,
    "nbgrader": {
     "cell_type": "code",
     "checksum": "",
     "grade": false,
     "grade_id": "",
     "locked": true,
     "schema_version": 3,
     "solution": true,
     "task": false
    }
   },
   "outputs": [],
   "source": [
    "def compute_mst(g):\n",
    "    # Devuelve una tupla de dos elementos:\n",
    "    #   1. lista de aristas (i,j) que forman parte del MST\n",
    "    #   2. suma de los pesos de las aristas del MST.\n",
    "    d = DisjointForests(g.n)\n",
    "    mst_edges = []\n",
    "    g.sort_edges()\n",
    "    # Tu código aquí\n",
    "        \n",
    "    # Itera sobre las aristas ordenadas\n",
    "    for edge in g.edges:\n",
    "        u, v, weight = edge\n",
    "        # Verifica si u y v pertenecen a conjuntos diferentes (para evitar ciclos)\n",
    "        if d.find(u) != d.find(v):\n",
    "            # Si están en conjuntos diferentes, incluye esta arista en el MST\n",
    "            mst_edges.append((u, v, weight))\n",
    "            total_weight += weight  \n",
    "            \n",
    "            # Une los conjuntos de u y v\n",
    "            d.union(u, v)\n",
    "    \n",
    "    return (mst_edges, total_weight)\n"
   ]
  },
  {
   "cell_type": "code",
   "execution_count": null,
   "id": "77843c8b",
   "metadata": {
    "deletable": false,
    "editable": false,
    "nbgrader": {
     "cell_type": "code",
     "checksum": "",
     "grade": true,
     "grade_id": "",
     "locked": true,
     "schema_version": 3,
     "solution": false,
     "task": false
    }
   },
   "outputs": [],
   "source": [
    "g3 = UndirectedGraph(8)\n",
    "g3.add_edge(0, 1, 0.5)\n",
    "g3.add_edge(0, 2, 1.0)\n",
    "g3.add_edge(0, 4, 0.5)\n",
    "g3.add_edge(2, 3, 1.5)\n",
    "g3.add_edge(2, 4, 2.0)\n",
    "g3.add_edge(3, 4, 1.5)\n",
    "g3.add_edge(5, 6, 2.0)\n",
    "g3.add_edge(5, 7, 2.0)\n",
    "g3.add_edge(3, 5, 2.0)\n",
    "\n",
    "(mst_edges, mst_weight) = compute_mst(g3)\n",
    "print('Tu código calculó el MST: ')\n",
    "for (i, j, wij) in mst_edges:\n",
    "    print(f'\\t {(i, j)} peso {wij}')\n",
    "print(f'Peso total de las aristas: {mst_weight}')\n",
    "\n",
    "assert mst_weight == 9.5, 'Se esperaba que el peso óptimo del MST fuera 9.5'\n",
    "\n",
    "assert (0, 1, 0.5) in mst_edges\n",
    "assert (0, 2, 1.0) in mst_edges\n",
    "assert (0, 4, 0.5) in mst_edges\n",
    "assert (5, 6, 2.0) in mst_edges\n",
    "assert (5, 7, 2.0) in mst_edges\n",
    "assert (3, 5, 2.0) in mst_edges\n",
    "assert (2, 3, 1.5) in mst_edges or (3, 4, 1.5) in mst_edges\n",
    "\n",
    "print('Todas las pruebas han pasado!')\n"
   ]
  },
  {
   "cell_type": "markdown",
   "id": "cbef0f35",
   "metadata": {
    "deletable": false,
    "editable": false,
    "nbgrader": {
     "cell_type": "markdown",
     "checksum": "",
     "grade": false,
     "grade_id": "",
     "locked": true,
     "schema_version": 3,
     "solution": false,
     "task": false
    }
   },
   "source": [
    "#### **2C: Umbral de aristas para desconectar un grafo**\n",
    "\n",
    "Sea $G$ un grafo no dirigido ponderado que es fuertemente conexo (es decir, el grafo completo es un componente fuertemente conexo). Nuestro objetivo es encontrar el mayor peso $W$ tal que eliminar todas las aristas con peso $\\geq W$ desconecte el grafo.\n",
    "\n",
    "Demuestra que el umbral $W$ es igual al mayor peso de una arista en el MST encontrado por el algoritmo de Kruskal, demostrando que:\n",
    "  - Eliminar todas las aristas con peso $\\geq W$ resultará en un grafo desconectado.\n",
    "  - Conservar únicamente las aristas con peso $\\leq W$ (o eliminar las aristas con peso $> W$) dará como resultado un grafo conexo.\n",
    "\n",
    "Utiliza el hecho de que un grafo es fuertemente conexo si y solo si tiene un árbol de expansión mínima."
   ]
  },
  {
   "cell_type": "markdown",
   "id": "dc3b51c6",
   "metadata": {
    "deletable": false,
    "editable": false,
    "nbgrader": {
     "cell_type": "markdown",
     "checksum": "",
     "grade": true,
     "grade_id": "",
     "locked": true,
     "schema_version": 3,
     "solution": true,
     "task": false
    }
   },
   "source": [
    "Tu respuesta aquí"
   ]
  },
  {
   "cell_type": "markdown",
   "id": "8f28aa11",
   "metadata": {
    "deletable": false,
    "editable": false,
    "nbgrader": {
     "cell_type": "markdown",
     "checksum": "",
     "grade": false,
     "grade_id": "",
     "locked": true,
     "schema_version": 3,
     "solution": false,
     "task": false
    }
   },
   "source": [
    "#### Análisis topológico de datos en imágenes\n",
    "\n",
    "Ilustramos una conexión interesante entre los algoritmos de grafos para componentes fuertemente conexos y árboles de expansión mínima para analizar imágenes. Específicamente, identificaremos los componentes en las imágenes de la siguiente manera:\n",
    "\n",
    "a) Primero, tratamos una imagen almacenada en un archivo `.png` o `.jpg` como una matriz de píxeles donde los píxeles tienen color e intensidad.\n",
    "\n",
    "b) Dada una imagen, construimos un grafo cuyos vértices son píxeles y las aristas conectan píxeles vecinos.\n",
    "\n",
    "c) El peso de una arista en el grafo que conecta píxeles vecinos mide la diferencia de intensidad entre los píxeles (también se pueden usar otras medidas de las diferencias locales).\n",
    "\n",
    "Podemos realizar el siguiente análisis (esto es solo un ejemplo de este tipo de análisis, que pertenece a una familia más amplia de métodos llamados análisis topológico de datos):\n",
    "\n",
    "(a) Construye un árbol de expansión mínima y calcula el peso máximo de una arista en el MST. Llamémoslo W.\n",
    "\n",
    "(b) Considera los componentes fuertemente conexos máximos de la imagen para varios umbrales, tales como $0.5W$, $0.75W$ o $0.9W$. Visualizar los píxeles en los distintos componentes fuertemente conexos nos permitirá estudiar los \"segmentos\" que componen la imagen.\n",
    "\n",
    "Aquí hay un poco de código útil usando OpenCV para cargar imágenes. Por favor, obsérvalo detenidamente."
   ]
  },
  {
   "cell_type": "code",
   "execution_count": null,
   "id": "c4ec4bac",
   "metadata": {
    "deletable": false,
    "editable": false,
    "nbgrader": {
     "cell_type": "code",
     "checksum": "",
     "grade": false,
     "grade_id": "",
     "locked": true,
     "schema_version": 3,
     "solution": false,
     "task": false
    }
   },
   "outputs": [],
   "source": [
    "%matplotlib inline\n",
    "from matplotlib import pyplot as plt\n",
    "import cv2\n",
    "# Puedes leer archivos .png, .jpg y otros tipos de archivo\n",
    "img = cv2.imread('test-pic.png')  # Lee una imagen de un archivo usando la librería OpenCV (cv2)\n",
    "# Puedes anotar imágenes\n",
    "plt.imshow(img)  # Muestra la imagen en pantalla\n",
    "# Puedes averiguar el tamaño de la imagen\n",
    "print('Tamaño de la imagen (alto, ancho, número de capas) es', img.shape)\n",
    "\n",
    "px = img[145,67]  # img[y,x] es el color del píxel en (x,y)\n",
    "print(f'El píxel en (145,67) es {px}')\n",
    "print('Los píxeles son valores RGB.')\n"
   ]
  },
  {
   "cell_type": "code",
   "execution_count": null,
   "id": "baafe372",
   "metadata": {
    "deletable": false,
    "editable": false,
    "nbgrader": {
     "cell_type": "code",
     "checksum": "",
     "grade": false,
     "grade_id": "",
     "locked": true,
     "schema_version": 3,
     "solution": false,
     "task": false
    }
   },
   "outputs": [],
   "source": [
    "import math\n",
    "import cv2\n",
    "\n",
    "def pixel_difference(px1, px2):\n",
    "    def fix_pixels(px):\n",
    "        return [int(px[0]), int(px[1]), int(px[2])]\n",
    "    px1_float = fix_pixels(px1)\n",
    "    px2_float = fix_pixels(px2)\n",
    "    return max(abs(px1_float[0] - px2_float[0]), abs(px1_float[1] - px2_float[1]), abs(px1_float[2] - px2_float[2]))\n",
    "\n",
    "def get_index_from_pixel(i, j, height, width):\n",
    "    assert 0 <= i < width\n",
    "    assert 0 <= j < height\n",
    "    return j * width + i\n",
    "\n",
    "def get_coordinates_from_index(s, height, width):\n",
    "    assert 0 <= s < height * width\n",
    "    j = s // width\n",
    "    i = s % width\n",
    "    return (i, j)\n",
    "\n",
    "def connect_neighboring_pixels(i, j, i1, j1, img, g):\n",
    "    (height, width, _) = img.shape\n",
    "    s = get_index_from_pixel(i, j, height, width)\n",
    "    px = img[j, i]\n",
    "    s1 = get_index_from_pixel(i1, j1, height, width)\n",
    "    px1 = img[j1, i1]\n",
    "    w = pixel_difference(px1, px)\n",
    "    g.add_edge(s, s1, w)\n",
    "\n",
    "def load_image_and_make_graph(imfilename):\n",
    "    img = cv2.imread(imfilename)\n",
    "    (height, width, num_layers) = img.shape\n",
    "    g = UndirectedGraph(height * width)\n",
    "    for j in range(height):\n",
    "        for i in range(width):\n",
    "            s = get_index_from_pixel(i, j, height, width)\n",
    "            g.set_vertex_data(s, (i, j))\n",
    "            if i > 0:\n",
    "                connect_neighboring_pixels(i, j, i-1, j, img, g)\n",
    "            if i < width - 1:\n",
    "                connect_neighboring_pixels(i, j, i+1, j, img, g)\n",
    "            if j > 0:\n",
    "                connect_neighboring_pixels(i, j, i, j-1, img, g)\n",
    "            if j < height - 1:\n",
    "                connect_neighboring_pixels(i, j, i, j+1, img, g)\n",
    "    return g\n"
   ]
  },
  {
   "cell_type": "code",
   "execution_count": null,
   "id": "39b0eda4",
   "metadata": {
    "deletable": false,
    "editable": false,
    "nbgrader": {
     "cell_type": "code",
     "checksum": "",
     "grade": false,
     "grade_id": "",
     "locked": true,
     "schema_version": 3,
     "solution": false,
     "task": false
    }
   },
   "outputs": [],
   "source": [
    "print('Cargando imagen y construyendo grafo.')\n",
    "g = load_image_and_make_graph('test-pic.png')\n",
    "print('Ejecutando algoritmo del MST')\n",
    "(mst_edges, mst_weight) = compute_mst(g)\n",
    "print(f'Se encontró un MST con {len(mst_edges)} aristas y peso total = {mst_weight}')\n",
    "max_mst_edge_weight = max(mst_edges, key=lambda e: e[2])\n",
    "print(f'Mayor peso de arista en el MST = {max_mst_edge_weight[2]}')\n"
   ]
  },
  {
   "cell_type": "code",
   "execution_count": null,
   "id": "c0c54635",
   "metadata": {
    "deletable": false,
    "editable": false,
    "nbgrader": {
     "cell_type": "code",
     "checksum": "",
     "grade": false,
     "grade_id": "",
     "locked": true,
     "schema_version": 3,
     "solution": false,
     "task": false
    }
   },
   "outputs": [],
   "source": [
    "import numpy as np\n",
    "\n",
    "def visualize_components(orig_image, g, components_dict):\n",
    "    # Dada una imagen original, el grafo g y un diccionario de componentes,\n",
    "    # crea una nueva imagen coloreada con el color de cada componente.\n",
    "    (w, h, channels) = orig_image.shape\n",
    "    new_image = np.zeros((w, h, channels), np.uint8)\n",
    "    count = 0\n",
    "    delta = 10\n",
    "    for (key, vertSet) in components_dict.items():\n",
    "        if len(vertSet) >= 10:\n",
    "            (i, j) = g.get_vertex_data(key)\n",
    "            rgb_px = orig_image[j, i]\n",
    "            rgb_color = (int(rgb_px[0]), int(rgb_px[1]), int(rgb_px[2]))\n",
    "            count = count + 1          \n",
    "            for s in vertSet:\n",
    "                (i, j) = g.get_vertex_data(s)\n",
    "                cv2.circle(new_image, (i, j), 1, rgb_color, -1) \n",
    "    return new_image\n"
   ]
  },
  {
   "cell_type": "code",
   "execution_count": null,
   "id": "a39da3f6",
   "metadata": {
    "deletable": false,
    "editable": false,
    "nbgrader": {
     "cell_type": "code",
     "checksum": "",
     "grade": false,
     "grade_id": "",
     "locked": true,
     "schema_version": 3,
     "solution": false,
     "task": false
    }
   },
   "outputs": [],
   "source": [
    "W0 = 0.01 * max_mst_edge_weight[2]\n",
    "res = compute_scc(g, W0)\n",
    "print(f'Se encontraron {len(res)} componentes')\n",
    "print('Mostrando componentes con al menos 10 vértices')\n",
    "new_img = visualize_components(img, g, res)\n",
    "plt.imshow(new_img)  # Muestra la imagen en pantalla"
   ]
  }
 ],
 "metadata": {
  "kernelspec": {
   "display_name": "Python 3 (ipykernel)",
   "language": "python",
   "name": "python3"
  },
  "language_info": {
   "codemirror_mode": {
    "name": "ipython",
    "version": 3
   },
   "file_extension": ".py",
   "mimetype": "text/x-python",
   "name": "python",
   "nbconvert_exporter": "python",
   "pygments_lexer": "ipython3",
   "version": "3.12.3"
  }
 },
 "nbformat": 4,
 "nbformat_minor": 5
}
