{
 "cells": [
  {
   "cell_type": "markdown",
   "metadata": {
    "id": "zH-tZtOfk6Gw"
   },
   "source": [
    "### Problema de la mochila (knapsack) (versión 0-1)\n",
    "\n",
    "__Entradas:__ Límite de peso $W$, lista de pesos de los ítems $[w_1, \\ldots, w_k]$, y lista de valores de los ítems $[v_1, \\ldots, v_k]$.\n",
    "\n",
    "__Salida:__ Para cada ítem, podemos elegir incluirlo en la mochila ($n_i = 1$) o dejarlo fuera ($n_i = 0$) de modo que\n",
    "   1. El peso total sea menor o igual al límite de la mochila: $n_1 w_1 + \\cdots + n_k w_k \\leq W$. Nótese que cada $n_i \\in \\{0, 1\\}$, dependiendo de si el ítem \\# i se elige o no.\n",
    "   2. Se maximice el valor de los bienes robados: $n_1 v_1 + \\ldots + n_k v_k$ es máximo."
   ]
  },
  {
   "cell_type": "code",
   "execution_count": null,
   "metadata": {
    "id": "Xmlp5523lXVz"
   },
   "outputs": [],
   "source": [
    "# Importante: Ejecuta esta celda a continuación\n",
    "W = 200  # Límite de peso es 200\n",
    "pesos = [1, 5, 20, 35, 90]  # Estos son los pesos de los ítems individuales\n",
    "valores = [15, 14.5, 19.2, 19.8, 195.2]  # Estos son los valores de los ítems individuales"
   ]
  },
  {
   "cell_type": "markdown",
   "metadata": {
    "id": "QPhlmnp1lbhI"
   },
   "source": [
    "#### 1. Identificar la subestructura óptima\n",
    "\n",
    "Supongamos que el límite de peso actual es $W$ y ya hemos tomado decisiones para todos los ítems desde $1, \\ldots, j-1$, donde $j \\geq 1$. ¿Qué decisiones podemos tomar para el ítem \\# $j$?\n",
    "\n",
    "   1. Remover el ítem $j$: el límite de peso restante es $W - w_j$ y obtenemos un valor de $v_j$. El __problema restante__ es encontrar la mejor forma de remover con un límite de peso $W - w_j$ usando los ítems de $j+1, \\ldots, n$.\n",
    "   2. No remover el ítem $j$: el límite de peso restante sigue siendo $W$ y no se obtiene ningún valor, ya que no se retira el ítem $j$. El __problema restante__ es encontrar la mejor forma de retirar con un límite de peso $W$ usando los ítems de $j+1, \\ldots, n$.\n",
    "\n",
    "Podemos ver así que el problema tiene una subestructura óptima:\n",
    " - Podemos tomar las decisiones en _etapas_, en este caso un ítem a la vez.\n",
    " - Una vez tomada una decisión, el problema restante es también una instancia del problema original, pero con datos modificados.\n",
    "\n",
    "#### 2. Recurrencia\n",
    "$$\\newcommand\\msz{\\text{maxValorRetirado}}$$\n",
    "$$\\msz(W, j) = \\max\\ \\left\\{ \\begin{array}{ll}\n",
    "v_j + \\msz(W - w_j, j+1), & \\leftarrow \\ \\text{remover el ítem } j \\\\ \n",
    "\\msz(W, j+1) & \\leftarrow \\ \\text{omitir el ítem } j \\\\ \n",
    "\\end{array} \\right.$$\n",
    "\n",
    "Casos base:\n",
    "\n",
    "  * $\\msz(0, j) = 0$, para todo $j \\in \\{1, \\ldots, n\\}$. Esto maneja el caso cuando no queda capacidad de peso.\n",
    "  * $\\msz(W, j) = -\\infty$ si $W < 0$, para todo $j \\in \\{1, \\ldots, n\\}$. Esto maneja el caso cuando se violan las restricciones de peso.\n",
    "  * $\\msz(W, n+1) = 0$, para todo $W \\geq 0$. Esto maneja el caso cuando se han agotado los ítems para remover.\n"
   ]
  },
  {
   "cell_type": "code",
   "execution_count": null,
   "metadata": {
    "id": "zENU8wuknNbS"
   },
   "outputs": [],
   "source": [
    "def maxValorRetirado(W, j, pesos, valores):\n",
    "    assert j >= 0 \n",
    "    assert len(pesos) == len(valores)\n",
    "    # pesos -- lista de pesos de los ítems\n",
    "    # valores -- lista de valores de los ítems\n",
    "    # W: límite de peso\n",
    "    # j: número del ítem que estamos considerando\n",
    "\n",
    "    # Primero, los casos base\n",
    "    if W == 0:\n",
    "        return 0\n",
    "    if W < 0:  # Se han agregado más ítems a la mochila de lo que permite su capacidad\n",
    "        return -float('inf')\n",
    "    if j >= len(pesos):\n",
    "        return 0\n",
    "    # A continuación, se maneja la recurrencia.\n",
    "    return max(\n",
    "        valores[j] + maxValorRetirado(W - pesos[j], j+1, pesos, valores),  # remover el ítem j\n",
    "        maxValorRetirado(W, j+1, pesos, valores)  # omitir el ítem j\n",
    "    )"
   ]
  },
  {
   "cell_type": "code",
   "execution_count": null,
   "metadata": {
    "colab": {
     "base_uri": "https://localhost:8080/"
    },
    "executionInfo": {
     "elapsed": 115,
     "status": "ok",
     "timestamp": 1648520351946,
     "user": {
      "displayName": "Sriram Sankaranarayanan",
      "userId": "12264367605776763929"
     },
     "user_tz": 360
    },
    "id": "bWUTuPX5n_LL",
    "outputId": "11b57746-db0f-45d6-ce9f-b1109b21f730"
   },
   "outputs": [],
   "source": [
    "maxValorRetirado(W, 0, pesos, valores)"
   ]
  },
  {
   "cell_type": "code",
   "execution_count": null,
   "metadata": {
    "colab": {
     "base_uri": "https://localhost:8080/"
    },
    "executionInfo": {
     "elapsed": 123,
     "status": "ok",
     "timestamp": 1648520353261,
     "user": {
      "displayName": "Sriram Sankaranarayanan",
      "userId": "12264367605776763929"
     },
     "user_tz": 360
    },
    "id": "E_ixueW-oOgL",
    "outputId": "a63b3796-ee46-4571-e8cb-e5fe53229891"
   },
   "outputs": [],
   "source": [
    "maxValorRetirado(20, 0, pesos, valores)"
   ]
  },
  {
   "cell_type": "markdown",
   "metadata": {
    "id": "6QLtwLmhZ33f"
   },
   "source": [
    "#### 3. Memoización\n",
    "\n",
    "La memoización de la recurrencia $\\msz$ la convertirá en una tabla.\n",
    " - La entrada de la tabla $T[(w, j)]$ representará el valor de $\\msz(w,j)$ para el límite de peso $0 \\leq w \\leq W$ y $1 \\leq j \\leq n$.\n",
    " - Supondremos que $T[(0, *)] = 0$ y $T[(*, n+1)] = 0$, donde * denota un número arbitrario para ese argumento.\n",
    " - Si intentamos acceder a $T[(w, *)]$ para $w < 0$, asumiremos que su valor es $-\\infty$.\n",
    "\n",
    "\n",
    "### 4. Recuperar la solución\n",
    "\n",
    "Almacenamos en una tabla separada $S[(0,0)], \\ldots, S[(W,n)]$ qué opción nos proporciona el mejor valor:\n",
    "  - $S[(w, j)] = +1$ significa que, para el límite de peso $w$, elegiremos incluir el ítem $j$.\n",
    "  - $S[(w,j)] = 0$ significa que, para el límite de peso $w$, omitiremos el ítem $j$.\n",
    "\n",
    "El objetivo será llenar primero las tablas $T$ y $S$ con las entradas del problema y luego recuperar la solución.\n",
    "\n",
    "Recordemos nuevamente la recurrencia:\n",
    "$$\\msz(W, j) = \\max\\ \\left\\{ \\begin{array}{ll}\n",
    "v_j + \\msz(W - w_j, j+1), & \\leftarrow \\ \\text{remover el ítem } j \\\\ \n",
    "\\msz(W, j+1) & \\leftarrow \\ \\text{omitir el ítem } j \\\\ \n",
    "\\end{array} \\right.$$\n",
    "\n",
    "Vemos que $\\msz(w,j)$ requiere conocer $\\msz(w', j+1)$ para $w' \\leq w$.\n",
    " - Por lo tanto, la tabla debe llenarse con $w = 0, \\ldots, W$ en orden ascendente y $j = n, \\ldots, 1$ en orden descendente.\n",
    "\n",
    "Esto es importante a tener en cuenta para nuestro algoritmo de memoización.\n"
   ]
  },
  {
   "cell_type": "code",
   "execution_count": null,
   "metadata": {
    "id": "IPBAk53db1Xz"
   },
   "outputs": [],
   "source": [
    "def memoizedMaxValorRetirado(W, pesos, valores): \n",
    "    n = len(pesos)\n",
    "    assert (len(valores) == n), 'La lista de pesos y valores debe tener el mismo tamaño'\n",
    "    assert (W >= 0)\n",
    "    if W == 0: \n",
    "        return 0, []  # Nada que remover y valor 0.\n",
    "    \n",
    "    # Inicializar la tabla de memoización como una lista de listas\n",
    "    # Llenar todas las entradas con 0\n",
    "    T = [[0 for j in range(n)] for w in range(W+1)]\n",
    "    S = [[0 for j in range(n)] for w in range(W+1)]\n",
    "\n",
    "    # Usaremos este método auxiliar para acceder a nuestra tabla de memoización.\n",
    "    # Esto nos ahorrará código más adelante.\n",
    "    def getTblEntry(w, j): \n",
    "        if w == 0: \n",
    "            return 0\n",
    "        if w < 0: \n",
    "            return -float('inf')\n",
    "        if j >= n:\n",
    "            return 0\n",
    "        return T[w][j]\n",
    "\n",
    "    for w in range(1, W+1):  # w en orden ascendente de 1 a W.\n",
    "        for j in range(n-1, -1, -1):  # Bucle en orden descendente de n-1 a 0.\n",
    "            # Esto nos permite llenar T y S simultáneamente sin usar estructura if-then-else\n",
    "            (T[w][j], S[w][j]) = max(\n",
    "                (valores[j] + getTblEntry(w - pesos[j], j+1), 1), \n",
    "                (getTblEntry(w, j+1), 0)\n",
    "            )\n",
    "    itemsToSteal = [] \n",
    "    # Recuperar la solución\n",
    "    weightOfKnapsack = W  \n",
    "    for j in range(n): \n",
    "        if (S[weightOfKnapsack][j] == 1):\n",
    "            itemsToSteal.append(j)\n",
    "            weightOfKnapsack = weightOfKnapsack - pesos[j]\n",
    "            print(f'Remover ítem {j}: Peso = {pesos[j]}, Valor = {valores[j]}')\n",
    "    print(f'Peso total retirado: {W - weightOfKnapsack}, valor = {T[W][0]}')\n",
    "    return (T[W][0], itemsToSteal)\n"
   ]
  },
  {
   "cell_type": "code",
   "execution_count": null,
   "metadata": {
    "colab": {
     "base_uri": "https://localhost:8080/"
    },
    "executionInfo": {
     "elapsed": 136,
     "status": "ok",
     "timestamp": 1648521140582,
     "user": {
      "displayName": "Sriram Sankaranarayanan",
      "userId": "12264367605776763929"
     },
     "user_tz": 360
    },
    "id": "l6dcZiUbd5Aj",
    "outputId": "fc42e241-4e51-4cf4-cb66-b5edcc755f78"
   },
   "outputs": [],
   "source": [
    "memoizedMaxValorRetirado(W, pesos, valores)"
   ]
  },
  {
   "cell_type": "code",
   "execution_count": null,
   "metadata": {
    "colab": {
     "base_uri": "https://localhost:8080/"
    },
    "executionInfo": {
     "elapsed": 122,
     "status": "ok",
     "timestamp": 1648521144860,
     "user": {
      "displayName": "Sriram Sankaranarayanan",
      "userId": "12264367605776763929"
     },
     "user_tz": 360
    },
    "id": "yoxnv-lDe4Ao",
    "outputId": "6506818a-c000-40b0-ebec-aeeb748ce460"
   },
   "outputs": [],
   "source": [
    "memoizedMaxValorRetirado(20, pesos, valores)"
   ]
  },
  {
   "cell_type": "code",
   "execution_count": null,
   "metadata": {
    "colab": {
     "base_uri": "https://localhost:8080/"
    },
    "executionInfo": {
     "elapsed": 3,
     "status": "ok",
     "timestamp": 1648521188742,
     "user": {
      "displayName": "Sriram Sankaranarayanan",
      "userId": "12264367605776763929"
     },
     "user_tz": 360
    },
    "id": "cNLqwjyehIYH",
    "outputId": "e6ea1767-dfe9-49ff-fde4-70c7d59f6644"
   },
   "outputs": [],
   "source": [
    "memoizedMaxValorRetirado(150, pesos, valores)"
   ]
  },
  {
   "cell_type": "markdown",
   "metadata": {
    "id": "NF6WneC3yi8X"
   },
   "source": [
    "### Problema de la mochila con número ilimitado de ítems\n",
    "\n",
    "Estudiaremos una versión del problema de la mochila en la que se puede elegir cada ítem un número ilimitado de veces.\n",
    "\n",
    "__Entradas:__ Límite de peso $W$, lista de pesos de los ítems $[w_1, \\ldots, w_k]$, y lista de valores de los ítems $[v_1, \\ldots, v_k]$.\n",
    "\n",
    "__Salida:__ Elegir cuántos de cada ítem tomar $[n_1, \\ldots, n_k]$ de modo que\n",
    "   1. El peso total sea menor o igual al límite de la mochila: $n_1 w_1 + \\cdots + n_k w_k \\leq W$.\n",
    "   2. Se maximice el valor de los bienes removidos: $n_1 v_1 + \\ldots + n_k v_k$ es máximo."
   ]
  },
  {
   "cell_type": "code",
   "execution_count": null,
   "metadata": {
    "id": "Ge8galSjyi8e"
   },
   "outputs": [],
   "source": [
    "W = 200\n",
    "pesos = [1, 5, 20, 35, 90]\n",
    "valores = [15, 14.5, 19.2, 19.8, 195.2]"
   ]
  },
  {
   "cell_type": "markdown",
   "metadata": {
    "id": "Llb1uo1gyi8f"
   },
   "source": [
    "#### 1. Identificar la subestructura óptima\n",
    "\n",
    "Supongamos que el límite de peso actual es $W$. Comprometámonos a remover uno de los ítems disponibles y veamos qué queda por hacer.\n",
    "\n",
    "   1. Supongamos que decidimos remover el ítem $j$.\n",
    "   2. Ahora necesitamos resolver el mismo problema pero para un límite de peso $W - w_j$. Si se obtiene la solución para este subproblema, entonces la solución del problema original es tomar la solución para $W - w_j$ y agregarle el ítem $j$.\n",
    "\n",
    "De esta forma, vemos que el problema tiene una subestructura óptima.\n",
    "\n",
    "#### 2. Recurrencia\n",
    "\n",
    "$$\\text{maxRemovido}(W) = \\max\\ \\left\\{ \\begin{array}{ll}\n",
    "0 & \\leftarrow \\ \\text{¡Elegir no remover nada y detenerse!}\\\\\n",
    "v_1 + \\text{maxRemovido}(W - w_1) & \\leftarrow \\ \\text{Elegir una unidad del ítem } 1 \\\\\n",
    "v_2 + \\text{maxRemovido}(W - w_2) & \\leftarrow \\ \\text{Elegir una unidad del ítem } 2 \\\\\n",
    "\\vdots & \\\\\n",
    "v_k + \\text{maxRemovido}(W - w_k) & \\leftarrow \\ \\text{Elegir una unidad del ítem } k\\\\\n",
    "\\end{array} \\right.$$\n",
    "\n",
    "Caso Base:\n",
    "\n",
    "  * $\\text{maxRemovido}(0) = 0$\n",
    "  * $\\text{maxRemovido}(W) = -\\infty$ si $W < 0$.\n"
   ]
  },
  {
   "cell_type": "code",
   "execution_count": null,
   "metadata": {
    "id": "CfnsWTifyi8f"
   },
   "outputs": [],
   "source": [
    "def maxRemovido(W, pesos, valores):\n",
    "    if W == 0:\n",
    "        return 0\n",
    "    if W < 0:\n",
    "        return -float('inf')\n",
    "    k = len(pesos)\n",
    "    assert len(valores) == k\n",
    "    opts = [ valores[i] + maxRemovido(W - pesos[i], pesos, valores) for i in range(k) ]\n",
    "    return max(opts)"
   ]
  },
  {
   "cell_type": "code",
   "execution_count": null,
   "metadata": {
    "colab": {
     "base_uri": "https://localhost:8080/"
    },
    "executionInfo": {
     "elapsed": 131,
     "status": "ok",
     "timestamp": 1648496615840,
     "user": {
      "displayName": "Sriram Sankaranarayanan",
      "userId": "12264367605776763929"
     },
     "user_tz": 360
    },
    "id": "U4N5P9lLyi8g",
    "outputId": "ecc7be1b-dc33-41ac-dcff-be1b72c39d57"
   },
   "outputs": [],
   "source": [
    "print(maxRemovido(25, pesos, valores))\n",
    "# ADVERTENCIA: Esto se ejecutará durante mucho tiempo.\n",
    "#print(maxRemovido(W, pesos, valores))"
   ]
  },
  {
   "cell_type": "markdown",
   "metadata": {
    "id": "0GmQMsn9yi8g"
   },
   "source": [
    "#### 3. Memoización\n",
    "\n",
    "La memoización es muy sencilla. Creamos una tabla $T[0], \\ldots, T[W]$ para almacenar $\\text{maxRemovido}(j)$ para $j$ que varía de $0$ a $W$.\n",
    "El resto sigue la estructura de la recurrencia, teniendo cuidado de manejar por separado los valores negativos de peso.\n",
    "\n",
    "#### 4. Recuperar la solución\n",
    "\n",
    "Almacenamos en una tabla separada $S[0], \\ldots, S[W]$ qué opción nos proporciona el mejor valor."
   ]
  },
  {
   "cell_type": "code",
   "execution_count": null,
   "metadata": {
    "id": "66ilYOwVyi8g"
   },
   "outputs": [],
   "source": [
    "def memo_maxRemovido(W, pesos, valores):\n",
    "    # Inicializar las tablas\n",
    "    T = [0] * (W+1)\n",
    "    S = [-1] * (W+1)\n",
    "    k = len(pesos)\n",
    "    assert len(valores) == k\n",
    "    for w in range(1, W+1):\n",
    "        opts = [((valores[i] + T[w - pesos[i]]), i) for i in range(k) if w - pesos[i] >= 0]\n",
    "        opts.append((-float('inf'), -1))  # En caso de que opts esté vacío en el paso anterior.\n",
    "        T[w], S[w] = max(opts)\n",
    "    # Esto finaliza el cálculo\n",
    "    rem_item_ids= []\n",
    "    weight_remaining = W\n",
    "    while weight_remaining >= 0:\n",
    "        item_id = S[weight_remaining]\n",
    "        if item_id >= 0:\n",
    "            rem_item_ids.append('Remover ítem ID %d: peso = %d, valor = %f' % (item_id, pesos[item_id], valores[item_id]))\n",
    "            weight_remaining = weight_remaining - pesos[item_id]\n",
    "        else:\n",
    "            break\n",
    "    return T[W], rem_item_ids"
   ]
  },
  {
   "cell_type": "code",
   "execution_count": null,
   "metadata": {
    "colab": {
     "base_uri": "https://localhost:8080/"
    },
    "executionInfo": {
     "elapsed": 114,
     "status": "ok",
     "timestamp": 1648496637433,
     "user": {
      "displayName": "Sriram Sankaranarayanan",
      "userId": "12264367605776763929"
     },
     "user_tz": 360
    },
    "id": "dh5c5ZWyyi8h",
    "outputId": "a153fcf6-bd3a-40ae-c9c6-d322124eae12"
   },
   "outputs": [],
   "source": [
    "print(memo_maxRemovido(25, pesos, valores))\n",
    "print(memo_maxRemovido(W, pesos, valores))"
   ]
  },
  {
   "cell_type": "markdown",
   "metadata": {},
   "source": [
    "#### Comentarios\n",
    "\n",
    "\n",
    "El problema de la mochila es un problema clásico de optimización combinatoria en el que se tiene un conjunto de ítems, cada uno con un peso $ w_i $ y un valor $ v_i $, y se desea seleccionar una combinación de estos ítems de tal manera que:\n",
    "1. La suma total de los pesos de los ítems seleccionados no exceda la capacidad $ W $ de la mochila.\n",
    "2. La suma de los valores de los ítems seleccionados sea lo mayor posible.\n",
    "\n",
    "Existen varias versiones del problema. En el ejemplo del código se trabajan dos variantes:\n",
    "\n",
    "1. **Mochila 0-1**: Cada ítem puede ser tomado o no tomado (se representa con una decisión binaria: incluir o no incluir el ítem).  \n",
    "2. **Mochila con ítems ilimitados**: Se permite tomar cada ítem tantas veces como se desee, siempre y cuando se cumpla la restricción de capacidad.\n",
    "\n",
    "La versión 0-1 es la que se usa con más frecuencia para ilustrar la aplicación de la programación dinámica. El código muestra cómo se puede definir una función recursiva que, en cada llamada, evalúa si incluir o excluir el ítem actual, basándose en la subestructura óptima del problema.\n",
    "\n",
    "\n",
    "Para la versión 0-1, el problema se puede formular recursivamente. La función $\\text{maxValorRetirado}(W, j)$ representa el valor máximo que se puede obtener con un límite de peso $ W $ considerando únicamente los ítems a partir del índice $ j $. La recursión se basa en dos decisiones fundamentales para cada ítem $ j $:\n",
    "\n",
    "1. **Incluir el ítem $ j $**: Si se decide tomar el ítem, se suma su valor $ v_j $ y se reduce la capacidad en $ w_j $, resolviendo el subproblema $\\text{maxValorRetirado}(W - w_j, j+1)$.\n",
    "2. **Omitir el ítem $ j $**: Si no se incluye el ítem, se conserva la capacidad $ W $ y se continúa con el siguiente ítem, es decir, se evalúa $\\text{maxValorRetirado}(W, j+1)$.\n",
    "\n",
    "Esta relación se expresa formalmente en la recursión:\n",
    "\n",
    "$$\n",
    "\\text{maxValorRetirado}(W, j) = \\max\\left\\{\n",
    "\\begin{array}{ll}\n",
    "v_j + \\text{maxValorRetirado}(W - w_j, j+1) & \\quad \\text{(incluir el ítem $ j $)} \\\\\n",
    "\\text{maxValorRetirado}(W, j+1) & \\quad \\text{(omitir el ítem $ j $)}\n",
    "\\end{array}\n",
    "\\right.\n",
    "$$\n",
    "\n",
    "Además, se establecen casos base para detener la recursión:\n",
    "- Si $ W = 0 $, la capacidad se ha agotado y no se puede obtener ningún valor adicional, por lo que se retorna 0.\n",
    "- Si $ W < 0 $, se ha excedido la capacidad de la mochila, y se retorna $-\\infty$ (o un valor que indique que esta opción es inviable).\n",
    "- Si $ j $ excede el número de ítems disponibles, se retorna 0, ya que no hay más decisiones que tomar.\n",
    "\n",
    "El código inicial implementa esta idea en la función `maxValorRetirado(W, j, pesos, valores)`, en la que se evalúan recursivamente las dos posibilidades para cada ítem.\n",
    "\n",
    "\n",
    "\n",
    "Una de las dificultades de la formulación recursiva directa es que puede haber cálculos repetidos, ya que el subproblema $\\text{maxValorRetirado}(W', j')$ puede evaluarse múltiples veces para los mismos parámetros $W'$ y $j'$. La técnica de **memoización** resuelve este inconveniente almacenando en una tabla los resultados ya computados, evitando recomputaciones y reduciendo de manera drástica el número de llamadas recursivas.\n",
    "\n",
    "En el código se observa la función `memoizedMaxValorRetirado(W, pesos, valores)` que implementa la técnica de programación dinámica mediante el llenado de una tabla bidimensional $ T[w][j] $ (y otra tabla auxiliar $ S[w][j] $ para la reconstrucción de la solución). Se recorre la tabla en dos bucles anidados:\n",
    "- El bucle externo recorre todos los valores de $ w $ de 1 a $ W $ en orden ascendente.\n",
    "- El bucle interno recorre los ítems en orden descendente, desde el último ítem hasta el primero.\n",
    "\n",
    "De esta forma, para cada combinación de capacidad $ w $ e ítem $ j $, se evalúan las dos posibilidades (incluir u omitir el ítem) y se almacena el mejor resultado. La tabla $ S $ permite recuperar, posteriormente, la lista de ítems que se deben seleccionar para alcanzar el valor óptimo.\n",
    "\n",
    "**Complejidad pseudopolinómica**\n",
    "\n",
    "Uno de los aspectos más interesantes del algoritmo de programación dinámica para el problema de la mochila es que su complejidad es **seudopolinómica**. En concreto, el algoritmo tiene una complejidad de $ O(n W) $, donde $n$ es el número de ítems y $W$ es la capacidad máxima de la mochila.\n",
    "\n",
    "La razón por la que decimos que la complejidad es pseudopolinómica es que $W $ es un valor numérico de entrada y puede ser muy grande en términos de su magnitud, pero su representación en bits es del orden de $\\log W$. Por lo tanto, aunque el algoritmo es polinómico en $n$ y $W$, en realidad no es polinómico en el tamaño de la representación binaria de la entrada. Esto significa que el algoritmo de programación dinámica es eficiente cuando $W$ es pequeño o moderado, pero puede volverse ineficiente si $W$ es muy grande, ya que el tiempo de ejecución dependerá linealmente de este valor numérico.\n",
    "\n",
    "Esta dependencia se debe a que se requiere llenar una tabla con $W+1$ filas, y cada entrada de la tabla se calcula mediante una operación que involucra la iteración sobre los $ n $ ítems. Por tanto, el número total de operaciones es proporcional a $ (W+1) \\times n $.\n",
    "\n",
    "**NP-hard del problema de la mochila**\n",
    "\n",
    "El problema de la mochila 0-1 es conocido por ser NP-hard, lo que significa que, a menos que $ \\text{P} = \\text{NP} $, no existe un algoritmo exacto que lo resuelva en tiempo polinómico con respecto al tamaño de la entrada (en particular, respecto a la cantidad de bits necesarios para representar $W$ y los pesos). La dificultad radica en el hecho de que, en el peor caso, la cantidad de posibles subconjuntos de ítems es $2^n$, y un algoritmo ingenuo que evalúe todas las combinaciones tendría una complejidad exponencial.\n",
    "\n",
    "La programación dinámica consigue un tiempo de $O(nW)$ que es eficiente cuando $W$ es pequeño, pero este algoritmo es pseudopolinómico. Esto es una distinción importante: la eficiencia se mide en función del valor numérico $W$ y no en función de la longitud de la representación binaria de $ W $ (que es aproximadamente $\\log W$). Por ello, en casos en que $W$ es grande, la programación dinámica puede resultar impracticable, a pesar de que el número de ítems $n$ sea moderado.\n",
    "\n",
    "El carácter NP-hard implica que para obtener algoritmos exactos que funcionen en tiempo polinómico en todas las instancias es poco probable que se encuentre una solución, y por ello se recurre a algoritmos aproximados o heurísticos.\n",
    "\n",
    "Ante la dificultad intrínseca de los problemas NP-hard, se han desarrollado algoritmos de aproximación que pueden encontrar soluciones \"cercanas\" al óptimo en tiempo polinómico. En el contexto del problema de la mochila, uno de los enfoques más destacados es el **FPTAS** (Fully Polynomial-Time Approximation Scheme).\n",
    "\n",
    "Un FPTAS es un esquema de aproximación que, para cualquier $\\epsilon > 0$, garantiza encontrar una solución cuya calidad es al menos $ (1 - \\epsilon) $ de la óptima, y lo hace en tiempo polinómico en $ n $ y $ 1/\\epsilon $. La idea principal detrás del FPTAS para la mochila es la siguiente:\n",
    "\n",
    "- Se realiza una transformación de los valores de los ítems escalándolos y redondeándolos de manera que se reduzca el rango de valores.\n",
    "- Con estos valores modificados, se aplica la programación dinámica, la cual operará en un espacio reducido.\n",
    "- La solución obtenida, aunque aproximada, estará dentro de un factor $ (1 - \\epsilon) $ del óptimo.\n",
    "\n",
    "\n",
    "Otra estrategia para abordar el problema de la mochila, en especial cuando se busca una solución exacta, es el uso de **algoritmos de ramificación y poda (branch-bound)**. Este método consiste en explorar de manera sistemática el espacio de soluciones (por ejemplo, el árbol de decisiones de incluir o excluir cada ítem) y utilizar cotas superiores para descartar ramas del árbol que no pueden producir una solución mejor que la ya encontrada.\n",
    "\n",
    "El proceso de branch- bound se puede resumir en los siguientes pasos\n",
    "\n",
    "1. **Ramificación**: Se divide el problema en subproblemas más pequeños, generando un árbol de decisiones. Cada nodo del árbol representa una decisión parcial (por ejemplo, haber decidido incluir o excluir ciertos ítems).\n",
    "2. **Cálculo de cotas superiores**: Para cada nodo, se calcula una cota superior que indica el máximo valor que se podría alcanzar si se completara la solución de manera óptima desde ese nodo.\n",
    "3. **Poda**: Si la cota superior de un nodo es menor que el valor de la mejor solución encontrada hasta el momento, se descarta (se poda) esa rama, ya que no es necesario explorarla en su totalidad.\n",
    "\n",
    "Este método puede ser muy eficiente en la práctica para muchas instancias del problema de la mochila, ya que evita explorar partes del espacio de soluciones que no conducirán a mejoras. Sin embargo, en el peor de los casos, la complejidad sigue siendo exponencial.\n",
    "\n",
    "\n",
    "Debido a la complejidad del problema de la mochila, en particular en sus versiones NP-hard, se han desarrollado **heurísticas** y **metaheurísticas** que permiten encontrar soluciones de buena calidad en tiempos razonables, sin garantizar la optimalidad.\n",
    "\n",
    "\n",
    "Una heurística clásica para la mochila consiste en utilizar un criterio voraz basado en la relación valor/peso de cada ítem. El procedimiento es el siguiente:\n",
    "\n",
    "- Se ordenan los ítems en función de la razón $ \\frac{v_i}{w_i} $ de forma descendente.\n",
    "- Se recorre la lista ordenada, añadiendo cada ítem a la mochila siempre que la capacidad restante lo permita.\n",
    "\n",
    "Esta heurística es muy rápida (con una complejidad de $ O(n \\log n) $ debido al ordenamiento) y en muchos casos produce soluciones razonables. Sin embargo, no siempre se alcanza el valor óptimo, especialmente en casos donde la estructura de los ítems no se ajusta bien a este criterio.\n",
    "\n",
    "\n",
    "\n",
    "Cuando las heurísticas simples no son suficientes o se requiere explorar el espacio de soluciones de manera más exhaustiva, se pueden emplear **metaheurísticas** como:\n",
    "\n",
    "- **Algoritmos genéticos**: Estos algoritmos imitan el proceso de evolución natural, generando una población de soluciones, evaluando su \"aptitud\" y utilizando operaciones de cruzamiento y mutación para generar nuevas soluciones. Con el tiempo, la población evoluciona hacia soluciones de mayor calidad.\n",
    "- **Búsqueda local y recocido simulado (Simulated Annealing)**: Estas técnicas parten de una solución inicial y exploran el vecindario de soluciones posibles, aceptando, en algunos casos, soluciones peores con la esperanza de escapar de óptimos locales y encontrar mejores soluciones globalmente.\n",
    "- **Optimización por colonia de hormigas o algoritmos de enjambre**: Inspirados en comportamientos naturales, estos algoritmos simulan la interacción de agentes (como hormigas o partículas) que exploran el espacio de soluciones y comparten información para converger hacia buenas soluciones.\n",
    "\n",
    "Las metaheurísticas son especialmente útiles cuando el problema de la mochila se extiende a versiones más complejas (por ejemplo, la mochila multidimensional o con restricciones adicionales) o cuando el tamaño de la instancia es tan grande que los métodos exactos se vuelven impracticables.\n",
    "\n",
    "\n",
    "\n",
    ">Un aspecto fundamental al analizar la complejidad del algoritmo de programación dinámica es la forma en que se representa el parámetro $W$ (la capacidad de la mochila). Si $W$ se proporciona en forma de un número entero, la complejidad del algoritmo es $ O(n W) $. Sin embargo, si observamos el tamaño real de la entrada, en términos de bits, $W$ se representa en binario utilizando aproximadamente $\\log W$ bits.\n",
    "\n",
    ">Esta diferencia implica que, aunque el algoritmo es \"polinómico\" en $W$ (es decir, en la magnitud del número), es **seudopolinómico** respecto al tamaño de la entrada. En otras palabras, el tiempo de ejecución del algoritmo no es polinómico en la longitud de la representación binaria de $ W $, lo cual es una característica clave de muchos problemas NP-hard. Por ello, para instancias en las que $W$ es muy grande, la programación dinámica puede volverse ineficiente, lo que motiva el uso de algoritmos de aproximación (como el FPTAS) o estrategias heurísticas que operen en tiempo polinomial respecto al tamaño en bits de la entrada.\n",
    "\n",
    "\n",
    "La explicación y el código permiten apreciar cómo un problema NP-hard como la mochila puede abordarse mediante diferentes estrategias. La programación dinámica exacta es una herramienta poderosa cuando el parámetro $ W $ es manejable, ya que se explotan las propiedades de subestructura óptima y superposición de subproblemas. Sin embargo, su complejidad seudopolinómica limita su aplicabilidad a instancias con $ W $ moderado.\n",
    "\n",
    "\n",
    "\n",
    "Un aspecto central en el análisis de la complejidad del problema de la mochila es comprender la diferencia entre la complejidad en función del valor numérico $ W $ y la complejidad en función del tamaño de la representación binaria de $ W $. En la práctica, cuando se dice que un algoritmo es $ O(n W) $, se asume que $ W $ es una entrada numérica. No obstante, si consideramos que $ W $ se representa en binario, el número de bits necesarios es aproximadamente $\\log W$. Esto significa que, en términos de la longitud de la entrada, el algoritmo de programación dinámica tiene una complejidad exponencial, ya que $ W $ puede ser exponencial en $\\log W$.\n",
    "\n",
    "Esta distinción es la razón por la que se clasifica el algoritmo como pseudopolinómico: es eficiente para ciertos rangos de $ W $, pero no se puede considerar un algoritmo polinómico en el sentido clásico (es decir, polinómico en el tamaño total de la representación de la entrada). Este detalle es crucial en el estudio de problemas NP-hard, ya que muchas técnicas de optimización exacta dependen de parámetros numéricos que, aunque pequeños en valor, pueden tener una representación binaria muy compacta.\n"
   ]
  },
  {
   "cell_type": "markdown",
   "metadata": {},
   "source": [
    "### Ejercicios \n",
    "\n",
    "1. **Trazado de recurrencia y árbol de recursión:**\n",
    "   - **Ejercicio:** Para un conjunto de ítems con `W = 20`, `pesos = [1, 5, 20, 35, 90]` y `valores = [15, 14.5, 19.2, 19.8, 195.2]`, traza el árbol de llamadas recursivas que realiza la función `maxValorRetirado`.  Identifica las subestructuras óptimas y los casos base, y entender cómo se exploran las posibles combinaciones.\n",
    "   \n",
    "2. **Análisis de complejidad:**\n",
    "   - **Ejercicio:** Analiza la complejidad temporal de la versión recursiva pura de `maxValorRetirado` y compárala con la versión memoizada (`memoizedMaxValorRetirado`).  Discute el efecto de la memoización sobre la reducción del número de cálculos repetidos y explicar por qué la versión recursiva tiene una complejidad exponencial.\n",
    "\n",
    "3. **Recuperación de la solución:**\n",
    "   - **Ejercicio:** Modifica la función `memoizedMaxValorRetirado` para que, además de imprimir los ítems seleccionados, retorne una lista de tuplas con (ítem, peso, valor).  \n",
    "\n",
    "4. **Validación de resultados:**\n",
    "   - **Ejercicio:** Ejecuta `memoizedMaxValorRetirado` con diferentes valores de `W` (por ejemplo, 50, 100 y 200) y verifica manualmente (o con cálculos auxiliares) que la solución encontrada respeta el límite de peso y maximiza el valor.  Comprende la robustez del algoritmo ante distintos escenarios y cómo cambia la selección de ítems.\n",
    "\n",
    "5. **Trazado y análisis de la recurrencia:**\n",
    "   - **Ejercicio:** Para `W = 25` con los mismos vectores de `pesos` y `valores`, traza la recurrencia de la función `maxRemovido` y discute qué combinaciones de ítems llevan al valor óptimo.  Identifica cómo se resuelve el problema cuando se pueden usar múltiples unidades de cada ítem.\n",
    "\n",
    "6. **Memoización y recuperación de la solución:**\n",
    "   - **Ejercicio:** La función `memo_maxRemovido` recupera la solución en forma de lista de mensajes. Modifica la función para que retorne un vector de cantidades `[n_1, n_2, ..., n_k]`, donde cada `n_i` indica cuántas veces se seleccionó el ítem i.  Profundiza en la recuperación de la solución en problemas de programación dinámica y practicar el manejo de estructuras de datos.\n",
    "\n",
    "7. **Comparación de estrategias:**\n",
    "   - **Ejercicio:** Discute las diferencias entre la solución para la mochila 0-1 y la solución para la mochila con número ilimitado de ítems. ¿En qué escenarios del mundo real podría ser más adecuado cada modelo?. Desarrolla una visión crítica sobre la aplicabilidad de cada enfoque y entender la diferencia en la restricción del número de ítems.\n",
    "\n",
    "8. **Optimización del algoritmo:**\n",
    "   - **Ejercicio:** Investiga cómo se puede reducir el espacio de memoria en la versión de la mochila con número ilimitado de ítems. ¿Es posible utilizar una única lista unidimensional en lugar de dos listas (T y S)? Implementa la versión optimizada y compárala en términos de rendimiento.  \n",
    "9. **Extensión del problema:**\n",
    "   - **Ejercicio:** Considera el caso en el que algunos ítems tengan restricciones adicionales (por ejemplo, ciertos ítems solo pueden tomarse si se toma otro ítem). Propón cómo modificar la recurrencia y la memoización para incorporar estas restricciones adicionales.  \n",
    "\n",
    "10. **Análisis comparativo:**\n",
    "    - **Ejercicio:** Escribe un informe breve comparando las técnicas de fuerza bruta, recursión pura, memoización y programación dinámica en el contexto de estos dos problemas. ¿Cuáles son las ventajas y desventajas de cada enfoque?  "
   ]
  },
  {
   "cell_type": "code",
   "execution_count": null,
   "metadata": {},
   "outputs": [],
   "source": [
    "## Tus respuestas"
   ]
  }
 ],
 "metadata": {
  "colab": {
   "provenance": []
  },
  "kernelspec": {
   "display_name": "Python 3 (ipykernel)",
   "language": "python",
   "name": "python3"
  },
  "language_info": {
   "codemirror_mode": {
    "name": "ipython",
    "version": 3
   },
   "file_extension": ".py",
   "mimetype": "text/x-python",
   "name": "python",
   "nbconvert_exporter": "python",
   "pygments_lexer": "ipython3",
   "version": "3.12.4"
  }
 },
 "nbformat": 4,
 "nbformat_minor": 4
}
