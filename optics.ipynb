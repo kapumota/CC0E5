{
 "cells": [
  {
   "cell_type": "markdown",
   "metadata": {},
   "source": [
    "### **OPTICS**\n"
   ]
  },
  {
   "cell_type": "markdown",
   "metadata": {},
   "source": [
    "#### **Importaciones**"
   ]
  },
  {
   "cell_type": "code",
   "execution_count": null,
   "metadata": {},
   "outputs": [],
   "source": [
    "import heapq\n",
    "import math\n",
    "import matplotlib.colors as mcolors\n",
    "from itertools import groupby\n",
    "from matplotlib import pyplot as plt\n",
    "from random import randrange, random\n",
    "from scipy.spatial import KDTree\n",
    "from typing import List, Optional, Tuple"
   ]
  },
  {
   "cell_type": "markdown",
   "metadata": {},
   "source": [
    "#### **Algoritmo**"
   ]
  },
  {
   "cell_type": "code",
   "execution_count": null,
   "metadata": {},
   "outputs": [],
   "source": [
    "NOISE = -1"
   ]
  },
  {
   "cell_type": "code",
   "execution_count": null,
   "metadata": {},
   "outputs": [],
   "source": [
    "def optics(points: List[Tuple[float, float]], eps: float, min_points: int) -> Tuple[List[Optional[float]], List[int]]:\n",
    "    \"\"\"\n",
    "    Ejecuta OPTICS sobre los puntos dados.\n",
    "\n",
    "    Parámetros:\n",
    "        points: lista de tuplas (x, y) con las coordenadas de los puntos.\n",
    "        eps: radio máximo para considerar vecinos.\n",
    "        min_points: número mínimo de puntos para definir un punto core.\n",
    "\n",
    "    Retorna:\n",
    "        reachability_distances: lista con la distancia de alcanzabilidad de cada punto (None si es noise o border).\n",
    "        ordering: orden en que los puntos fueron procesados.\n",
    "    \"\"\"\n",
    "    def core_distance(distances: List[float]) -> Optional[float]:\n",
    "        # Si hay menos vecinos que min_points, no hay distancia core.\n",
    "        if len(distances) < min_points:\n",
    "            return None\n",
    "        # La distancia core es la (min_points-ésima) menor distancia.\n",
    "        return sorted(distances)[min_points - 1]\n",
    "\n",
    "    def update(neighbors: List[int], distances: List[float], seeds: List[Tuple[float, int]]):\n",
    "        # Calcula la distancia core del punto actual.\n",
    "        core_dist = core_distance(distances)\n",
    "        if core_dist is None:\n",
    "            # Sin distancia core, no se extiende el reachability.\n",
    "            return seeds\n",
    "\n",
    "        # Para cada vecino, actualiza su distancia de alcanzabilidad.\n",
    "        for q, dist in zip(neighbors, distances):\n",
    "            if not processed[q]:\n",
    "                # La nueva reachability es el máximo entre core_dist y la distancia al vecino.\n",
    "                new_r = max(core_dist, dist)\n",
    "                old_r = reachability_distances[q]\n",
    "                if old_r is None:\n",
    "                    # Si no tenía valor previo, se asigna y se agrega a la semilla.\n",
    "                    reachability_distances[q] = new_r\n",
    "                    heapq.heappush(seeds, (new_r, q))\n",
    "                elif new_r < old_r:\n",
    "                    # Si la nueva reachability es mejor, se actualiza en el heap.\n",
    "                    reachability_distances[q] = new_r\n",
    "                    for i, (_, idx) in enumerate(seeds):\n",
    "                        if idx == q:\n",
    "                            seeds[i] = (new_r, q)\n",
    "                            break\n",
    "                    heapq.heapify(seeds)\n",
    "        return seeds\n",
    "\n",
    "    # Inicializa estructuras de datos.\n",
    "    n = len(points)\n",
    "    processed = [False] * n\n",
    "    reachability_distances: List[Optional[float]] = [None] * n\n",
    "    tree = KDTree(points)\n",
    "    ordering: List[int] = []\n",
    "\n",
    "    # Recorre todos los puntos.\n",
    "    for p in range(n):\n",
    "        if processed[p]:\n",
    "            continue\n",
    "        processed[p] = True\n",
    "\n",
    "        # Encuentra todos los vecinos dentro del radio eps.\n",
    "        nbrs = tree.query_ball_point(points[p], r=eps)\n",
    "        # Calcula distancias reales a cada vecino.\n",
    "        nbr_dists = [math.dist(points[p], points[q]) for q in nbrs]\n",
    "\n",
    "        # Si el punto es core (tiene core_distance), inicia expansión.\n",
    "        if core_distance(nbr_dists) is not None:\n",
    "            ordering.append(p)\n",
    "            seeds: List[Tuple[float, int]] = []\n",
    "            seeds = update(nbrs, nbr_dists, seeds)\n",
    "            while seeds:\n",
    "                _, q = heapq.heappop(seeds)\n",
    "                if processed[q]:\n",
    "                    continue\n",
    "                processed[q] = True\n",
    "                ordering.append(q)\n",
    "\n",
    "                # Expande desde el nuevo punto q.\n",
    "                q_nbrs = tree.query_ball_point(points[q], r=eps)\n",
    "                q_dists = [math.dist(points[q], points[i]) for i in q_nbrs]\n",
    "                if core_distance(q_dists) is not None:\n",
    "                    seeds = update(q_nbrs, q_dists, seeds)\n",
    "        else:\n",
    "            # Punto border o noise: distancia de alcanzabilidad indefinida.\n",
    "            reachability_distances[p] = None\n",
    "\n",
    "    return reachability_distances, ordering"
   ]
  },
  {
   "cell_type": "code",
   "execution_count": null,
   "metadata": {},
   "outputs": [],
   "source": [
    "def optics_to_clusters(ordering: List[int], reachability_distances: List[Optional[float]], eps: float) -> List[int]:\n",
    "    n = len(ordering)\n",
    "    labels = [NOISE] * len(ordering)\n",
    "    cluster_id = 0\n",
    "\n",
    "    for idx in range(n):\n",
    "        point = ordering[idx]\n",
    "        r = reachability_distances[point]\n",
    "        if r is None or r > eps:\n",
    "            # Iniciar un nuevo clúster solo si el punto anterior pertenecía a un clúster\n",
    "            if idx > 0:\n",
    "                prev = ordering[idx - 1]\n",
    "                if reachability_distances[prev] is not None and reachability_distances[prev] <= eps:\n",
    "                    cluster_id += 1\n",
    "            labels[point] = NOISE\n",
    "        else:\n",
    "            labels[point] = cluster_id\n",
    "\n",
    "    return labels"
   ]
  },
  {
   "cell_type": "markdown",
   "metadata": {},
   "source": [
    "#### **Creación de datos**"
   ]
  },
  {
   "cell_type": "code",
   "execution_count": null,
   "metadata": {},
   "outputs": [],
   "source": [
    "def create_spherical_cluster(centroid, radius, n):\n",
    "    pts = []\n",
    "    for _ in range(n):\n",
    "        a = random() * 2*math.pi\n",
    "        r = radius * math.sqrt(random())\n",
    "        pts.append((centroid[0] + r*math.cos(a), centroid[1] + r*math.sin(a)))\n",
    "    return pts"
   ]
  },
  {
   "cell_type": "markdown",
   "metadata": {},
   "source": [
    "#### **Visualización**"
   ]
  },
  {
   "cell_type": "code",
   "execution_count": null,
   "metadata": {},
   "outputs": [],
   "source": [
    "def plot_clusters(points: List[Tuple[float, float]], labels: List[int], ax):\n",
    "    clusters = groupby(sorted(range(len(points)), key=lambda i: labels[i]), key=lambda i: labels[i])\n",
    "    unique = sorted(set(labels))\n",
    "    colors = ['k'] + list(mcolors.TABLEAU_COLORS.keys())\n",
    "    markers = ['x', 'o', 's', 'p', '*', 'h', 'H', 'X', 'D', 'd']\n",
    "    for label, group in clusters:\n",
    "        pts = [points[i] for i in group]\n",
    "        xs, ys = zip(*pts)\n",
    "        color = colors[unique.index(label) % len(colors)]\n",
    "        marker = markers[unique.index(label) % len(markers)]\n",
    "        ax.plot(xs, ys, linestyle='none', marker=marker, markersize=8,\n",
    "                markerfacecolor=color, markeredgecolor='k')"
   ]
  },
  {
   "cell_type": "code",
   "execution_count": null,
   "metadata": {},
   "outputs": [],
   "source": [
    "def plot_reachability(ax, ordering: List[int], reachability_distances: List[Optional[float]], labels: List[int], eps: float):\n",
    "    rd = [d if d is not None else 2*eps for d in reachability_distances]\n",
    "    xs = list(range(len(ordering)))\n",
    "    # fill per-cluster\n",
    "    for lbl in sorted(set(labels)):\n",
    "        ys = [rd[ordering[i]] if labels[ordering[i]] == lbl else 0 for i in xs]\n",
    "        color = mcolors.TABLEAU_COLORS[list(mcolors.TABLEAU_COLORS.keys())[lbl % len(mcolors.TABLEAU_COLORS)]]\n",
    "        ax.fill_between(xs, 0, ys, facecolor=color, step='pre', alpha=0.6)\n",
    "    ax.axhline(eps, color='r', linestyle='--')\n",
    "    ax.set_ylabel('Reachability')\n",
    "    ax.set_xlabel('Ordering')"
   ]
  },
  {
   "cell_type": "code",
   "execution_count": null,
   "metadata": {},
   "outputs": [],
   "source": [
    "def reachability_plot(points: List[Tuple[float, float]], ordering: List[int],\n",
    "                      reachability_distances: List[Optional[float]], eps: float):\n",
    "    labels = optics_to_clusters(ordering, reachability_distances, eps)\n",
    "    fig, (ax1, ax2) = plt.subplots(2, 1, figsize=(10, 8))\n",
    "    fig.suptitle(f'OPTICS (eps={eps})')\n",
    "    plot_clusters(points, labels, ax1)\n",
    "    plot_reachability(ax2, ordering, reachability_distances, labels, eps)\n",
    "    plt.tight_layout(rect=[0, 0.03, 1, 0.95])\n",
    "    plt.show()"
   ]
  },
  {
   "cell_type": "markdown",
   "metadata": {},
   "source": [
    "#### **Experimentos**"
   ]
  },
  {
   "cell_type": "code",
   "execution_count": null,
   "metadata": {},
   "outputs": [],
   "source": [
    "C5 = (\n",
    "        create_spherical_cluster((-2, 0), 2, 50) +\n",
    "        create_spherical_cluster((2, 2), 0.5, 20) +\n",
    "        create_spherical_cluster((2, 0.78), 0.25, 10)\n",
    "    )"
   ]
  },
  {
   "cell_type": "code",
   "execution_count": null,
   "metadata": {},
   "outputs": [],
   "source": [
    "# Ejecuta OPTICS una sola vez\n",
    "reachability_distances, ordering = optics(points=C5, eps=2.0, min_points=5)"
   ]
  },
  {
   "cell_type": "code",
   "execution_count": null,
   "metadata": {},
   "outputs": [],
   "source": [
    "for eps in [0.4, 0.1, 0.6, 1.0]:\n",
    "    print(f\"\\nGenerando gráficos para eps = {eps}\")\n",
    "    reachability_plot(C5, ordering, reachability_distances, eps)"
   ]
  },
  {
   "cell_type": "markdown",
   "metadata": {},
   "source": [
    "#### **Ejercicios**\n",
    "\n",
    "1. **Experimentación de parámetros**: Prueba diferentes combinaciones de `eps` y `min_points` sobre distintos datasets sintéticos (esféricos, anillos, mezclas Gaussianas). Observa cómo varía la forma de los clusters y la cantidad de puntos etiquetados como ruido.\n",
    "\n",
    "2. **Tests unitarios de `core_distance`**: Implementa pruebas que verifiquen que:\n",
    "\n",
    "   * Cuando `distances` tiene menos elementos que `min_points`, retorna `None`.\n",
    "   * Cuando hay al menos `min_points` distancias, devuelve correctamente la k-ésima menor.\n",
    "\n",
    "3. **Optimización de la actualización del heap**: Refactoriza la función `update` para actualizar la prioridad en el heap de semillas sin usar `heapq.heapify`, por ejemplo usando una estructura de datos con actualización de clave más eficiente.\n",
    "\n",
    "4. **Umbrales variables por punto**: Modifica `optics_to_clusters` para aceptar un vector de umbrales `eps_i` distinto para cada punto, en lugar de un único `eps` global, y analiza el impacto en la formación de clusters.\n",
    "\n",
    "5. **Gráfico de benchmarking**: Extiende `benchmark_optics` para que:\n",
    "\n",
    "   * Recoga los tiempos medios de ejecución para varios tamaños de dataset.\n",
    "   * Dibuje un gráfico de línea (con matplotlib) que muestre el tiempo en función del número de puntos.\n",
    "\n",
    "6. **Comparativa con DBSCAN**\n",
    "   Utiliza `sklearn.cluster.DBSCAN` sobre los mismos datasets sintéticos y reales:\n",
    "\n",
    "   * Compara el número de clusters y puntos de ruido.\n",
    "   * Mide y grafica los tiempos de ejecución de ambos algoritmos.\n",
    "\n",
    "7. **Experimentación en 3D**\n",
    "\n",
    "   * Amplía `create_spherical_cluster` para generar puntos 3D.\n",
    "   * Adapta OPTICS para datos tridimensionales.\n",
    "   * Visualiza los resultados con un gráfico 3D de matplotlib y analiza las diferencias frente a 2D.\n",
    "\n",
    "8. **Sensibilidad de parámetros con heatmap**\n",
    "\n",
    "   * Define una rejilla de valores para `eps` y `min_points`.\n",
    "   * Para cada combinación, calcula una métrica de validación (por ejemplo, silhouette score).\n",
    "   * Representa los resultados en un heatmap para identificar regiones óptimas de parámetros.\n",
    "\n",
    "9. **OPTICS Online (streaming)**\n",
    "   Diseña una variante de OPTICS que procese puntos en streaming:\n",
    "\n",
    "   * Mantén y actualiza `reachability_distances` y `ordering` conforme llegan nuevos puntos.\n",
    "   * Compara su rendimiento y calidad de clusters frente a la versión batch.\n",
    "\n",
    "10. **Análisis de complejidad y optimización**\n",
    "\n",
    "    * Analiza la complejidad temporal y espacial de la implementación actual.\n",
    "    * Identifica cuellos de botella (por ejemplo, llamadas a KDTree o `heapq.heapify`).\n",
    "    * Propón optimizaciones (uso de BallTree, aproximaciones de vecinos, paralelismo) y mide su efecto.\n",
    "\n",
    "11. **Aplicación práctica con datos reales**\n",
    "    Elige un dataset real (por ejemplo, resultados de sensores, datos geoespaciales o de redes sociales):\n",
    "\n",
    "    * Aplica OPTICS y visualiza los clusters.\n",
    "    * Documenta hallazgos relevantes (por ejemplo, agrupamientos naturales o anomalías).\n",
    "    * Compara tus resultados con otro método de clustering (K-Means, GMM).\n",
    "\n",
    "\n"
   ]
  },
  {
   "cell_type": "code",
   "execution_count": null,
   "metadata": {},
   "outputs": [],
   "source": [
    "## Tus respuestas"
   ]
  }
 ],
 "metadata": {
  "kernelspec": {
   "display_name": "Python 3 (ipykernel)",
   "language": "python",
   "name": "python3"
  },
  "language_info": {
   "codemirror_mode": {
    "name": "ipython",
    "version": 3
   },
   "file_extension": ".py",
   "mimetype": "text/x-python",
   "name": "python",
   "nbconvert_exporter": "python",
   "pygments_lexer": "ipython3",
   "version": "3.12.3"
  }
 },
 "nbformat": 4,
 "nbformat_minor": 4
}
